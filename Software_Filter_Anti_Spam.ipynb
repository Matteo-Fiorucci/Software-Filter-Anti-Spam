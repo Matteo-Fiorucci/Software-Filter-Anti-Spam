{
  "nbformat": 4,
  "nbformat_minor": 0,
  "metadata": {
    "colab": {
      "provenance": [],
      "toc_visible": true
    },
    "kernelspec": {
      "name": "python3",
      "display_name": "Python 3"
    },
    "language_info": {
      "name": "python"
    }
  },
  "cells": [
    {
      "cell_type": "markdown",
      "source": [
        "# Import Libraries"
      ],
      "metadata": {
        "id": "dLesQgf6QaAr"
      }
    },
    {
      "cell_type": "code",
      "execution_count": null,
      "metadata": {
        "id": "kL-7DjIjNVFY",
        "collapsed": true
      },
      "outputs": [],
      "source": [
        "import pandas as pd\n",
        "import seaborn as sns\n",
        "import matplotlib.pyplot as plt\n",
        "import numpy as np\n",
        "\n",
        "#preprocessing\n",
        "from sklearn.preprocessing import LabelEncoder\n",
        "from sklearn.model_selection import train_test_split\n",
        "from sklearn.feature_extraction.text import CountVectorizer, TfidfVectorizer\n",
        "import re\n",
        "import nltk\n",
        "from nltk.corpus import stopwords as nltk_stopwords\n",
        "from nltk.tokenize import word_tokenize\n",
        "from nltk.stem import WordNetLemmatizer\n",
        "\n",
        "#model training\n",
        "from sklearn.linear_model import LogisticRegression\n",
        "from sklearn.naive_bayes import MultinomialNB, BernoulliNB, GaussianNB, ComplementNB\n",
        "from sklearn.metrics import log_loss, classification_report, confusion_matrix, accuracy_score, precision_score, recall_score, roc_auc_score, auc, roc_curve,RocCurveDisplay\n",
        "from imblearn.over_sampling import SMOTE\n",
        "from collections import Counter\n",
        "\n",
        "#dict\n",
        "import gensim\n",
        "from gensim.utils import simple_preprocess\n",
        "import gensim.corpora as corpora\n",
        "from pprint import pprint\n",
        "from gensim.models import Word2Vec\n",
        "import gensim.downloader\n",
        "from scipy.spatial.distance import cosine\n",
        "\n",
        "#visualization\n",
        "!pip install pyLDAvis\n",
        "import pyLDAvis.gensim_models as gensimvis\n",
        "import pyLDAvis\n",
        "\n",
        "#warning\n",
        "import warnings\n",
        "warnings.simplefilter(action='ignore', category=FutureWarning)"
      ]
    },
    {
      "cell_type": "markdown",
      "source": [
        "# Load Dataset"
      ],
      "metadata": {
        "id": "DKsqC96cQcN1"
      }
    },
    {
      "cell_type": "code",
      "source": [
        "PATH = 'https://raw.githubusercontent.com/ProfAI/natural-language-processing/refs/heads/main/datasets/Verifica%20Finale%20-%20Spam%20Detection/'\n",
        "\n",
        "dataset = pd.read_csv(PATH + 'spam_dataset.csv',index_col= 0)\n",
        "dataset.head()"
      ],
      "metadata": {
        "colab": {
          "base_uri": "https://localhost:8080/",
          "height": 206
        },
        "id": "wuFJR-uWNXgA",
        "outputId": "2ece5035-dddd-459a-ba8b-74eea9a3c0df"
      },
      "execution_count": null,
      "outputs": [
        {
          "output_type": "execute_result",
          "data": {
            "text/plain": [
              "     label                                               text  label_num\n",
              "605    ham  Subject: enron methanol ; meter # : 988291\\nth...          0\n",
              "2349   ham  Subject: hpl nom for january 9 , 2001\\n( see a...          0\n",
              "3624   ham  Subject: neon retreat\\nho ho ho , we ' re arou...          0\n",
              "4685  spam  Subject: photoshop , windows , office . cheap ...          1\n",
              "2030   ham  Subject: re : indian springs\\nthis deal is to ...          0"
            ],
            "text/html": [
              "\n",
              "  <div id=\"df-8e0ce1a0-b76a-4924-ae67-544c67b49ece\" class=\"colab-df-container\">\n",
              "    <div>\n",
              "<style scoped>\n",
              "    .dataframe tbody tr th:only-of-type {\n",
              "        vertical-align: middle;\n",
              "    }\n",
              "\n",
              "    .dataframe tbody tr th {\n",
              "        vertical-align: top;\n",
              "    }\n",
              "\n",
              "    .dataframe thead th {\n",
              "        text-align: right;\n",
              "    }\n",
              "</style>\n",
              "<table border=\"1\" class=\"dataframe\">\n",
              "  <thead>\n",
              "    <tr style=\"text-align: right;\">\n",
              "      <th></th>\n",
              "      <th>label</th>\n",
              "      <th>text</th>\n",
              "      <th>label_num</th>\n",
              "    </tr>\n",
              "  </thead>\n",
              "  <tbody>\n",
              "    <tr>\n",
              "      <th>605</th>\n",
              "      <td>ham</td>\n",
              "      <td>Subject: enron methanol ; meter # : 988291\\nth...</td>\n",
              "      <td>0</td>\n",
              "    </tr>\n",
              "    <tr>\n",
              "      <th>2349</th>\n",
              "      <td>ham</td>\n",
              "      <td>Subject: hpl nom for january 9 , 2001\\n( see a...</td>\n",
              "      <td>0</td>\n",
              "    </tr>\n",
              "    <tr>\n",
              "      <th>3624</th>\n",
              "      <td>ham</td>\n",
              "      <td>Subject: neon retreat\\nho ho ho , we ' re arou...</td>\n",
              "      <td>0</td>\n",
              "    </tr>\n",
              "    <tr>\n",
              "      <th>4685</th>\n",
              "      <td>spam</td>\n",
              "      <td>Subject: photoshop , windows , office . cheap ...</td>\n",
              "      <td>1</td>\n",
              "    </tr>\n",
              "    <tr>\n",
              "      <th>2030</th>\n",
              "      <td>ham</td>\n",
              "      <td>Subject: re : indian springs\\nthis deal is to ...</td>\n",
              "      <td>0</td>\n",
              "    </tr>\n",
              "  </tbody>\n",
              "</table>\n",
              "</div>\n",
              "    <div class=\"colab-df-buttons\">\n",
              "\n",
              "  <div class=\"colab-df-container\">\n",
              "    <button class=\"colab-df-convert\" onclick=\"convertToInteractive('df-8e0ce1a0-b76a-4924-ae67-544c67b49ece')\"\n",
              "            title=\"Convert this dataframe to an interactive table.\"\n",
              "            style=\"display:none;\">\n",
              "\n",
              "  <svg xmlns=\"http://www.w3.org/2000/svg\" height=\"24px\" viewBox=\"0 -960 960 960\">\n",
              "    <path d=\"M120-120v-720h720v720H120Zm60-500h600v-160H180v160Zm220 220h160v-160H400v160Zm0 220h160v-160H400v160ZM180-400h160v-160H180v160Zm440 0h160v-160H620v160ZM180-180h160v-160H180v160Zm440 0h160v-160H620v160Z\"/>\n",
              "  </svg>\n",
              "    </button>\n",
              "\n",
              "  <style>\n",
              "    .colab-df-container {\n",
              "      display:flex;\n",
              "      gap: 12px;\n",
              "    }\n",
              "\n",
              "    .colab-df-convert {\n",
              "      background-color: #E8F0FE;\n",
              "      border: none;\n",
              "      border-radius: 50%;\n",
              "      cursor: pointer;\n",
              "      display: none;\n",
              "      fill: #1967D2;\n",
              "      height: 32px;\n",
              "      padding: 0 0 0 0;\n",
              "      width: 32px;\n",
              "    }\n",
              "\n",
              "    .colab-df-convert:hover {\n",
              "      background-color: #E2EBFA;\n",
              "      box-shadow: 0px 1px 2px rgba(60, 64, 67, 0.3), 0px 1px 3px 1px rgba(60, 64, 67, 0.15);\n",
              "      fill: #174EA6;\n",
              "    }\n",
              "\n",
              "    .colab-df-buttons div {\n",
              "      margin-bottom: 4px;\n",
              "    }\n",
              "\n",
              "    [theme=dark] .colab-df-convert {\n",
              "      background-color: #3B4455;\n",
              "      fill: #D2E3FC;\n",
              "    }\n",
              "\n",
              "    [theme=dark] .colab-df-convert:hover {\n",
              "      background-color: #434B5C;\n",
              "      box-shadow: 0px 1px 3px 1px rgba(0, 0, 0, 0.15);\n",
              "      filter: drop-shadow(0px 1px 2px rgba(0, 0, 0, 0.3));\n",
              "      fill: #FFFFFF;\n",
              "    }\n",
              "  </style>\n",
              "\n",
              "    <script>\n",
              "      const buttonEl =\n",
              "        document.querySelector('#df-8e0ce1a0-b76a-4924-ae67-544c67b49ece button.colab-df-convert');\n",
              "      buttonEl.style.display =\n",
              "        google.colab.kernel.accessAllowed ? 'block' : 'none';\n",
              "\n",
              "      async function convertToInteractive(key) {\n",
              "        const element = document.querySelector('#df-8e0ce1a0-b76a-4924-ae67-544c67b49ece');\n",
              "        const dataTable =\n",
              "          await google.colab.kernel.invokeFunction('convertToInteractive',\n",
              "                                                    [key], {});\n",
              "        if (!dataTable) return;\n",
              "\n",
              "        const docLinkHtml = 'Like what you see? Visit the ' +\n",
              "          '<a target=\"_blank\" href=https://colab.research.google.com/notebooks/data_table.ipynb>data table notebook</a>'\n",
              "          + ' to learn more about interactive tables.';\n",
              "        element.innerHTML = '';\n",
              "        dataTable['output_type'] = 'display_data';\n",
              "        await google.colab.output.renderOutput(dataTable, element);\n",
              "        const docLink = document.createElement('div');\n",
              "        docLink.innerHTML = docLinkHtml;\n",
              "        element.appendChild(docLink);\n",
              "      }\n",
              "    </script>\n",
              "  </div>\n",
              "\n",
              "\n",
              "<div id=\"df-b2cc880e-5c60-4c1d-8139-9af598f07789\">\n",
              "  <button class=\"colab-df-quickchart\" onclick=\"quickchart('df-b2cc880e-5c60-4c1d-8139-9af598f07789')\"\n",
              "            title=\"Suggest charts\"\n",
              "            style=\"display:none;\">\n",
              "\n",
              "<svg xmlns=\"http://www.w3.org/2000/svg\" height=\"24px\"viewBox=\"0 0 24 24\"\n",
              "     width=\"24px\">\n",
              "    <g>\n",
              "        <path d=\"M19 3H5c-1.1 0-2 .9-2 2v14c0 1.1.9 2 2 2h14c1.1 0 2-.9 2-2V5c0-1.1-.9-2-2-2zM9 17H7v-7h2v7zm4 0h-2V7h2v10zm4 0h-2v-4h2v4z\"/>\n",
              "    </g>\n",
              "</svg>\n",
              "  </button>\n",
              "\n",
              "<style>\n",
              "  .colab-df-quickchart {\n",
              "      --bg-color: #E8F0FE;\n",
              "      --fill-color: #1967D2;\n",
              "      --hover-bg-color: #E2EBFA;\n",
              "      --hover-fill-color: #174EA6;\n",
              "      --disabled-fill-color: #AAA;\n",
              "      --disabled-bg-color: #DDD;\n",
              "  }\n",
              "\n",
              "  [theme=dark] .colab-df-quickchart {\n",
              "      --bg-color: #3B4455;\n",
              "      --fill-color: #D2E3FC;\n",
              "      --hover-bg-color: #434B5C;\n",
              "      --hover-fill-color: #FFFFFF;\n",
              "      --disabled-bg-color: #3B4455;\n",
              "      --disabled-fill-color: #666;\n",
              "  }\n",
              "\n",
              "  .colab-df-quickchart {\n",
              "    background-color: var(--bg-color);\n",
              "    border: none;\n",
              "    border-radius: 50%;\n",
              "    cursor: pointer;\n",
              "    display: none;\n",
              "    fill: var(--fill-color);\n",
              "    height: 32px;\n",
              "    padding: 0;\n",
              "    width: 32px;\n",
              "  }\n",
              "\n",
              "  .colab-df-quickchart:hover {\n",
              "    background-color: var(--hover-bg-color);\n",
              "    box-shadow: 0 1px 2px rgba(60, 64, 67, 0.3), 0 1px 3px 1px rgba(60, 64, 67, 0.15);\n",
              "    fill: var(--button-hover-fill-color);\n",
              "  }\n",
              "\n",
              "  .colab-df-quickchart-complete:disabled,\n",
              "  .colab-df-quickchart-complete:disabled:hover {\n",
              "    background-color: var(--disabled-bg-color);\n",
              "    fill: var(--disabled-fill-color);\n",
              "    box-shadow: none;\n",
              "  }\n",
              "\n",
              "  .colab-df-spinner {\n",
              "    border: 2px solid var(--fill-color);\n",
              "    border-color: transparent;\n",
              "    border-bottom-color: var(--fill-color);\n",
              "    animation:\n",
              "      spin 1s steps(1) infinite;\n",
              "  }\n",
              "\n",
              "  @keyframes spin {\n",
              "    0% {\n",
              "      border-color: transparent;\n",
              "      border-bottom-color: var(--fill-color);\n",
              "      border-left-color: var(--fill-color);\n",
              "    }\n",
              "    20% {\n",
              "      border-color: transparent;\n",
              "      border-left-color: var(--fill-color);\n",
              "      border-top-color: var(--fill-color);\n",
              "    }\n",
              "    30% {\n",
              "      border-color: transparent;\n",
              "      border-left-color: var(--fill-color);\n",
              "      border-top-color: var(--fill-color);\n",
              "      border-right-color: var(--fill-color);\n",
              "    }\n",
              "    40% {\n",
              "      border-color: transparent;\n",
              "      border-right-color: var(--fill-color);\n",
              "      border-top-color: var(--fill-color);\n",
              "    }\n",
              "    60% {\n",
              "      border-color: transparent;\n",
              "      border-right-color: var(--fill-color);\n",
              "    }\n",
              "    80% {\n",
              "      border-color: transparent;\n",
              "      border-right-color: var(--fill-color);\n",
              "      border-bottom-color: var(--fill-color);\n",
              "    }\n",
              "    90% {\n",
              "      border-color: transparent;\n",
              "      border-bottom-color: var(--fill-color);\n",
              "    }\n",
              "  }\n",
              "</style>\n",
              "\n",
              "  <script>\n",
              "    async function quickchart(key) {\n",
              "      const quickchartButtonEl =\n",
              "        document.querySelector('#' + key + ' button');\n",
              "      quickchartButtonEl.disabled = true;  // To prevent multiple clicks.\n",
              "      quickchartButtonEl.classList.add('colab-df-spinner');\n",
              "      try {\n",
              "        const charts = await google.colab.kernel.invokeFunction(\n",
              "            'suggestCharts', [key], {});\n",
              "      } catch (error) {\n",
              "        console.error('Error during call to suggestCharts:', error);\n",
              "      }\n",
              "      quickchartButtonEl.classList.remove('colab-df-spinner');\n",
              "      quickchartButtonEl.classList.add('colab-df-quickchart-complete');\n",
              "    }\n",
              "    (() => {\n",
              "      let quickchartButtonEl =\n",
              "        document.querySelector('#df-b2cc880e-5c60-4c1d-8139-9af598f07789 button');\n",
              "      quickchartButtonEl.style.display =\n",
              "        google.colab.kernel.accessAllowed ? 'block' : 'none';\n",
              "    })();\n",
              "  </script>\n",
              "</div>\n",
              "\n",
              "    </div>\n",
              "  </div>\n"
            ],
            "application/vnd.google.colaboratory.intrinsic+json": {
              "type": "dataframe",
              "variable_name": "dataset",
              "summary": "{\n  \"name\": \"dataset\",\n  \"rows\": 5171,\n  \"fields\": [\n    {\n      \"column\": \"label\",\n      \"properties\": {\n        \"dtype\": \"category\",\n        \"num_unique_values\": 2,\n        \"samples\": [\n          \"spam\",\n          \"ham\"\n        ],\n        \"semantic_type\": \"\",\n        \"description\": \"\"\n      }\n    },\n    {\n      \"column\": \"text\",\n      \"properties\": {\n        \"dtype\": \"string\",\n        \"num_unique_values\": 4993,\n        \"samples\": [\n          \"Subject: hpl / conoco - teco waha 03 / 23 / 01 purchase\\ndaren , conoco invoiced hpl at $ 5 . 87 for 03 / 23 at pgev / waha and deal ticket 685350 shows $ 4 . 87 . can you confirm the price ? thanks .\",\n          \"Subject: holiday on - call data\\npipeline contact phone fax pager\\nblack marlin blair lichentwalter 713 853 - 7367 713 646 - 3201 ( h )\\n281 370 - 1866\\ndebbie thompson 713 853 - 3144 713 646 - 3201\\n( noms due today for 23 rd through 27 th )\\nchannel jim tobacco 713 420 - 2159\\ngas control 1 505 599 - 2333\\n( open thursday . noms will be due through monday )\\ncentana william spekels 713 627 - 6290 713 762 - 3450\\ndonna spencer 713 627 - 6255\\ngas control 1 888 204 - 1718\\n( noms due today for 23 rd through 27 th )\\nduke energy annette anderson 713 260 - 8603 713 949 - 3026\\n( on call ) bob moseman 713 - 260 - 8698 ( thursday )\\nopen tomorrow - noms will be due thru the 27 th )\\nlonestar gary gafford 214 670 - 2674 214 875 - 3810\\ngas control 214 875 - 2455 or 2456\\n( noms due today , 23 rd thru 27 th )\\nnorthern natural ben markey 853 - 7581 cell 713 446 - 9404 800 931 - 0398\\n( on call ) charlie mosey 853 - 1520\\ngas control 853 -\\n( open thursday - noms due thru 27 th . )\\neast trans - east texas\\ntejas gas control 713 767 - 5366\\npaula svehla 713 230 - 3569\\nmickey chapman 713 230 - 3546\\n( open thursday - noms due thru 27 th )\\nmidcon ( y 2 k ) ken nachlinger 713 369 - 9284 713 369 - 9375 888 733 - 5954\\n( on call ) steven 888 790 - 0255\\n( y 2 k ) don 888 733 - 4602\\ngas control 713 369 - 9200\\n( noms due today , 23 rd thru 27 th )\\nmoss bluff no current business\"\n        ],\n        \"semantic_type\": \"\",\n        \"description\": \"\"\n      }\n    },\n    {\n      \"column\": \"label_num\",\n      \"properties\": {\n        \"dtype\": \"number\",\n        \"std\": 0,\n        \"min\": 0,\n        \"max\": 1,\n        \"num_unique_values\": 2,\n        \"samples\": [\n          1,\n          0\n        ],\n        \"semantic_type\": \"\",\n        \"description\": \"\"\n      }\n    }\n  ]\n}"
            }
          },
          "metadata": {},
          "execution_count": 56
        }
      ]
    },
    {
      "cell_type": "code",
      "source": [
        "dataset.info()"
      ],
      "metadata": {
        "colab": {
          "base_uri": "https://localhost:8080/"
        },
        "id": "YjYkCPdWNil2",
        "outputId": "3ee6e59d-1bc5-476a-8b02-1299d4f7ca91"
      },
      "execution_count": null,
      "outputs": [
        {
          "output_type": "stream",
          "name": "stdout",
          "text": [
            "<class 'pandas.core.frame.DataFrame'>\n",
            "Index: 5171 entries, 605 to 4807\n",
            "Data columns (total 3 columns):\n",
            " #   Column     Non-Null Count  Dtype \n",
            "---  ------     --------------  ----- \n",
            " 0   label      5171 non-null   object\n",
            " 1   text       5171 non-null   object\n",
            " 2   label_num  5171 non-null   int64 \n",
            "dtypes: int64(1), object(2)\n",
            "memory usage: 161.6+ KB\n"
          ]
        }
      ]
    },
    {
      "cell_type": "code",
      "source": [
        "print(f'Numbers of duplicated emails: {dataset.text.duplicated().sum()}')"
      ],
      "metadata": {
        "id": "w-oNwmVDXrx2",
        "colab": {
          "base_uri": "https://localhost:8080/"
        },
        "outputId": "b7daeea5-7b23-4cab-ed05-1717f4f4c9c2"
      },
      "execution_count": null,
      "outputs": [
        {
          "output_type": "stream",
          "name": "stdout",
          "text": [
            "Numbers of duplicated emails: 178\n"
          ]
        }
      ]
    },
    {
      "cell_type": "code",
      "source": [
        "dataset[dataset.text.duplicated()]\n",
        "dataset.drop_duplicates(subset='text',inplace=True)\n",
        "print(f'Current duplicate emails: {dataset.text.duplicated().sum()}')"
      ],
      "metadata": {
        "colab": {
          "base_uri": "https://localhost:8080/"
        },
        "id": "iWatwXHYZAnY",
        "outputId": "0bd303b2-5067-47d3-a46d-e56bd0509125"
      },
      "execution_count": null,
      "outputs": [
        {
          "output_type": "stream",
          "name": "stdout",
          "text": [
            "Current duplicate emails: 0\n"
          ]
        }
      ]
    },
    {
      "cell_type": "code",
      "source": [
        "#drop columns useless\n",
        "dataset.drop(['label_num'],axis=1, inplace=True)\n",
        "dataset"
      ],
      "metadata": {
        "colab": {
          "base_uri": "https://localhost:8080/",
          "height": 424
        },
        "id": "U8pMlnwyOk5D",
        "outputId": "5ce8965f-b407-4aa1-831a-3329347f55a3"
      },
      "execution_count": null,
      "outputs": [
        {
          "output_type": "execute_result",
          "data": {
            "text/plain": [
              "     label                                               text\n",
              "605    ham  Subject: enron methanol ; meter # : 988291\\nth...\n",
              "2349   ham  Subject: hpl nom for january 9 , 2001\\n( see a...\n",
              "3624   ham  Subject: neon retreat\\nho ho ho , we ' re arou...\n",
              "4685  spam  Subject: photoshop , windows , office . cheap ...\n",
              "2030   ham  Subject: re : indian springs\\nthis deal is to ...\n",
              "...    ...                                                ...\n",
              "2849   ham  Subject: fw : crosstex energy , driscoll ranch...\n",
              "1518   ham  Subject: put the 10 on the ft\\nthe transport v...\n",
              "404    ham  Subject: 3 / 4 / 2000 and following noms\\nhpl ...\n",
              "1409   ham  Subject: industrial worksheets for august 2000...\n",
              "4807  spam  Subject: important online banking alert\\ndear ...\n",
              "\n",
              "[4993 rows x 2 columns]"
            ],
            "text/html": [
              "\n",
              "  <div id=\"df-344c0c7c-f7d2-4b32-9613-e785a0685172\" class=\"colab-df-container\">\n",
              "    <div>\n",
              "<style scoped>\n",
              "    .dataframe tbody tr th:only-of-type {\n",
              "        vertical-align: middle;\n",
              "    }\n",
              "\n",
              "    .dataframe tbody tr th {\n",
              "        vertical-align: top;\n",
              "    }\n",
              "\n",
              "    .dataframe thead th {\n",
              "        text-align: right;\n",
              "    }\n",
              "</style>\n",
              "<table border=\"1\" class=\"dataframe\">\n",
              "  <thead>\n",
              "    <tr style=\"text-align: right;\">\n",
              "      <th></th>\n",
              "      <th>label</th>\n",
              "      <th>text</th>\n",
              "    </tr>\n",
              "  </thead>\n",
              "  <tbody>\n",
              "    <tr>\n",
              "      <th>605</th>\n",
              "      <td>ham</td>\n",
              "      <td>Subject: enron methanol ; meter # : 988291\\nth...</td>\n",
              "    </tr>\n",
              "    <tr>\n",
              "      <th>2349</th>\n",
              "      <td>ham</td>\n",
              "      <td>Subject: hpl nom for january 9 , 2001\\n( see a...</td>\n",
              "    </tr>\n",
              "    <tr>\n",
              "      <th>3624</th>\n",
              "      <td>ham</td>\n",
              "      <td>Subject: neon retreat\\nho ho ho , we ' re arou...</td>\n",
              "    </tr>\n",
              "    <tr>\n",
              "      <th>4685</th>\n",
              "      <td>spam</td>\n",
              "      <td>Subject: photoshop , windows , office . cheap ...</td>\n",
              "    </tr>\n",
              "    <tr>\n",
              "      <th>2030</th>\n",
              "      <td>ham</td>\n",
              "      <td>Subject: re : indian springs\\nthis deal is to ...</td>\n",
              "    </tr>\n",
              "    <tr>\n",
              "      <th>...</th>\n",
              "      <td>...</td>\n",
              "      <td>...</td>\n",
              "    </tr>\n",
              "    <tr>\n",
              "      <th>2849</th>\n",
              "      <td>ham</td>\n",
              "      <td>Subject: fw : crosstex energy , driscoll ranch...</td>\n",
              "    </tr>\n",
              "    <tr>\n",
              "      <th>1518</th>\n",
              "      <td>ham</td>\n",
              "      <td>Subject: put the 10 on the ft\\nthe transport v...</td>\n",
              "    </tr>\n",
              "    <tr>\n",
              "      <th>404</th>\n",
              "      <td>ham</td>\n",
              "      <td>Subject: 3 / 4 / 2000 and following noms\\nhpl ...</td>\n",
              "    </tr>\n",
              "    <tr>\n",
              "      <th>1409</th>\n",
              "      <td>ham</td>\n",
              "      <td>Subject: industrial worksheets for august 2000...</td>\n",
              "    </tr>\n",
              "    <tr>\n",
              "      <th>4807</th>\n",
              "      <td>spam</td>\n",
              "      <td>Subject: important online banking alert\\ndear ...</td>\n",
              "    </tr>\n",
              "  </tbody>\n",
              "</table>\n",
              "<p>4993 rows × 2 columns</p>\n",
              "</div>\n",
              "    <div class=\"colab-df-buttons\">\n",
              "\n",
              "  <div class=\"colab-df-container\">\n",
              "    <button class=\"colab-df-convert\" onclick=\"convertToInteractive('df-344c0c7c-f7d2-4b32-9613-e785a0685172')\"\n",
              "            title=\"Convert this dataframe to an interactive table.\"\n",
              "            style=\"display:none;\">\n",
              "\n",
              "  <svg xmlns=\"http://www.w3.org/2000/svg\" height=\"24px\" viewBox=\"0 -960 960 960\">\n",
              "    <path d=\"M120-120v-720h720v720H120Zm60-500h600v-160H180v160Zm220 220h160v-160H400v160Zm0 220h160v-160H400v160ZM180-400h160v-160H180v160Zm440 0h160v-160H620v160ZM180-180h160v-160H180v160Zm440 0h160v-160H620v160Z\"/>\n",
              "  </svg>\n",
              "    </button>\n",
              "\n",
              "  <style>\n",
              "    .colab-df-container {\n",
              "      display:flex;\n",
              "      gap: 12px;\n",
              "    }\n",
              "\n",
              "    .colab-df-convert {\n",
              "      background-color: #E8F0FE;\n",
              "      border: none;\n",
              "      border-radius: 50%;\n",
              "      cursor: pointer;\n",
              "      display: none;\n",
              "      fill: #1967D2;\n",
              "      height: 32px;\n",
              "      padding: 0 0 0 0;\n",
              "      width: 32px;\n",
              "    }\n",
              "\n",
              "    .colab-df-convert:hover {\n",
              "      background-color: #E2EBFA;\n",
              "      box-shadow: 0px 1px 2px rgba(60, 64, 67, 0.3), 0px 1px 3px 1px rgba(60, 64, 67, 0.15);\n",
              "      fill: #174EA6;\n",
              "    }\n",
              "\n",
              "    .colab-df-buttons div {\n",
              "      margin-bottom: 4px;\n",
              "    }\n",
              "\n",
              "    [theme=dark] .colab-df-convert {\n",
              "      background-color: #3B4455;\n",
              "      fill: #D2E3FC;\n",
              "    }\n",
              "\n",
              "    [theme=dark] .colab-df-convert:hover {\n",
              "      background-color: #434B5C;\n",
              "      box-shadow: 0px 1px 3px 1px rgba(0, 0, 0, 0.15);\n",
              "      filter: drop-shadow(0px 1px 2px rgba(0, 0, 0, 0.3));\n",
              "      fill: #FFFFFF;\n",
              "    }\n",
              "  </style>\n",
              "\n",
              "    <script>\n",
              "      const buttonEl =\n",
              "        document.querySelector('#df-344c0c7c-f7d2-4b32-9613-e785a0685172 button.colab-df-convert');\n",
              "      buttonEl.style.display =\n",
              "        google.colab.kernel.accessAllowed ? 'block' : 'none';\n",
              "\n",
              "      async function convertToInteractive(key) {\n",
              "        const element = document.querySelector('#df-344c0c7c-f7d2-4b32-9613-e785a0685172');\n",
              "        const dataTable =\n",
              "          await google.colab.kernel.invokeFunction('convertToInteractive',\n",
              "                                                    [key], {});\n",
              "        if (!dataTable) return;\n",
              "\n",
              "        const docLinkHtml = 'Like what you see? Visit the ' +\n",
              "          '<a target=\"_blank\" href=https://colab.research.google.com/notebooks/data_table.ipynb>data table notebook</a>'\n",
              "          + ' to learn more about interactive tables.';\n",
              "        element.innerHTML = '';\n",
              "        dataTable['output_type'] = 'display_data';\n",
              "        await google.colab.output.renderOutput(dataTable, element);\n",
              "        const docLink = document.createElement('div');\n",
              "        docLink.innerHTML = docLinkHtml;\n",
              "        element.appendChild(docLink);\n",
              "      }\n",
              "    </script>\n",
              "  </div>\n",
              "\n",
              "\n",
              "<div id=\"df-9072d63e-ea14-41c6-9866-181b0696c7f6\">\n",
              "  <button class=\"colab-df-quickchart\" onclick=\"quickchart('df-9072d63e-ea14-41c6-9866-181b0696c7f6')\"\n",
              "            title=\"Suggest charts\"\n",
              "            style=\"display:none;\">\n",
              "\n",
              "<svg xmlns=\"http://www.w3.org/2000/svg\" height=\"24px\"viewBox=\"0 0 24 24\"\n",
              "     width=\"24px\">\n",
              "    <g>\n",
              "        <path d=\"M19 3H5c-1.1 0-2 .9-2 2v14c0 1.1.9 2 2 2h14c1.1 0 2-.9 2-2V5c0-1.1-.9-2-2-2zM9 17H7v-7h2v7zm4 0h-2V7h2v10zm4 0h-2v-4h2v4z\"/>\n",
              "    </g>\n",
              "</svg>\n",
              "  </button>\n",
              "\n",
              "<style>\n",
              "  .colab-df-quickchart {\n",
              "      --bg-color: #E8F0FE;\n",
              "      --fill-color: #1967D2;\n",
              "      --hover-bg-color: #E2EBFA;\n",
              "      --hover-fill-color: #174EA6;\n",
              "      --disabled-fill-color: #AAA;\n",
              "      --disabled-bg-color: #DDD;\n",
              "  }\n",
              "\n",
              "  [theme=dark] .colab-df-quickchart {\n",
              "      --bg-color: #3B4455;\n",
              "      --fill-color: #D2E3FC;\n",
              "      --hover-bg-color: #434B5C;\n",
              "      --hover-fill-color: #FFFFFF;\n",
              "      --disabled-bg-color: #3B4455;\n",
              "      --disabled-fill-color: #666;\n",
              "  }\n",
              "\n",
              "  .colab-df-quickchart {\n",
              "    background-color: var(--bg-color);\n",
              "    border: none;\n",
              "    border-radius: 50%;\n",
              "    cursor: pointer;\n",
              "    display: none;\n",
              "    fill: var(--fill-color);\n",
              "    height: 32px;\n",
              "    padding: 0;\n",
              "    width: 32px;\n",
              "  }\n",
              "\n",
              "  .colab-df-quickchart:hover {\n",
              "    background-color: var(--hover-bg-color);\n",
              "    box-shadow: 0 1px 2px rgba(60, 64, 67, 0.3), 0 1px 3px 1px rgba(60, 64, 67, 0.15);\n",
              "    fill: var(--button-hover-fill-color);\n",
              "  }\n",
              "\n",
              "  .colab-df-quickchart-complete:disabled,\n",
              "  .colab-df-quickchart-complete:disabled:hover {\n",
              "    background-color: var(--disabled-bg-color);\n",
              "    fill: var(--disabled-fill-color);\n",
              "    box-shadow: none;\n",
              "  }\n",
              "\n",
              "  .colab-df-spinner {\n",
              "    border: 2px solid var(--fill-color);\n",
              "    border-color: transparent;\n",
              "    border-bottom-color: var(--fill-color);\n",
              "    animation:\n",
              "      spin 1s steps(1) infinite;\n",
              "  }\n",
              "\n",
              "  @keyframes spin {\n",
              "    0% {\n",
              "      border-color: transparent;\n",
              "      border-bottom-color: var(--fill-color);\n",
              "      border-left-color: var(--fill-color);\n",
              "    }\n",
              "    20% {\n",
              "      border-color: transparent;\n",
              "      border-left-color: var(--fill-color);\n",
              "      border-top-color: var(--fill-color);\n",
              "    }\n",
              "    30% {\n",
              "      border-color: transparent;\n",
              "      border-left-color: var(--fill-color);\n",
              "      border-top-color: var(--fill-color);\n",
              "      border-right-color: var(--fill-color);\n",
              "    }\n",
              "    40% {\n",
              "      border-color: transparent;\n",
              "      border-right-color: var(--fill-color);\n",
              "      border-top-color: var(--fill-color);\n",
              "    }\n",
              "    60% {\n",
              "      border-color: transparent;\n",
              "      border-right-color: var(--fill-color);\n",
              "    }\n",
              "    80% {\n",
              "      border-color: transparent;\n",
              "      border-right-color: var(--fill-color);\n",
              "      border-bottom-color: var(--fill-color);\n",
              "    }\n",
              "    90% {\n",
              "      border-color: transparent;\n",
              "      border-bottom-color: var(--fill-color);\n",
              "    }\n",
              "  }\n",
              "</style>\n",
              "\n",
              "  <script>\n",
              "    async function quickchart(key) {\n",
              "      const quickchartButtonEl =\n",
              "        document.querySelector('#' + key + ' button');\n",
              "      quickchartButtonEl.disabled = true;  // To prevent multiple clicks.\n",
              "      quickchartButtonEl.classList.add('colab-df-spinner');\n",
              "      try {\n",
              "        const charts = await google.colab.kernel.invokeFunction(\n",
              "            'suggestCharts', [key], {});\n",
              "      } catch (error) {\n",
              "        console.error('Error during call to suggestCharts:', error);\n",
              "      }\n",
              "      quickchartButtonEl.classList.remove('colab-df-spinner');\n",
              "      quickchartButtonEl.classList.add('colab-df-quickchart-complete');\n",
              "    }\n",
              "    (() => {\n",
              "      let quickchartButtonEl =\n",
              "        document.querySelector('#df-9072d63e-ea14-41c6-9866-181b0696c7f6 button');\n",
              "      quickchartButtonEl.style.display =\n",
              "        google.colab.kernel.accessAllowed ? 'block' : 'none';\n",
              "    })();\n",
              "  </script>\n",
              "</div>\n",
              "\n",
              "  <div id=\"id_bb3fdcd4-fc68-4132-94f4-d3bf104219e7\">\n",
              "    <style>\n",
              "      .colab-df-generate {\n",
              "        background-color: #E8F0FE;\n",
              "        border: none;\n",
              "        border-radius: 50%;\n",
              "        cursor: pointer;\n",
              "        display: none;\n",
              "        fill: #1967D2;\n",
              "        height: 32px;\n",
              "        padding: 0 0 0 0;\n",
              "        width: 32px;\n",
              "      }\n",
              "\n",
              "      .colab-df-generate:hover {\n",
              "        background-color: #E2EBFA;\n",
              "        box-shadow: 0px 1px 2px rgba(60, 64, 67, 0.3), 0px 1px 3px 1px rgba(60, 64, 67, 0.15);\n",
              "        fill: #174EA6;\n",
              "      }\n",
              "\n",
              "      [theme=dark] .colab-df-generate {\n",
              "        background-color: #3B4455;\n",
              "        fill: #D2E3FC;\n",
              "      }\n",
              "\n",
              "      [theme=dark] .colab-df-generate:hover {\n",
              "        background-color: #434B5C;\n",
              "        box-shadow: 0px 1px 3px 1px rgba(0, 0, 0, 0.15);\n",
              "        filter: drop-shadow(0px 1px 2px rgba(0, 0, 0, 0.3));\n",
              "        fill: #FFFFFF;\n",
              "      }\n",
              "    </style>\n",
              "    <button class=\"colab-df-generate\" onclick=\"generateWithVariable('dataset')\"\n",
              "            title=\"Generate code using this dataframe.\"\n",
              "            style=\"display:none;\">\n",
              "\n",
              "  <svg xmlns=\"http://www.w3.org/2000/svg\" height=\"24px\"viewBox=\"0 0 24 24\"\n",
              "       width=\"24px\">\n",
              "    <path d=\"M7,19H8.4L18.45,9,17,7.55,7,17.6ZM5,21V16.75L18.45,3.32a2,2,0,0,1,2.83,0l1.4,1.43a1.91,1.91,0,0,1,.58,1.4,1.91,1.91,0,0,1-.58,1.4L9.25,21ZM18.45,9,17,7.55Zm-12,3A5.31,5.31,0,0,0,4.9,8.1,5.31,5.31,0,0,0,1,6.5,5.31,5.31,0,0,0,4.9,4.9,5.31,5.31,0,0,0,6.5,1,5.31,5.31,0,0,0,8.1,4.9,5.31,5.31,0,0,0,12,6.5,5.46,5.46,0,0,0,6.5,12Z\"/>\n",
              "  </svg>\n",
              "    </button>\n",
              "    <script>\n",
              "      (() => {\n",
              "      const buttonEl =\n",
              "        document.querySelector('#id_bb3fdcd4-fc68-4132-94f4-d3bf104219e7 button.colab-df-generate');\n",
              "      buttonEl.style.display =\n",
              "        google.colab.kernel.accessAllowed ? 'block' : 'none';\n",
              "\n",
              "      buttonEl.onclick = () => {\n",
              "        google.colab.notebook.generateWithVariable('dataset');\n",
              "      }\n",
              "      })();\n",
              "    </script>\n",
              "  </div>\n",
              "\n",
              "    </div>\n",
              "  </div>\n"
            ],
            "application/vnd.google.colaboratory.intrinsic+json": {
              "type": "dataframe",
              "variable_name": "dataset",
              "summary": "{\n  \"name\": \"dataset\",\n  \"rows\": 4993,\n  \"fields\": [\n    {\n      \"column\": \"label\",\n      \"properties\": {\n        \"dtype\": \"category\",\n        \"num_unique_values\": 2,\n        \"samples\": [\n          \"spam\",\n          \"ham\"\n        ],\n        \"semantic_type\": \"\",\n        \"description\": \"\"\n      }\n    },\n    {\n      \"column\": \"text\",\n      \"properties\": {\n        \"dtype\": \"string\",\n        \"num_unique_values\": 4993,\n        \"samples\": [\n          \"Subject: hpl / conoco - teco waha 03 / 23 / 01 purchase\\ndaren , conoco invoiced hpl at $ 5 . 87 for 03 / 23 at pgev / waha and deal ticket 685350 shows $ 4 . 87 . can you confirm the price ? thanks .\",\n          \"Subject: holiday on - call data\\npipeline contact phone fax pager\\nblack marlin blair lichentwalter 713 853 - 7367 713 646 - 3201 ( h )\\n281 370 - 1866\\ndebbie thompson 713 853 - 3144 713 646 - 3201\\n( noms due today for 23 rd through 27 th )\\nchannel jim tobacco 713 420 - 2159\\ngas control 1 505 599 - 2333\\n( open thursday . noms will be due through monday )\\ncentana william spekels 713 627 - 6290 713 762 - 3450\\ndonna spencer 713 627 - 6255\\ngas control 1 888 204 - 1718\\n( noms due today for 23 rd through 27 th )\\nduke energy annette anderson 713 260 - 8603 713 949 - 3026\\n( on call ) bob moseman 713 - 260 - 8698 ( thursday )\\nopen tomorrow - noms will be due thru the 27 th )\\nlonestar gary gafford 214 670 - 2674 214 875 - 3810\\ngas control 214 875 - 2455 or 2456\\n( noms due today , 23 rd thru 27 th )\\nnorthern natural ben markey 853 - 7581 cell 713 446 - 9404 800 931 - 0398\\n( on call ) charlie mosey 853 - 1520\\ngas control 853 -\\n( open thursday - noms due thru 27 th . )\\neast trans - east texas\\ntejas gas control 713 767 - 5366\\npaula svehla 713 230 - 3569\\nmickey chapman 713 230 - 3546\\n( open thursday - noms due thru 27 th )\\nmidcon ( y 2 k ) ken nachlinger 713 369 - 9284 713 369 - 9375 888 733 - 5954\\n( on call ) steven 888 790 - 0255\\n( y 2 k ) don 888 733 - 4602\\ngas control 713 369 - 9200\\n( noms due today , 23 rd thru 27 th )\\nmoss bluff no current business\"\n        ],\n        \"semantic_type\": \"\",\n        \"description\": \"\"\n      }\n    }\n  ]\n}"
            }
          },
          "metadata": {},
          "execution_count": 61
        }
      ]
    },
    {
      "cell_type": "markdown",
      "source": [
        "# Exploration Data Analysis"
      ],
      "metadata": {
        "id": "FrImAHUWQXui"
      }
    },
    {
      "cell_type": "code",
      "source": [
        "label_count= dataset.label.value_counts()\n",
        "label_count\n",
        "\n",
        "total = len(dataset)\n",
        "\n",
        "ham_percentage = (label_count[0] / total) * 100\n",
        "spam_percentage = (label_count[1] / total) * 100\n",
        "\n",
        "print(f'Distribution of {label_count}: \\n')\n",
        "print(f'ham_percentage: {ham_percentage:.2f}%')\n",
        "print(f'spam_percentage: {spam_percentage:.2f}%')"
      ],
      "metadata": {
        "colab": {
          "base_uri": "https://localhost:8080/"
        },
        "id": "MYL1hxaHODmm",
        "outputId": "2479b54f-b4e6-4353-e499-0005a97b2a54"
      },
      "execution_count": null,
      "outputs": [
        {
          "output_type": "stream",
          "name": "stdout",
          "text": [
            "Distribution of label\n",
            "ham     3531\n",
            "spam    1462\n",
            "Name: count, dtype: int64: \n",
            "\n",
            "ham_percentage: 70.72%\n",
            "spam_percentage: 29.28%\n"
          ]
        }
      ]
    },
    {
      "cell_type": "code",
      "source": [
        "_ = sns.countplot(data=dataset,x='label',hue='label')\n",
        "plt.title('Distribution of labels', fontsize = 14)\n",
        "plt.xlabel('Labels')\n",
        "plt.ylabel('Frequency')\n",
        "plt.annotate(f'{ham_percentage:.2f}%',xy=(0, label_count[0]), ha='center', va='bottom')\n",
        "plt.annotate(f'{spam_percentage:.2f}%',xy=(1, label_count[1]), ha='center', va='bottom')\n",
        "plt.show()"
      ],
      "metadata": {
        "colab": {
          "base_uri": "https://localhost:8080/",
          "height": 473
        },
        "id": "LYWr_N-2OhIe",
        "outputId": "44781aea-8ec6-4b25-dba3-c1fd59ee5157"
      },
      "execution_count": null,
      "outputs": [
        {
          "output_type": "display_data",
          "data": {
            "text/plain": [
              "<Figure size 640x480 with 1 Axes>"
            ],
            "image/png": "[encoded data removed]"
          },
          "metadata": {}
        }
      ]
    },
    {
      "cell_type": "markdown",
      "source": [
        "The dataset is **unbalanced**\n",
        "\n",
        "Ham email = 70.72%\n",
        "\n",
        "Spam = 29.28%"
      ],
      "metadata": {
        "id": "jNZxwnzhl0Kg"
      }
    },
    {
      "cell_type": "code",
      "source": [
        "# transforming the target variable into binary\n",
        "le = LabelEncoder()\n",
        "dataset.label = le.fit_transform(dataset.label)\n",
        "dataset.head()"
      ],
      "metadata": {
        "colab": {
          "base_uri": "https://localhost:8080/",
          "height": 206
        },
        "id": "bmDMIDZHbf4N",
        "outputId": "b1cb66f3-4e57-4ad2-8d53-10baa0460e84"
      },
      "execution_count": null,
      "outputs": [
        {
          "output_type": "execute_result",
          "data": {
            "text/plain": [
              "      label                                               text\n",
              "605       0  Subject: enron methanol ; meter # : 988291\\nth...\n",
              "2349      0  Subject: hpl nom for january 9 , 2001\\n( see a...\n",
              "3624      0  Subject: neon retreat\\nho ho ho , we ' re arou...\n",
              "4685      1  Subject: photoshop , windows , office . cheap ...\n",
              "2030      0  Subject: re : indian springs\\nthis deal is to ..."
            ],
            "text/html": [
              "\n",
              "  <div id=\"df-a1402523-0e48-4802-899d-803a72d1550a\" class=\"colab-df-container\">\n",
              "    <div>\n",
              "<style scoped>\n",
              "    .dataframe tbody tr th:only-of-type {\n",
              "        vertical-align: middle;\n",
              "    }\n",
              "\n",
              "    .dataframe tbody tr th {\n",
              "        vertical-align: top;\n",
              "    }\n",
              "\n",
              "    .dataframe thead th {\n",
              "        text-align: right;\n",
              "    }\n",
              "</style>\n",
              "<table border=\"1\" class=\"dataframe\">\n",
              "  <thead>\n",
              "    <tr style=\"text-align: right;\">\n",
              "      <th></th>\n",
              "      <th>label</th>\n",
              "      <th>text</th>\n",
              "    </tr>\n",
              "  </thead>\n",
              "  <tbody>\n",
              "    <tr>\n",
              "      <th>605</th>\n",
              "      <td>0</td>\n",
              "      <td>Subject: enron methanol ; meter # : 988291\\nth...</td>\n",
              "    </tr>\n",
              "    <tr>\n",
              "      <th>2349</th>\n",
              "      <td>0</td>\n",
              "      <td>Subject: hpl nom for january 9 , 2001\\n( see a...</td>\n",
              "    </tr>\n",
              "    <tr>\n",
              "      <th>3624</th>\n",
              "      <td>0</td>\n",
              "      <td>Subject: neon retreat\\nho ho ho , we ' re arou...</td>\n",
              "    </tr>\n",
              "    <tr>\n",
              "      <th>4685</th>\n",
              "      <td>1</td>\n",
              "      <td>Subject: photoshop , windows , office . cheap ...</td>\n",
              "    </tr>\n",
              "    <tr>\n",
              "      <th>2030</th>\n",
              "      <td>0</td>\n",
              "      <td>Subject: re : indian springs\\nthis deal is to ...</td>\n",
              "    </tr>\n",
              "  </tbody>\n",
              "</table>\n",
              "</div>\n",
              "    <div class=\"colab-df-buttons\">\n",
              "\n",
              "  <div class=\"colab-df-container\">\n",
              "    <button class=\"colab-df-convert\" onclick=\"convertToInteractive('df-a1402523-0e48-4802-899d-803a72d1550a')\"\n",
              "            title=\"Convert this dataframe to an interactive table.\"\n",
              "            style=\"display:none;\">\n",
              "\n",
              "  <svg xmlns=\"http://www.w3.org/2000/svg\" height=\"24px\" viewBox=\"0 -960 960 960\">\n",
              "    <path d=\"M120-120v-720h720v720H120Zm60-500h600v-160H180v160Zm220 220h160v-160H400v160Zm0 220h160v-160H400v160ZM180-400h160v-160H180v160Zm440 0h160v-160H620v160ZM180-180h160v-160H180v160Zm440 0h160v-160H620v160Z\"/>\n",
              "  </svg>\n",
              "    </button>\n",
              "\n",
              "  <style>\n",
              "    .colab-df-container {\n",
              "      display:flex;\n",
              "      gap: 12px;\n",
              "    }\n",
              "\n",
              "    .colab-df-convert {\n",
              "      background-color: #E8F0FE;\n",
              "      border: none;\n",
              "      border-radius: 50%;\n",
              "      cursor: pointer;\n",
              "      display: none;\n",
              "      fill: #1967D2;\n",
              "      height: 32px;\n",
              "      padding: 0 0 0 0;\n",
              "      width: 32px;\n",
              "    }\n",
              "\n",
              "    .colab-df-convert:hover {\n",
              "      background-color: #E2EBFA;\n",
              "      box-shadow: 0px 1px 2px rgba(60, 64, 67, 0.3), 0px 1px 3px 1px rgba(60, 64, 67, 0.15);\n",
              "      fill: #174EA6;\n",
              "    }\n",
              "\n",
              "    .colab-df-buttons div {\n",
              "      margin-bottom: 4px;\n",
              "    }\n",
              "\n",
              "    [theme=dark] .colab-df-convert {\n",
              "      background-color: #3B4455;\n",
              "      fill: #D2E3FC;\n",
              "    }\n",
              "\n",
              "    [theme=dark] .colab-df-convert:hover {\n",
              "      background-color: #434B5C;\n",
              "      box-shadow: 0px 1px 3px 1px rgba(0, 0, 0, 0.15);\n",
              "      filter: drop-shadow(0px 1px 2px rgba(0, 0, 0, 0.3));\n",
              "      fill: #FFFFFF;\n",
              "    }\n",
              "  </style>\n",
              "\n",
              "    <script>\n",
              "      const buttonEl =\n",
              "        document.querySelector('#df-a1402523-0e48-4802-899d-803a72d1550a button.colab-df-convert');\n",
              "      buttonEl.style.display =\n",
              "        google.colab.kernel.accessAllowed ? 'block' : 'none';\n",
              "\n",
              "      async function convertToInteractive(key) {\n",
              "        const element = document.querySelector('#df-a1402523-0e48-4802-899d-803a72d1550a');\n",
              "        const dataTable =\n",
              "          await google.colab.kernel.invokeFunction('convertToInteractive',\n",
              "                                                    [key], {});\n",
              "        if (!dataTable) return;\n",
              "\n",
              "        const docLinkHtml = 'Like what you see? Visit the ' +\n",
              "          '<a target=\"_blank\" href=https://colab.research.google.com/notebooks/data_table.ipynb>data table notebook</a>'\n",
              "          + ' to learn more about interactive tables.';\n",
              "        element.innerHTML = '';\n",
              "        dataTable['output_type'] = 'display_data';\n",
              "        await google.colab.output.renderOutput(dataTable, element);\n",
              "        const docLink = document.createElement('div');\n",
              "        docLink.innerHTML = docLinkHtml;\n",
              "        element.appendChild(docLink);\n",
              "      }\n",
              "    </script>\n",
              "  </div>\n",
              "\n",
              "\n",
              "<div id=\"df-0d4a462d-6f91-4d15-8f0a-23b7045c30e2\">\n",
              "  <button class=\"colab-df-quickchart\" onclick=\"quickchart('df-0d4a462d-6f91-4d15-8f0a-23b7045c30e2')\"\n",
              "            title=\"Suggest charts\"\n",
              "            style=\"display:none;\">\n",
              "\n",
              "<svg xmlns=\"http://www.w3.org/2000/svg\" height=\"24px\"viewBox=\"0 0 24 24\"\n",
              "     width=\"24px\">\n",
              "    <g>\n",
              "        <path d=\"M19 3H5c-1.1 0-2 .9-2 2v14c0 1.1.9 2 2 2h14c1.1 0 2-.9 2-2V5c0-1.1-.9-2-2-2zM9 17H7v-7h2v7zm4 0h-2V7h2v10zm4 0h-2v-4h2v4z\"/>\n",
              "    </g>\n",
              "</svg>\n",
              "  </button>\n",
              "\n",
              "<style>\n",
              "  .colab-df-quickchart {\n",
              "      --bg-color: #E8F0FE;\n",
              "      --fill-color: #1967D2;\n",
              "      --hover-bg-color: #E2EBFA;\n",
              "      --hover-fill-color: #174EA6;\n",
              "      --disabled-fill-color: #AAA;\n",
              "      --disabled-bg-color: #DDD;\n",
              "  }\n",
              "\n",
              "  [theme=dark] .colab-df-quickchart {\n",
              "      --bg-color: #3B4455;\n",
              "      --fill-color: #D2E3FC;\n",
              "      --hover-bg-color: #434B5C;\n",
              "      --hover-fill-color: #FFFFFF;\n",
              "      --disabled-bg-color: #3B4455;\n",
              "      --disabled-fill-color: #666;\n",
              "  }\n",
              "\n",
              "  .colab-df-quickchart {\n",
              "    background-color: var(--bg-color);\n",
              "    border: none;\n",
              "    border-radius: 50%;\n",
              "    cursor: pointer;\n",
              "    display: none;\n",
              "    fill: var(--fill-color);\n",
              "    height: 32px;\n",
              "    padding: 0;\n",
              "    width: 32px;\n",
              "  }\n",
              "\n",
              "  .colab-df-quickchart:hover {\n",
              "    background-color: var(--hover-bg-color);\n",
              "    box-shadow: 0 1px 2px rgba(60, 64, 67, 0.3), 0 1px 3px 1px rgba(60, 64, 67, 0.15);\n",
              "    fill: var(--button-hover-fill-color);\n",
              "  }\n",
              "\n",
              "  .colab-df-quickchart-complete:disabled,\n",
              "  .colab-df-quickchart-complete:disabled:hover {\n",
              "    background-color: var(--disabled-bg-color);\n",
              "    fill: var(--disabled-fill-color);\n",
              "    box-shadow: none;\n",
              "  }\n",
              "\n",
              "  .colab-df-spinner {\n",
              "    border: 2px solid var(--fill-color);\n",
              "    border-color: transparent;\n",
              "    border-bottom-color: var(--fill-color);\n",
              "    animation:\n",
              "      spin 1s steps(1) infinite;\n",
              "  }\n",
              "\n",
              "  @keyframes spin {\n",
              "    0% {\n",
              "      border-color: transparent;\n",
              "      border-bottom-color: var(--fill-color);\n",
              "      border-left-color: var(--fill-color);\n",
              "    }\n",
              "    20% {\n",
              "      border-color: transparent;\n",
              "      border-left-color: var(--fill-color);\n",
              "      border-top-color: var(--fill-color);\n",
              "    }\n",
              "    30% {\n",
              "      border-color: transparent;\n",
              "      border-left-color: var(--fill-color);\n",
              "      border-top-color: var(--fill-color);\n",
              "      border-right-color: var(--fill-color);\n",
              "    }\n",
              "    40% {\n",
              "      border-color: transparent;\n",
              "      border-right-color: var(--fill-color);\n",
              "      border-top-color: var(--fill-color);\n",
              "    }\n",
              "    60% {\n",
              "      border-color: transparent;\n",
              "      border-right-color: var(--fill-color);\n",
              "    }\n",
              "    80% {\n",
              "      border-color: transparent;\n",
              "      border-right-color: var(--fill-color);\n",
              "      border-bottom-color: var(--fill-color);\n",
              "    }\n",
              "    90% {\n",
              "      border-color: transparent;\n",
              "      border-bottom-color: var(--fill-color);\n",
              "    }\n",
              "  }\n",
              "</style>\n",
              "\n",
              "  <script>\n",
              "    async function quickchart(key) {\n",
              "      const quickchartButtonEl =\n",
              "        document.querySelector('#' + key + ' button');\n",
              "      quickchartButtonEl.disabled = true;  // To prevent multiple clicks.\n",
              "      quickchartButtonEl.classList.add('colab-df-spinner');\n",
              "      try {\n",
              "        const charts = await google.colab.kernel.invokeFunction(\n",
              "            'suggestCharts', [key], {});\n",
              "      } catch (error) {\n",
              "        console.error('Error during call to suggestCharts:', error);\n",
              "      }\n",
              "      quickchartButtonEl.classList.remove('colab-df-spinner');\n",
              "      quickchartButtonEl.classList.add('colab-df-quickchart-complete');\n",
              "    }\n",
              "    (() => {\n",
              "      let quickchartButtonEl =\n",
              "        document.querySelector('#df-0d4a462d-6f91-4d15-8f0a-23b7045c30e2 button');\n",
              "      quickchartButtonEl.style.display =\n",
              "        google.colab.kernel.accessAllowed ? 'block' : 'none';\n",
              "    })();\n",
              "  </script>\n",
              "</div>\n",
              "\n",
              "    </div>\n",
              "  </div>\n"
            ],
            "application/vnd.google.colaboratory.intrinsic+json": {
              "type": "dataframe",
              "variable_name": "dataset",
              "summary": "{\n  \"name\": \"dataset\",\n  \"rows\": 4993,\n  \"fields\": [\n    {\n      \"column\": \"label\",\n      \"properties\": {\n        \"dtype\": \"number\",\n        \"std\": 0,\n        \"min\": 0,\n        \"max\": 1,\n        \"num_unique_values\": 2,\n        \"samples\": [\n          1,\n          0\n        ],\n        \"semantic_type\": \"\",\n        \"description\": \"\"\n      }\n    },\n    {\n      \"column\": \"text\",\n      \"properties\": {\n        \"dtype\": \"string\",\n        \"num_unique_values\": 4993,\n        \"samples\": [\n          \"Subject: hpl / conoco - teco waha 03 / 23 / 01 purchase\\ndaren , conoco invoiced hpl at $ 5 . 87 for 03 / 23 at pgev / waha and deal ticket 685350 shows $ 4 . 87 . can you confirm the price ? thanks .\",\n          \"Subject: holiday on - call data\\npipeline contact phone fax pager\\nblack marlin blair lichentwalter 713 853 - 7367 713 646 - 3201 ( h )\\n281 370 - 1866\\ndebbie thompson 713 853 - 3144 713 646 - 3201\\n( noms due today for 23 rd through 27 th )\\nchannel jim tobacco 713 420 - 2159\\ngas control 1 505 599 - 2333\\n( open thursday . noms will be due through monday )\\ncentana william spekels 713 627 - 6290 713 762 - 3450\\ndonna spencer 713 627 - 6255\\ngas control 1 888 204 - 1718\\n( noms due today for 23 rd through 27 th )\\nduke energy annette anderson 713 260 - 8603 713 949 - 3026\\n( on call ) bob moseman 713 - 260 - 8698 ( thursday )\\nopen tomorrow - noms will be due thru the 27 th )\\nlonestar gary gafford 214 670 - 2674 214 875 - 3810\\ngas control 214 875 - 2455 or 2456\\n( noms due today , 23 rd thru 27 th )\\nnorthern natural ben markey 853 - 7581 cell 713 446 - 9404 800 931 - 0398\\n( on call ) charlie mosey 853 - 1520\\ngas control 853 -\\n( open thursday - noms due thru 27 th . )\\neast trans - east texas\\ntejas gas control 713 767 - 5366\\npaula svehla 713 230 - 3569\\nmickey chapman 713 230 - 3546\\n( open thursday - noms due thru 27 th )\\nmidcon ( y 2 k ) ken nachlinger 713 369 - 9284 713 369 - 9375 888 733 - 5954\\n( on call ) steven 888 790 - 0255\\n( y 2 k ) don 888 733 - 4602\\ngas control 713 369 - 9200\\n( noms due today , 23 rd thru 27 th )\\nmoss bluff no current business\"\n        ],\n        \"semantic_type\": \"\",\n        \"description\": \"\"\n      }\n    }\n  ]\n}"
            }
          },
          "metadata": {},
          "execution_count": 11
        }
      ]
    },
    {
      "cell_type": "code",
      "source": [
        "# Download NLTK\n",
        "nltk.download('stopwords')\n",
        "nltk.download('punkt')\n",
        "nltk.download('wordnet')\n",
        "nltk.download('punkt_tab')"
      ],
      "metadata": {
        "colab": {
          "base_uri": "https://localhost:8080/"
        },
        "id": "iGZNl4v6cjzN",
        "outputId": "f062e66c-1599-4a7f-9728-3fdb69ed928a",
        "collapsed": true
      },
      "execution_count": null,
      "outputs": [
        {
          "output_type": "stream",
          "name": "stderr",
          "text": [
            "[nltk_data] Downloading package stopwords to /root/nltk_data...\n",
            "[nltk_data]   Unzipping corpora/stopwords.zip.\n",
            "[nltk_data] Downloading package punkt to /root/nltk_data...\n",
            "[nltk_data]   Unzipping tokenizers/punkt.zip.\n",
            "[nltk_data] Downloading package wordnet to /root/nltk_data...\n",
            "[nltk_data] Downloading package punkt_tab to /root/nltk_data...\n",
            "[nltk_data]   Unzipping tokenizers/punkt_tab.zip.\n"
          ]
        },
        {
          "output_type": "execute_result",
          "data": {
            "text/plain": [
              "True"
            ]
          },
          "metadata": {},
          "execution_count": 12
        }
      ]
    },
    {
      "cell_type": "code",
      "source": [
        "from nltk.corpus import stopwords\n",
        "def clean_text(text):\n",
        "  \"\"\"\n",
        "\n",
        "  This function is used for cleaning column text\n",
        "\n",
        "  \"\"\"\n",
        "\n",
        "    # Remove punctuation and number\n",
        "    text = re.sub(r'[^\\w\\s]', '', text)\n",
        "    text = re.sub(r'\\d+', '', text)\n",
        "\n",
        "    # all text in lowercase\n",
        "    words = word_tokenize(text.lower())\n",
        "\n",
        "    # Remove stopwords\n",
        "    stop_words = set(stopwords.words('english'))\n",
        "    words = [word for word in words if word not in stop_words]\n",
        "\n",
        "    # Lemmatization (base form)\n",
        "    lemmatizer = WordNetLemmatizer()\n",
        "    words = [lemmatizer.lemmatize(word) for word in words]\n",
        "\n",
        "    # Reconstructs clean text\n",
        "    return ' '.join(words)"
      ],
      "metadata": {
        "id": "ZxBjjh7pcpfU"
      },
      "execution_count": null,
      "outputs": []
    },
    {
      "cell_type": "code",
      "source": [
        "# trying a few examples\n",
        "example_text = dataset.text[605]\n",
        "example_text1 = dataset.text[2349]\n",
        "example_text2 = dataset.text[3624]\n",
        "\n",
        "text_cleaned = clean_text(example_text)\n",
        "text1_cleaned = clean_text(example_text1)\n",
        "text2_cleaned = clean_text(example_text2)\n",
        "print(text_cleaned,'\\n')\n",
        "print(text1_cleaned,'\\n')\n",
        "print(text2_cleaned)"
      ],
      "metadata": {
        "colab": {
          "base_uri": "https://localhost:8080/"
        },
        "id": "nbIFNjNPdPOz",
        "outputId": "e5fe1ef2-bcdb-4f26-d0cd-565827ab8a4d"
      },
      "execution_count": null,
      "outputs": [
        {
          "output_type": "stream",
          "name": "stdout",
          "text": [
            "subject enron methanol meter follow note gave monday preliminary flow data provided daren please override pop daily volume presently zero reflect daily activity obtain gas control change needed asap economics purpose \n",
            "\n",
            "subject hpl nom january see attached file hplnol xl hplnol xl \n",
            "\n",
            "subject neon retreat ho ho ho around wonderful time year neon leader retreat time know time year extremely hectic tough think anything past holiday life go past week december january like think minute calender handed beginning fall semester retreat scheduled weekend january youth minister conference brad dustin connected week going change date following weekend january come part need think think agree important u get together time recharge battery get far spring semester lot trouble difficult u get away without kid etc brad came potential alternative get together weekend let know prefer first option would retreat similar done past several year year could go heartland country inn www com outside brenham nice place bedroom bedroom house side side country real relaxing also close brenham one hour minute golf shop antique craft store brenham eat dinner together ranch spend time meet saturday return sunday morning like done past second option would stay houston dinner together nice restaurant dessert time visiting recharging one home saturday evening might easier trade would much time together let decide email back would preference course available weekend democratic process prevail majority vote rule let hear soon possible preferably end weekend vote go way complaining allowed like tend great weekend great golf great fishing great shopping whatever make happy bobby\n"
          ]
        }
      ]
    },
    {
      "cell_type": "code",
      "source": [
        "#text cleaning\n",
        "dataset.text = dataset.text.apply(clean_text)\n",
        "dataset.head()"
      ],
      "metadata": {
        "colab": {
          "base_uri": "https://localhost:8080/",
          "height": 206
        },
        "id": "STkvthqjd0DV",
        "outputId": "95430733-8542-417e-b3c1-b900b6006aef"
      },
      "execution_count": null,
      "outputs": [
        {
          "output_type": "execute_result",
          "data": {
            "text/plain": [
              "      label                                               text\n",
              "605       0  subject enron methanol meter follow note gave ...\n",
              "2349      0  subject hpl nom january see attached file hpln...\n",
              "3624      0  subject neon retreat ho ho ho around wonderful...\n",
              "4685      1  subject photoshop window office cheap main tre...\n",
              "2030      0  subject indian spring deal book teco pvr reven..."
            ],
            "text/html": [
              "\n",
              "  <div id=\"df-7d15b78a-6b8c-4222-90d2-d1674a97d676\" class=\"colab-df-container\">\n",
              "    <div>\n",
              "<style scoped>\n",
              "    .dataframe tbody tr th:only-of-type {\n",
              "        vertical-align: middle;\n",
              "    }\n",
              "\n",
              "    .dataframe tbody tr th {\n",
              "        vertical-align: top;\n",
              "    }\n",
              "\n",
              "    .dataframe thead th {\n",
              "        text-align: right;\n",
              "    }\n",
              "</style>\n",
              "<table border=\"1\" class=\"dataframe\">\n",
              "  <thead>\n",
              "    <tr style=\"text-align: right;\">\n",
              "      <th></th>\n",
              "      <th>label</th>\n",
              "      <th>text</th>\n",
              "    </tr>\n",
              "  </thead>\n",
              "  <tbody>\n",
              "    <tr>\n",
              "      <th>605</th>\n",
              "      <td>0</td>\n",
              "      <td>subject enron methanol meter follow note gave ...</td>\n",
              "    </tr>\n",
              "    <tr>\n",
              "      <th>2349</th>\n",
              "      <td>0</td>\n",
              "      <td>subject hpl nom january see attached file hpln...</td>\n",
              "    </tr>\n",
              "    <tr>\n",
              "      <th>3624</th>\n",
              "      <td>0</td>\n",
              "      <td>subject neon retreat ho ho ho around wonderful...</td>\n",
              "    </tr>\n",
              "    <tr>\n",
              "      <th>4685</th>\n",
              "      <td>1</td>\n",
              "      <td>subject photoshop window office cheap main tre...</td>\n",
              "    </tr>\n",
              "    <tr>\n",
              "      <th>2030</th>\n",
              "      <td>0</td>\n",
              "      <td>subject indian spring deal book teco pvr reven...</td>\n",
              "    </tr>\n",
              "  </tbody>\n",
              "</table>\n",
              "</div>\n",
              "    <div class=\"colab-df-buttons\">\n",
              "\n",
              "  <div class=\"colab-df-container\">\n",
              "    <button class=\"colab-df-convert\" onclick=\"convertToInteractive('df-7d15b78a-6b8c-4222-90d2-d1674a97d676')\"\n",
              "            title=\"Convert this dataframe to an interactive table.\"\n",
              "            style=\"display:none;\">\n",
              "\n",
              "  <svg xmlns=\"http://www.w3.org/2000/svg\" height=\"24px\" viewBox=\"0 -960 960 960\">\n",
              "    <path d=\"M120-120v-720h720v720H120Zm60-500h600v-160H180v160Zm220 220h160v-160H400v160Zm0 220h160v-160H400v160ZM180-400h160v-160H180v160Zm440 0h160v-160H620v160ZM180-180h160v-160H180v160Zm440 0h160v-160H620v160Z\"/>\n",
              "  </svg>\n",
              "    </button>\n",
              "\n",
              "  <style>\n",
              "    .colab-df-container {\n",
              "      display:flex;\n",
              "      gap: 12px;\n",
              "    }\n",
              "\n",
              "    .colab-df-convert {\n",
              "      background-color: #E8F0FE;\n",
              "      border: none;\n",
              "      border-radius: 50%;\n",
              "      cursor: pointer;\n",
              "      display: none;\n",
              "      fill: #1967D2;\n",
              "      height: 32px;\n",
              "      padding: 0 0 0 0;\n",
              "      width: 32px;\n",
              "    }\n",
              "\n",
              "    .colab-df-convert:hover {\n",
              "      background-color: #E2EBFA;\n",
              "      box-shadow: 0px 1px 2px rgba(60, 64, 67, 0.3), 0px 1px 3px 1px rgba(60, 64, 67, 0.15);\n",
              "      fill: #174EA6;\n",
              "    }\n",
              "\n",
              "    .colab-df-buttons div {\n",
              "      margin-bottom: 4px;\n",
              "    }\n",
              "\n",
              "    [theme=dark] .colab-df-convert {\n",
              "      background-color: #3B4455;\n",
              "      fill: #D2E3FC;\n",
              "    }\n",
              "\n",
              "    [theme=dark] .colab-df-convert:hover {\n",
              "      background-color: #434B5C;\n",
              "      box-shadow: 0px 1px 3px 1px rgba(0, 0, 0, 0.15);\n",
              "      filter: drop-shadow(0px 1px 2px rgba(0, 0, 0, 0.3));\n",
              "      fill: #FFFFFF;\n",
              "    }\n",
              "  </style>\n",
              "\n",
              "    <script>\n",
              "      const buttonEl =\n",
              "        document.querySelector('#df-7d15b78a-6b8c-4222-90d2-d1674a97d676 button.colab-df-convert');\n",
              "      buttonEl.style.display =\n",
              "        google.colab.kernel.accessAllowed ? 'block' : 'none';\n",
              "\n",
              "      async function convertToInteractive(key) {\n",
              "        const element = document.querySelector('#df-7d15b78a-6b8c-4222-90d2-d1674a97d676');\n",
              "        const dataTable =\n",
              "          await google.colab.kernel.invokeFunction('convertToInteractive',\n",
              "                                                    [key], {});\n",
              "        if (!dataTable) return;\n",
              "\n",
              "        const docLinkHtml = 'Like what you see? Visit the ' +\n",
              "          '<a target=\"_blank\" href=https://colab.research.google.com/notebooks/data_table.ipynb>data table notebook</a>'\n",
              "          + ' to learn more about interactive tables.';\n",
              "        element.innerHTML = '';\n",
              "        dataTable['output_type'] = 'display_data';\n",
              "        await google.colab.output.renderOutput(dataTable, element);\n",
              "        const docLink = document.createElement('div');\n",
              "        docLink.innerHTML = docLinkHtml;\n",
              "        element.appendChild(docLink);\n",
              "      }\n",
              "    </script>\n",
              "  </div>\n",
              "\n",
              "\n",
              "<div id=\"df-c47a0bc9-9041-40c9-bc97-4700926ca353\">\n",
              "  <button class=\"colab-df-quickchart\" onclick=\"quickchart('df-c47a0bc9-9041-40c9-bc97-4700926ca353')\"\n",
              "            title=\"Suggest charts\"\n",
              "            style=\"display:none;\">\n",
              "\n",
              "<svg xmlns=\"http://www.w3.org/2000/svg\" height=\"24px\"viewBox=\"0 0 24 24\"\n",
              "     width=\"24px\">\n",
              "    <g>\n",
              "        <path d=\"M19 3H5c-1.1 0-2 .9-2 2v14c0 1.1.9 2 2 2h14c1.1 0 2-.9 2-2V5c0-1.1-.9-2-2-2zM9 17H7v-7h2v7zm4 0h-2V7h2v10zm4 0h-2v-4h2v4z\"/>\n",
              "    </g>\n",
              "</svg>\n",
              "  </button>\n",
              "\n",
              "<style>\n",
              "  .colab-df-quickchart {\n",
              "      --bg-color: #E8F0FE;\n",
              "      --fill-color: #1967D2;\n",
              "      --hover-bg-color: #E2EBFA;\n",
              "      --hover-fill-color: #174EA6;\n",
              "      --disabled-fill-color: #AAA;\n",
              "      --disabled-bg-color: #DDD;\n",
              "  }\n",
              "\n",
              "  [theme=dark] .colab-df-quickchart {\n",
              "      --bg-color: #3B4455;\n",
              "      --fill-color: #D2E3FC;\n",
              "      --hover-bg-color: #434B5C;\n",
              "      --hover-fill-color: #FFFFFF;\n",
              "      --disabled-bg-color: #3B4455;\n",
              "      --disabled-fill-color: #666;\n",
              "  }\n",
              "\n",
              "  .colab-df-quickchart {\n",
              "    background-color: var(--bg-color);\n",
              "    border: none;\n",
              "    border-radius: 50%;\n",
              "    cursor: pointer;\n",
              "    display: none;\n",
              "    fill: var(--fill-color);\n",
              "    height: 32px;\n",
              "    padding: 0;\n",
              "    width: 32px;\n",
              "  }\n",
              "\n",
              "  .colab-df-quickchart:hover {\n",
              "    background-color: var(--hover-bg-color);\n",
              "    box-shadow: 0 1px 2px rgba(60, 64, 67, 0.3), 0 1px 3px 1px rgba(60, 64, 67, 0.15);\n",
              "    fill: var(--button-hover-fill-color);\n",
              "  }\n",
              "\n",
              "  .colab-df-quickchart-complete:disabled,\n",
              "  .colab-df-quickchart-complete:disabled:hover {\n",
              "    background-color: var(--disabled-bg-color);\n",
              "    fill: var(--disabled-fill-color);\n",
              "    box-shadow: none;\n",
              "  }\n",
              "\n",
              "  .colab-df-spinner {\n",
              "    border: 2px solid var(--fill-color);\n",
              "    border-color: transparent;\n",
              "    border-bottom-color: var(--fill-color);\n",
              "    animation:\n",
              "      spin 1s steps(1) infinite;\n",
              "  }\n",
              "\n",
              "  @keyframes spin {\n",
              "    0% {\n",
              "      border-color: transparent;\n",
              "      border-bottom-color: var(--fill-color);\n",
              "      border-left-color: var(--fill-color);\n",
              "    }\n",
              "    20% {\n",
              "      border-color: transparent;\n",
              "      border-left-color: var(--fill-color);\n",
              "      border-top-color: var(--fill-color);\n",
              "    }\n",
              "    30% {\n",
              "      border-color: transparent;\n",
              "      border-left-color: var(--fill-color);\n",
              "      border-top-color: var(--fill-color);\n",
              "      border-right-color: var(--fill-color);\n",
              "    }\n",
              "    40% {\n",
              "      border-color: transparent;\n",
              "      border-right-color: var(--fill-color);\n",
              "      border-top-color: var(--fill-color);\n",
              "    }\n",
              "    60% {\n",
              "      border-color: transparent;\n",
              "      border-right-color: var(--fill-color);\n",
              "    }\n",
              "    80% {\n",
              "      border-color: transparent;\n",
              "      border-right-color: var(--fill-color);\n",
              "      border-bottom-color: var(--fill-color);\n",
              "    }\n",
              "    90% {\n",
              "      border-color: transparent;\n",
              "      border-bottom-color: var(--fill-color);\n",
              "    }\n",
              "  }\n",
              "</style>\n",
              "\n",
              "  <script>\n",
              "    async function quickchart(key) {\n",
              "      const quickchartButtonEl =\n",
              "        document.querySelector('#' + key + ' button');\n",
              "      quickchartButtonEl.disabled = true;  // To prevent multiple clicks.\n",
              "      quickchartButtonEl.classList.add('colab-df-spinner');\n",
              "      try {\n",
              "        const charts = await google.colab.kernel.invokeFunction(\n",
              "            'suggestCharts', [key], {});\n",
              "      } catch (error) {\n",
              "        console.error('Error during call to suggestCharts:', error);\n",
              "      }\n",
              "      quickchartButtonEl.classList.remove('colab-df-spinner');\n",
              "      quickchartButtonEl.classList.add('colab-df-quickchart-complete');\n",
              "    }\n",
              "    (() => {\n",
              "      let quickchartButtonEl =\n",
              "        document.querySelector('#df-c47a0bc9-9041-40c9-bc97-4700926ca353 button');\n",
              "      quickchartButtonEl.style.display =\n",
              "        google.colab.kernel.accessAllowed ? 'block' : 'none';\n",
              "    })();\n",
              "  </script>\n",
              "</div>\n",
              "\n",
              "    </div>\n",
              "  </div>\n"
            ],
            "application/vnd.google.colaboratory.intrinsic+json": {
              "type": "dataframe",
              "variable_name": "dataset",
              "summary": "{\n  \"name\": \"dataset\",\n  \"rows\": 4993,\n  \"fields\": [\n    {\n      \"column\": \"label\",\n      \"properties\": {\n        \"dtype\": \"number\",\n        \"std\": 0,\n        \"min\": 0,\n        \"max\": 1,\n        \"num_unique_values\": 2,\n        \"samples\": [\n          1,\n          0\n        ],\n        \"semantic_type\": \"\",\n        \"description\": \"\"\n      }\n    },\n    {\n      \"column\": \"text\",\n      \"properties\": {\n        \"dtype\": \"string\",\n        \"num_unique_values\": 4626,\n        \"samples\": [\n          \"subject g eneric v g r l e time van g eneric v g r l e time e low cost v g r b get generic v g r low per dose friee physician consultation discrete shipment privacy home office q cost less brand name friee doctor consultation friee shippiing private delivery home mioney back giuarantee p fulil reifund delighted please visit site information http www asddcr com xm pnwipsfjr cvqyvv molscvdbjf jksxdxyg taxicwgkpb rtdpzk jwjpylb yo kvrz\",\n          \"subject entex apr noms forwarded tom acton corp enron ronald _ _ fancher reliantenergy com tom acton enron com liz bellamy enron com cc subject apr noms multipart message mime format _ mixed acf _ content type multipart alternative boundary _ alternative acf _ _ alternative acf _ content type text plain charset u ascii _ alternative acf _ content type text html charset u ascii _ alternative acf _ _ mixed acf _ content type application x m excel name hpl apr xl content disposition attachment filename hpl apr xl content transfer encoding binary hpl apr xl\"\n        ],\n        \"semantic_type\": \"\",\n        \"description\": \"\"\n      }\n    }\n  ]\n}"
            }
          },
          "metadata": {},
          "execution_count": 15
        }
      ]
    },
    {
      "cell_type": "markdown",
      "source": [
        "# Train Test Split"
      ],
      "metadata": {
        "id": "LwFrAav0eVWp"
      }
    },
    {
      "cell_type": "code",
      "source": [
        "X = dataset.text\n",
        "y = dataset.label\n",
        "\n",
        "print(f'Shape X: {X.shape}\\nShape y:{y.shape}')"
      ],
      "metadata": {
        "colab": {
          "base_uri": "https://localhost:8080/"
        },
        "id": "OtnAb-kaePGP",
        "outputId": "4afec085-c6c8-47db-97cb-15b43192120d"
      },
      "execution_count": null,
      "outputs": [
        {
          "output_type": "stream",
          "name": "stdout",
          "text": [
            "Shape X: (4993,)\n",
            "Shape y:(4993,)\n"
          ]
        }
      ]
    },
    {
      "cell_type": "code",
      "source": [
        "X_train, X_test, y_train, y_test = train_test_split(X,y, test_size=0.2, random_state=42, stratify= y)\n",
        "\n",
        "print(f'Train Set Shape: {X_train.shape, y_train.shape}')\n",
        "print(f'Test Set Shape:{X_test.shape, y_test.shape}')"
      ],
      "metadata": {
        "colab": {
          "base_uri": "https://localhost:8080/"
        },
        "id": "-xnwRhnRekKL",
        "outputId": "1adf04cf-63f7-49c4-feb5-bb7b02172bf7"
      },
      "execution_count": null,
      "outputs": [
        {
          "output_type": "stream",
          "name": "stdout",
          "text": [
            "Train Set Shape: ((3994,), (3994,))\n",
            "Test Set Shape:((999,), (999,))\n"
          ]
        }
      ]
    },
    {
      "cell_type": "code",
      "source": [
        "tfidf = TfidfVectorizer(stop_words= 'english')\n",
        "X_train = tfidf.fit_transform(X_train)\n",
        "X_test = tfidf.transform(X_test)"
      ],
      "metadata": {
        "id": "igjoj3HBfEBr"
      },
      "execution_count": null,
      "outputs": []
    },
    {
      "cell_type": "markdown",
      "source": [
        "# Logistic Regression"
      ],
      "metadata": {
        "id": "jM6mTonzqyVn"
      }
    },
    {
      "cell_type": "code",
      "source": [
        "#Logistic regression\n",
        "lr = LogisticRegression(class_weight='balanced',random_state=42)\n",
        "lr.fit(X_train,y_train)\n",
        "\n",
        "y_hat_train = lr.predict(X_train)\n",
        "y_hat_train_proba = lr.predict_proba(X_train)\n",
        "\n",
        "y_hat_test = lr.predict(X_test)\n",
        "y_hat_test_proba = lr.predict_proba(X_test)\n",
        "\n",
        "print(f'Train:\\n {classification_report(y_train,y_hat_train)}')\n",
        "print(f'*'*50)\n",
        "print(f'Test:\\n {classification_report(y_test,y_hat_test)}')\n",
        "print(f'*'*50)\n",
        "print('Train ROC-AUC:', (roc_auc_score(y_train, y_hat_train_proba[:, 1])))\n",
        "print('Test ROC-AUC:', roc_auc_score(y_test, y_hat_test_proba[:, 1]))\n",
        "print(f'*'*50)\n",
        "print(f'Confusion Matrix: \\n {confusion_matrix(y_test,y_hat_test)}')"
      ],
      "metadata": {
        "colab": {
          "base_uri": "https://localhost:8080/"
        },
        "id": "Zkov-Wjrjaik",
        "outputId": "1069349e-06d0-4966-d2fd-542c8c0e373d"
      },
      "execution_count": null,
      "outputs": [
        {
          "output_type": "stream",
          "name": "stdout",
          "text": [
            "Train:\n",
            "               precision    recall  f1-score   support\n",
            "\n",
            "           0       1.00      0.97      0.98      2825\n",
            "           1       0.93      1.00      0.96      1169\n",
            "\n",
            "    accuracy                           0.98      3994\n",
            "   macro avg       0.96      0.98      0.97      3994\n",
            "weighted avg       0.98      0.98      0.98      3994\n",
            "\n",
            "**************************************************\n",
            "Test:\n",
            "               precision    recall  f1-score   support\n",
            "\n",
            "           0       1.00      0.93      0.96       706\n",
            "           1       0.85      1.00      0.92       293\n",
            "\n",
            "    accuracy                           0.95       999\n",
            "   macro avg       0.93      0.96      0.94       999\n",
            "weighted avg       0.96      0.95      0.95       999\n",
            "\n",
            "**************************************************\n",
            "Train ROC-AUC: 0.9998071114408352\n",
            "Test ROC-AUC: 0.997379845111139\n",
            "**************************************************\n",
            "Confusion Matrix: \n",
            " [[656  50]\n",
            " [  0 293]]\n"
          ]
        }
      ]
    },
    {
      "cell_type": "markdown",
      "source": [
        "# ROC-AUC Curve Train and Test Set"
      ],
      "metadata": {
        "id": "_eQoc7Z_wOHr"
      }
    },
    {
      "cell_type": "code",
      "source": [
        "#display roc-auc curve train\n",
        "fig, ax = plt.subplots(1,2, figsize=(10,6))\n",
        "\n",
        "RocCurveDisplay.from_estimator(lr,X_train,y_train, ax=ax[0])\n",
        "ax[0].set_title('ROC-AUC Curve - Train Set')\n",
        "ax[0].plot([0, 1], [0, 1], linestyle='--', color='gray')\n",
        "\n",
        "#display roc curve test\n",
        "RocCurveDisplay.from_estimator(lr,X_test,y_test, ax=ax[1])\n",
        "ax[1].set_title('ROC-AUC Curve - Test Set')\n",
        "ax[1].plot([0, 1], [0, 1], linestyle='--', color='gray')\n",
        "plt.show()"
      ],
      "metadata": {
        "colab": {
          "base_uri": "https://localhost:8080/",
          "height": 454
        },
        "id": "1ZXXjbS_mJel",
        "outputId": "563539d7-9768-4833-f1b3-3c50060fa758"
      },
      "execution_count": null,
      "outputs": [
        {
          "output_type": "display_data",
          "data": {
            "text/plain": [
              "<Figure size 1000x600 with 2 Axes>"
            ],
            "image/png": "[encoded data removed]"
          },
          "metadata": {}
        }
      ]
    },
    {
      "cell_type": "markdown",
      "source": [
        "The ROC curve is a visual representation of model performance across all thresholds.\n",
        "The area under the ROC curve (AUC) represents the probability that the model, if given a randomly chosen positive and negative example, will rank the positive higher than the negative.\n",
        "\n",
        "The Logistic Regression model scored 99.7% in test set. It means that the model is very accurate to detect **spam emails**"
      ],
      "metadata": {
        "id": "JdMq-MzbnZp8"
      }
    },
    {
      "cell_type": "markdown",
      "source": [
        "# Naive Bayes Models"
      ],
      "metadata": {
        "id": "Evizdj8cq73E"
      }
    },
    {
      "cell_type": "code",
      "source": [
        "#Bernoulli NB\n",
        "benb = BernoulliNB()\n",
        "benb.fit(X_train,y_train)\n",
        "report = classification_report(y_test, benb.predict(X_test))\n",
        "print(f'Test Set \\n {report}')\n",
        "\n",
        "confusion_matrix(y_test, benb.predict(X_test))"
      ],
      "metadata": {
        "colab": {
          "base_uri": "https://localhost:8080/"
        },
        "id": "vc8C1IArfMzn",
        "outputId": "d7ba7413-9f8c-48cc-9b96-58a36d2f684f"
      },
      "execution_count": null,
      "outputs": [
        {
          "output_type": "stream",
          "name": "stdout",
          "text": [
            "Test Set \n",
            "               precision    recall  f1-score   support\n",
            "\n",
            "           0       0.82      0.98      0.89       706\n",
            "           1       0.92      0.48      0.63       293\n",
            "\n",
            "    accuracy                           0.83       999\n",
            "   macro avg       0.87      0.73      0.76       999\n",
            "weighted avg       0.85      0.83      0.82       999\n",
            "\n"
          ]
        },
        {
          "output_type": "execute_result",
          "data": {
            "text/plain": [
              "array([[694,  12],\n",
              "       [153, 140]])"
            ]
          },
          "metadata": {},
          "execution_count": 21
        }
      ]
    },
    {
      "cell_type": "code",
      "source": [
        "#Multinomial NB\n",
        "munb = MultinomialNB()\n",
        "munb.fit(X_train,y_train)\n",
        "report = classification_report(y_test, munb.predict(X_test))\n",
        "print(f'Test Set \\n {report}')\n",
        "\n",
        "confusion_matrix(y_test, munb.predict(X_test))"
      ],
      "metadata": {
        "colab": {
          "base_uri": "https://localhost:8080/"
        },
        "id": "DvsMvWRVfkqn",
        "outputId": "7f0ff388-8b5f-4891-8ca4-8844476c9186"
      },
      "execution_count": null,
      "outputs": [
        {
          "output_type": "stream",
          "name": "stdout",
          "text": [
            "Test Set \n",
            "               precision    recall  f1-score   support\n",
            "\n",
            "           0       0.92      0.99      0.96       706\n",
            "           1       0.98      0.80      0.88       293\n",
            "\n",
            "    accuracy                           0.94       999\n",
            "   macro avg       0.95      0.89      0.92       999\n",
            "weighted avg       0.94      0.94      0.93       999\n",
            "\n"
          ]
        },
        {
          "output_type": "execute_result",
          "data": {
            "text/plain": [
              "array([[702,   4],\n",
              "       [ 60, 233]])"
            ]
          },
          "metadata": {},
          "execution_count": 22
        }
      ]
    },
    {
      "cell_type": "code",
      "source": [
        "#Complement NB\n",
        "comnb = ComplementNB()\n",
        "comnb.fit(X_train,y_train)\n",
        "report = classification_report(y_test, comnb.predict(X_test))\n",
        "print(f'Test Set \\n {report}')\n",
        "\n",
        "confusion_matrix(y_test, comnb.predict(X_test))"
      ],
      "metadata": {
        "colab": {
          "base_uri": "https://localhost:8080/"
        },
        "id": "8T5CHBJZfyBd",
        "outputId": "61ffdee5-c4e8-4734-a0a5-5e19a96b877d"
      },
      "execution_count": null,
      "outputs": [
        {
          "output_type": "stream",
          "name": "stdout",
          "text": [
            "Test Set \n",
            "               precision    recall  f1-score   support\n",
            "\n",
            "           0       0.98      0.99      0.98       706\n",
            "           1       0.98      0.94      0.96       293\n",
            "\n",
            "    accuracy                           0.98       999\n",
            "   macro avg       0.98      0.97      0.97       999\n",
            "weighted avg       0.98      0.98      0.98       999\n",
            "\n"
          ]
        },
        {
          "output_type": "execute_result",
          "data": {
            "text/plain": [
              "array([[699,   7],\n",
              "       [ 17, 276]])"
            ]
          },
          "metadata": {},
          "execution_count": 23
        }
      ]
    },
    {
      "cell_type": "code",
      "source": [
        "#Gaussian NB\n",
        "gausnb = GaussianNB()\n",
        "X_train_dense = X_train.toarray()\n",
        "X_test_dense = X_test.toarray()\n",
        "gausnb.fit(X_train_dense,y_train)\n",
        "report = classification_report(y_test, gausnb.predict(X_test_dense))\n",
        "print(f'Test Set \\n {report}')\n",
        "\n",
        "confusion_matrix(y_test, gausnb.predict(X_test_dense))"
      ],
      "metadata": {
        "colab": {
          "base_uri": "https://localhost:8080/"
        },
        "id": "S5TyrGmVf75e",
        "outputId": "a354977c-b4dc-4143-c1c5-b9f60c8865b8"
      },
      "execution_count": null,
      "outputs": [
        {
          "output_type": "stream",
          "name": "stdout",
          "text": [
            "Test Set \n",
            "               precision    recall  f1-score   support\n",
            "\n",
            "           0       0.96      0.96      0.96       706\n",
            "           1       0.89      0.89      0.89       293\n",
            "\n",
            "    accuracy                           0.94       999\n",
            "   macro avg       0.93      0.93      0.93       999\n",
            "weighted avg       0.94      0.94      0.94       999\n",
            "\n"
          ]
        },
        {
          "output_type": "execute_result",
          "data": {
            "text/plain": [
              "array([[675,  31],\n",
              "       [ 31, 262]])"
            ]
          },
          "metadata": {},
          "execution_count": 24
        }
      ]
    },
    {
      "cell_type": "markdown",
      "source": [
        "Naive Bayes is used for creating classifier models, which allocate class labels to define problem instances, represented as vectors of feature values, where the class labels are taken from some finite set. Naive Bayes classifiers assume that the value of a particular feature is independent of the given value of any other feature in the given class. Parameter estimation for Naive Bayes models applies maximum likelihood in many practical applications, or the Naive Bayes model can be implemented without applying Bayesian probability or any type of Bayesian procedure.\n",
        "\n",
        "The results obtained are very good, even considering the unbalanced dataset.\n",
        "At present, the best performing models are the logistic regression (LR) and the Complement Naive bayes (CNB)."
      ],
      "metadata": {
        "id": "Smm3TNe1s4sg"
      }
    },
    {
      "cell_type": "markdown",
      "source": [
        "# Logistic Regression with SMOTE"
      ],
      "metadata": {
        "id": "EzEgoWYslDz1"
      }
    },
    {
      "cell_type": "code",
      "source": [
        "#Smote model\n",
        "sm = SMOTE(random_state=42)\n",
        "X_train_res, y_train_res = sm.fit_resample(X_train,y_train)\n",
        "\n",
        "print(f'Resampled dataset shape %s' % Counter(y_train_res))"
      ],
      "metadata": {
        "colab": {
          "base_uri": "https://localhost:8080/"
        },
        "id": "ksACzqZQgGHy",
        "outputId": "6bdb2353-5038-4383-efad-32b3a2df7ecb"
      },
      "execution_count": null,
      "outputs": [
        {
          "output_type": "stream",
          "name": "stdout",
          "text": [
            "Resampled dataset shape Counter({0: 2825, 1: 2825})\n"
          ]
        }
      ]
    },
    {
      "cell_type": "code",
      "source": [
        "#Logistic regression with smote\n",
        "lr = LogisticRegression(class_weight='balanced',random_state=42)\n",
        "lr.fit(X_train_res,y_train_res)\n",
        "\n",
        "y_hat_train = lr.predict(X_train_res)\n",
        "y_hat_train_proba = lr.predict_proba(X_train_res)\n",
        "\n",
        "y_hat_test = lr.predict(X_test)\n",
        "y_hat_test_proba = lr.predict_proba(X_test)\n",
        "\n",
        "print(f'Train Report \\n {classification_report(y_train_res,y_hat_train)}')\n",
        "print(f'*'*50)\n",
        "print(f'Test Report \\n {classification_report(y_test,y_hat_test)}')\n",
        "print(f'*'*50)\n",
        "print('Train ROC-AUC:', (roc_auc_score(y_train_res, y_hat_train_proba[:, 1])))\n",
        "print('Test ROC-AUC:', roc_auc_score(y_test, y_hat_test_proba[:, 1]))\n",
        "print(f'*'*50)\n",
        "print(f'Confusion Matrix: \\n {confusion_matrix(y_test,y_hat_test)}')"
      ],
      "metadata": {
        "colab": {
          "base_uri": "https://localhost:8080/"
        },
        "id": "V-PQpsQVkiVw",
        "outputId": "e7647fd2-6d83-4a09-e6b1-5146b656f1f2"
      },
      "execution_count": null,
      "outputs": [
        {
          "output_type": "stream",
          "name": "stdout",
          "text": [
            "Train Report \n",
            "               precision    recall  f1-score   support\n",
            "\n",
            "           0       1.00      0.98      0.99      2825\n",
            "           1       0.98      1.00      0.99      2825\n",
            "\n",
            "    accuracy                           0.99      5650\n",
            "   macro avg       0.99      0.99      0.99      5650\n",
            "weighted avg       0.99      0.99      0.99      5650\n",
            "\n",
            "**************************************************\n",
            "Test Report \n",
            "               precision    recall  f1-score   support\n",
            "\n",
            "           0       1.00      0.95      0.98       706\n",
            "           1       0.90      1.00      0.95       293\n",
            "\n",
            "    accuracy                           0.97       999\n",
            "   macro avg       0.95      0.98      0.96       999\n",
            "weighted avg       0.97      0.97      0.97       999\n",
            "\n",
            "**************************************************\n",
            "Train ROC-AUC: 0.9998803351867804\n",
            "Test ROC-AUC: 0.9974426901545989\n",
            "**************************************************\n",
            "Confusion Matrix: \n",
            " [[673  33]\n",
            " [  0 293]]\n"
          ]
        }
      ]
    },
    {
      "cell_type": "markdown",
      "source": [
        "# Naive Bayes Models with SMOTE"
      ],
      "metadata": {
        "id": "epmjCDX8rP-S"
      }
    },
    {
      "cell_type": "code",
      "source": [
        "#Bernoulli NB\n",
        "benb = BernoulliNB()\n",
        "benb.fit(X_train_res,y_train_res)\n",
        "report = classification_report(y_test, benb.predict(X_test))\n",
        "print(f'Test Set \\n {report}')\n",
        "\n",
        "print(f'Confusion Matrix: \\n {confusion_matrix(y_test, benb.predict(X_test))}')"
      ],
      "metadata": {
        "colab": {
          "base_uri": "https://localhost:8080/"
        },
        "id": "uH8Ap4gVhehp",
        "outputId": "f41fd57e-d32e-4270-c712-e3a015061a53"
      },
      "execution_count": null,
      "outputs": [
        {
          "output_type": "stream",
          "name": "stdout",
          "text": [
            "Test Set \n",
            "               precision    recall  f1-score   support\n",
            "\n",
            "           0       0.81      0.98      0.88       706\n",
            "           1       0.88      0.44      0.59       293\n",
            "\n",
            "    accuracy                           0.82       999\n",
            "   macro avg       0.85      0.71      0.74       999\n",
            "weighted avg       0.83      0.82      0.80       999\n",
            "\n",
            "Confusion Matrix: \n",
            " [[689  17]\n",
            " [164 129]]\n"
          ]
        }
      ]
    },
    {
      "cell_type": "code",
      "source": [
        "#Multinomial NB\n",
        "munb = MultinomialNB()\n",
        "munb.fit(X_train_res,y_train_res)\n",
        "report = classification_report(y_test, munb.predict(X_test))\n",
        "print(f'Test Set \\n {report}')\n",
        "\n",
        "print(f'Confusion Matrix: \\n {confusion_matrix(y_test, munb.predict(X_test))}')"
      ],
      "metadata": {
        "colab": {
          "base_uri": "https://localhost:8080/"
        },
        "id": "Bvyh3SMuiEb8",
        "outputId": "af5713ea-cd9e-426a-a809-6c1d77f05936"
      },
      "execution_count": null,
      "outputs": [
        {
          "output_type": "stream",
          "name": "stdout",
          "text": [
            "Test Set \n",
            "               precision    recall  f1-score   support\n",
            "\n",
            "           0       1.00      0.95      0.97       706\n",
            "           1       0.89      0.99      0.94       293\n",
            "\n",
            "    accuracy                           0.96       999\n",
            "   macro avg       0.94      0.97      0.96       999\n",
            "weighted avg       0.97      0.96      0.96       999\n",
            "\n",
            "Confusion Matrix: \n",
            " [[670  36]\n",
            " [  2 291]]\n"
          ]
        }
      ]
    },
    {
      "cell_type": "code",
      "source": [
        "#Complement NB\n",
        "comnb = ComplementNB()\n",
        "comnb.fit(X_train_res,y_train_res)\n",
        "report = classification_report(y_test, comnb.predict(X_test))\n",
        "print(f'Test Set \\n {report}')\n",
        "\n",
        "confusion_matrix(y_test, comnb.predict(X_test))"
      ],
      "metadata": {
        "colab": {
          "base_uri": "https://localhost:8080/"
        },
        "id": "e3RRAX93xZCL",
        "outputId": "2fe702e6-14d9-4bb9-82e4-88e09fff8031"
      },
      "execution_count": null,
      "outputs": [
        {
          "output_type": "stream",
          "name": "stdout",
          "text": [
            "Test Set \n",
            "               precision    recall  f1-score   support\n",
            "\n",
            "           0       1.00      0.95      0.97       706\n",
            "           1       0.89      0.99      0.94       293\n",
            "\n",
            "    accuracy                           0.96       999\n",
            "   macro avg       0.94      0.97      0.96       999\n",
            "weighted avg       0.97      0.96      0.96       999\n",
            "\n"
          ]
        },
        {
          "output_type": "execute_result",
          "data": {
            "text/plain": [
              "array([[670,  36],\n",
              "       [  2, 291]])"
            ]
          },
          "metadata": {},
          "execution_count": 29
        }
      ]
    },
    {
      "cell_type": "markdown",
      "source": [
        "After the application of Smote, then the creation of minority class data, Logistic Regression performs very well.\n",
        "\n",
        "* True Positive:  673  \n",
        "* False Negative: 33\n",
        "* False Positive: 0\n",
        "* True Negative:  293\n",
        "\n",
        "The model is excellent in recognising Spam e-mails, the accuracy is highest, which means that the model is extremely effective in not misclassifying Ham e-mails as Spam.\n",
        "\n",
        "The only area for improvement is recall, which is not perfect due to the 33 false negatives (Spam wrongly classified as Ham), but still a very good value.\n",
        "\n",
        "The complement Naive bayes model make the statistics worse as it works well even with unbalanced data."
      ],
      "metadata": {
        "id": "z7IbttAbtPfV"
      }
    },
    {
      "cell_type": "markdown",
      "source": [
        "# Inference Logistic Regression and Complement Naive bays"
      ],
      "metadata": {
        "id": "KRy6RLBEshio"
      }
    },
    {
      "cell_type": "code",
      "source": [
        "def is_spam(text):\n",
        "  text_tfidf = tfidf.transform([text])\n",
        "  pred = lr.predict(text_tfidf)[0]\n",
        "  return pred == 1"
      ],
      "metadata": {
        "id": "rPuq_ujFsBrU"
      },
      "execution_count": null,
      "outputs": []
    },
    {
      "cell_type": "code",
      "source": [
        "def is_spam_nb(text):\n",
        "  text_tfidf = tfidf.transform([text])\n",
        "  pred = comnb.predict(text_tfidf)[0]\n",
        "  return pred == 1"
      ],
      "metadata": {
        "id": "wkRr5gMPzCrn"
      },
      "execution_count": null,
      "outputs": []
    },
    {
      "cell_type": "code",
      "source": [
        "print(is_spam('Congratulations! You have won a FREE gift!'))\n",
        "print(is_spam('Earn $10,000 per month effortlessly!'))\n",
        "print(is_spam('Dear, Matteo i have a question for you'))\n",
        "print(is_spam('Here is your GitHub launch code!'))"
      ],
      "metadata": {
        "colab": {
          "base_uri": "https://localhost:8080/"
        },
        "id": "k2UUgVd2sLuu",
        "outputId": "936f99a3-1f43-4281-8f3d-ad03156a4a57"
      },
      "execution_count": null,
      "outputs": [
        {
          "output_type": "stream",
          "name": "stdout",
          "text": [
            "True\n",
            "True\n",
            "False\n",
            "True\n"
          ]
        }
      ]
    },
    {
      "cell_type": "code",
      "source": [
        "print(is_spam_nb('Earn $10,000 per month effortlessly!'))\n",
        "print(is_spam_nb('Congratulations! You have won a FREE gift!'))\n",
        "print(is_spam_nb('Dear, Matteo i have a question for you'))\n",
        "print(is_spam_nb('Here is your GitHub launch code!'))"
      ],
      "metadata": {
        "colab": {
          "base_uri": "https://localhost:8080/"
        },
        "id": "iR-KjwxNzBqT",
        "outputId": "6d93a31c-56c9-4e5b-eebc-6fe3bfa9aa80"
      },
      "execution_count": null,
      "outputs": [
        {
          "output_type": "stream",
          "name": "stdout",
          "text": [
            "True\n",
            "True\n",
            "False\n",
            "True\n"
          ]
        }
      ]
    },
    {
      "cell_type": "markdown",
      "source": [
        "The function takes text and thanks to Logistic regression / Complement NB model recognize if the email is spam or ham with high reliability.\n"
      ],
      "metadata": {
        "id": "nPC1ocrCsrBt"
      }
    },
    {
      "cell_type": "markdown",
      "source": [
        "# Identifying the main topics among e-mails classified as spam"
      ],
      "metadata": {
        "id": "zCGtWbDV0mcY"
      }
    },
    {
      "cell_type": "code",
      "source": [
        "# filter spam email from dataset\n",
        "spam_emails = dataset[dataset['label'] == 1]['text']\n",
        "\n",
        "tokenized_text = [word_tokenize(text) for text in spam_emails]\n",
        "\n",
        "dictionary = corpora.Dictionary(tokenized_text)\n",
        "bow_text = [dictionary.doc2bow(text) for text in tokenized_text ]"
      ],
      "metadata": {
        "id": "pX9t_G5B0lgV"
      },
      "execution_count": null,
      "outputs": []
    },
    {
      "cell_type": "code",
      "source": [
        "lda_model = gensim.models.LdaMulticore(\n",
        "    corpus=bow_text,\n",
        "    num_topics= 10,\n",
        "    id2word=dictionary,\n",
        "    passes=5\n",
        ")\n",
        "\n",
        "pprint(lda_model.print_topics())\n",
        "doc_lda = lda_model[bow_text]"
      ],
      "metadata": {
        "colab": {
          "base_uri": "https://localhost:8080/"
        },
        "id": "HwrBN2qV2KvD",
        "outputId": "62020cd5-5783-4c05-fbfb-de4189dcaacd"
      },
      "execution_count": null,
      "outputs": [
        {
          "output_type": "stream",
          "name": "stderr",
          "text": [
            "WARNING:gensim.models.ldamulticore:too few updates, training might not converge; consider increasing the number of passes or iterations to improve accuracy\n"
          ]
        },
        {
          "output_type": "stream",
          "name": "stdout",
          "text": [
            "[(0,\n",
            "  '0.004*\"subject\" + 0.002*\"e\" + 0.002*\"dosage\" + 0.001*\"u\" + 0.001*\"g\" + '\n",
            "  '0.001*\"get\" + 0.001*\"p\" + 0.001*\"stock\" + 0.001*\"cognitive\" + 0.001*\"l\"'),\n",
            " (1,\n",
            "  '0.027*\"_\" + 0.011*\"subject\" + 0.009*\"price\" + 0.006*\"window\" + '\n",
            "  '0.005*\"adobe\" + 0.005*\"http\" + 0.004*\"professional\" + 0.004*\"u\" + '\n",
            "  '0.004*\"save\" + 0.004*\"software\"'),\n",
            " (2,\n",
            "  '0.012*\"com\" + 0.010*\"subject\" + 0.009*\"computron\" + 0.009*\"e\" + 0.009*\"u\" + '\n",
            "  '0.007*\"message\" + 0.007*\"www\" + 0.007*\"price\" + 0.007*\"contact\" + '\n",
            "  '0.006*\"please\"'),\n",
            " (3,\n",
            "  '0.022*\"_\" + 0.018*\"http\" + 0.017*\"td\" + 0.016*\"nbsp\" + 0.013*\"height\" + '\n",
            "  '0.011*\"width\" + 0.010*\"com\" + 0.010*\"subject\" + 0.009*\"font\" + 0.008*\"www\"'),\n",
            " (4,\n",
            "  '0.010*\"company\" + 0.008*\"statement\" + 0.005*\"email\" + 0.005*\"stock\" + '\n",
            "  '0.005*\"may\" + 0.005*\"investment\" + 0.004*\"subject\" + 0.004*\"security\" + '\n",
            "  '0.004*\"price\" + 0.004*\"within\"'),\n",
            " (5,\n",
            "  '0.006*\"subject\" + 0.002*\"e\" + 0.002*\"time\" + 0.002*\"wysak\" + '\n",
            "  '0.002*\"aerofoam\" + 0.002*\"com\" + 0.002*\"day\" + 0.002*\"one\" + '\n",
            "  '0.002*\"account\" + 0.002*\"company\"'),\n",
            " (6,\n",
            "  '0.008*\"subject\" + 0.004*\"get\" + 0.003*\"http\" + 0.003*\"u\" + 0.003*\"new\" + '\n",
            "  '0.003*\"money\" + 0.002*\"full\" + 0.002*\"want\" + 0.002*\"story\" + 0.002*\"make\"'),\n",
            " (7,\n",
            "  '0.013*\"company\" + 0.007*\"information\" + 0.007*\"subject\" + 0.006*\"stock\" + '\n",
            "  '0.006*\"statement\" + 0.005*\"security\" + 0.004*\"report\" + 0.003*\"within\" + '\n",
            "  '0.003*\"one\" + 0.003*\"may\"'),\n",
            " (8,\n",
            "  '0.012*\"font\" + 0.010*\"subject\" + 0.009*\"color\" + 0.008*\"face\" + '\n",
            "  '0.007*\"http\" + 0.007*\"com\" + 0.006*\"size\" + 0.006*\"align\" + 0.006*\"p\" + '\n",
            "  '0.004*\"u\"'),\n",
            " (9,\n",
            "  '0.019*\"pill\" + 0.006*\"subject\" + 0.006*\"mg\" + 0.005*\"de\" + 0.003*\"viagra\" + '\n",
            "  '0.003*\"x\" + 0.003*\"e\" + 0.003*\"r\" + 0.003*\"l\" + 0.003*\"n\"')]\n"
          ]
        }
      ]
    },
    {
      "cell_type": "markdown",
      "source": [
        "For identifying the main topics we have chose only the dataset with spam emails, tokenized text , created a dictionary and used the bag of words technique.\n",
        "\n",
        "The topics are seems like:\n",
        "* Topic 0: Pharmacy (?)\n",
        "* Topic 1: Software, pc, IT\n",
        "* Topic 2: Message, url, internet\n",
        "* Topic 3: Image, height,width\n",
        "* Topic 4: Investment, price, email, job, message\n",
        "* Topic 5: Aerofoam\n",
        "* Topic 6: Money, offer, link\n",
        "* Topic 7: Security, information\n",
        "* Topic 8: Web site, www, http\n",
        "* Topic 9: Medicine"
      ],
      "metadata": {
        "id": "znC5F7kc0lfk"
      }
    },
    {
      "cell_type": "markdown",
      "source": [
        "# Visualizzation Most Salient Terms"
      ],
      "metadata": {
        "id": "sWTdAfFtAe3b"
      }
    },
    {
      "cell_type": "code",
      "source": [
        "vis = gensimvis.prepare(lda_model, bow_text, dictionary)\n",
        "pyLDAvis.display(vis)"
      ],
      "metadata": {
        "colab": {
          "base_uri": "https://localhost:8080/",
          "height": 861
        },
        "id": "fGx-k4_R_YFx",
        "outputId": "a6632e4d-2591-47c2-8834-178e2d0cf38f"
      },
      "execution_count": null,
      "outputs": [
        {
          "output_type": "execute_result",
          "data": {
            "text/plain": [
              "<IPython.core.display.HTML object>"
            ],
            "text/html": [
              "\n",
              "<link rel=\"stylesheet\" type=\"text/css\" href=\"https://cdn.jsdelivr.net/gh/bmabey/pyLDAvis@3.4.0/pyLDAvis/js/ldavis.v1.0.0.css\">\n",
              "\n",
              "\n",
              "<div id=\"ldavis_el6131320193825897449909209484\" style=\"background-color:white;\"></div>\n",
              "<script type=\"text/javascript\">\n",
              "\n",
              "var ldavis_el6131320193825897449909209484_data = {\"mdsDat\": {\"x\": [-0.1443583735072249, -0.13376446778276282, -0.030914012168950403, -0.04578961693784097, -0.04364357045974986, 0.011386032160658251, 0.2162394081069154, 0.03234830847947635, 0.10464408398057999, 0.033852208128898796], \"y\": [-0.09173654599402592, -0.08162164280839548, 0.0949943290967033, 0.14262825732083287, 0.018580102313739542, -0.030900406033749606, -0.06404130320688563, 0.08245229523455093, 0.00045211662414038864, -0.07080720254691085], \"topics\": [1, 2, 3, 4, 5, 6, 7, 8, 9, 10], \"cluster\": [1, 1, 1, 1, 1, 1, 1, 1, 1, 1], \"Freq\": [19.49511310674854, 17.40124323983326, 11.625546342461728, 11.474608525805126, 8.87557161589475, 7.130607979737697, 6.538175608799032, 5.95142706396498, 5.823403342581804, 5.684303174173092]}, \"tinfo\": {\"Term\": [\"_\", \"nbsp\", \"td\", \"pill\", \"font\", \"height\", \"width\", \"http\", \"computron\", \"company\", \"statement\", \"com\", \"align\", \"color\", \"face\", \"border\", \"tr\", \"src\", \"size\", \"price\", \"subject\", \"href\", \"www\", \"contact\", \"nd\", \"window\", \"adobe\", \"cd\", \"microsoft\", \"mg\", \"yap\", \"pubiisher\", \"tiger\", \"gissin\", \"techlite\", \"imited\", \"tirr\", \"medica\", \"ypil\", \"ecourse\", \"karpenkov\", \"transmission\", \"ddsr\", \"schoolyard\", \"curve\", \"mortar\", \"fatah\", \"fired\", \"kwbt\", \"executing\", \"lighting\", \"hamas\", \"tradestar\", \"cinm\", \"inciuding\", \"weapon\", \"troop\", \"rgsa\", \"wouid\", \"technoiogies\", \"shell\", \"towards\", \"internationa\", \"couid\", \"oniine\", \"assurance\", \"indicative\", \"materia\", \"extender\", \"factor\", \"palestinian\", \"constitutes\", \"bankruptcy\", \"israeli\", \"tax\", \"company\", \"source\", \"information\", \"voip\", \"hospital\", \"said\", \"sec\", \"performance\", \"security\", \"stock\", \"future\", \"risk\", \"investing\", \"publisher\", \"statement\", \"number\", \"gas\", \"report\", \"market\", \"within\", \"fact\", \"past\", \"inc\", \"advice\", \"investment\", \"claim\", \"one\", \"material\", \"subject\", \"may\", \"many\", \"money\", \"new\", \"business\", \"product\", \"service\", \"get\", \"u\", \"com\", \"price\", \"http\", \"itoy\", \"knle\", \"leth\", \"abdv\", \"biosphere\", \"speedway\", \"sidebacks\", \"lauraan\", \"istorage\", \"geec\", \"simulator\", \"atlantis\", \"vocalscape\", \"udve\", \"guyana\", \"dissolve\", \"inflatables\", \"iogn\", \"hstj\", \"biel\", \"nascar\", \"ejrhxw\", \"wein\", \"handheldmed\", \"tracker\", \"silicon\", \"eshopkey\", \"mmsr\", \"emerging\", \"imts\", \"indianapolis\", \"mnei\", \"portugal\", \"tab\", \"tadalafil\", \"speculative\", \"waste\", \"delta\", \"profit\", \"pick\", \"share\", \"soft\", \"statement\", \"forward\", \"pt\", \"holding\", \"exploration\", \"patient\", \"target\", \"investment\", \"family\", \"sport\", \"event\", \"company\", \"news\", \"may\", \"direct\", \"looking\", \"stock\", \"email\", \"within\", \"cialis\", \"security\", \"inc\", \"china\", \"report\", \"business\", \"act\", \"new\", \"million\", \"product\", \"service\", \"price\", \"made\", \"time\", \"line\", \"information\", \"subject\", \"e\", \"u\", \"com\", \"moopid\", \"hotlist\", \"hottlist\", \"htmlimg\", \"jpg\", \"nbsp\", \"adipren\", \"spacer\", \"ftar\", \"aged\", \"src\", \"weightloss\", \"spanbr\", \"basetxt\", \"lefta\", \"bractive\", \"brrating\", \"htmlview\", \"enlarge\", \"roxanne\", \"border\", \"alpha\", \"anbsp\", \"calorized\", \"width\", \"suppresses\", \"verdana\", \"cf\", \"gif\", \"lasting\", \"height\", \"img\", \"td\", \"tr\", \"nd\", \"colspan\", \"href\", \"bgcolor\", \"cellspacing\", \"br\", \"table\", \"center\", \"align\", \"_\", \"http\", \"font\", \"valign\", \"index\", \"size\", \"www\", \"com\", \"subject\", \"style\", \"c\", \"b\", \"e\", \"get\", \"time\", \"sofftwaares\", \"computron\", \"usr\", \"iomega\", \"intel\", \"targus\", \"jebel\", \"cisco\", \"aeor\", \"zonedubai\", \"versionsfeatures\", \"compaq\", \"casing\", \"aopen\", \"legislation\", \"toshiba\", \"customerservice\", \"packard\", \"intellinet\", \"apc\", \"viewsonic\", \"robotics\", \"sie\", \"compartment\", \"availability\", \"gotten\", \"uae\", \"wlndows\", \"adobbe\", \"speaker\", \"hewlett\", \"distributorjebel\", \"sony\", \"paragraph\", \"suggestion\", \"duty\", \"ali\", \"enquiry\", \"creative\", \"cd\", \"dell\", \"listing\", \"contact\", \"message\", \"dealer\", \"microsoft\", \"canon\", \"reply\", \"download\", \"pro\", \"e\", \"com\", \"r\", \"u\", \"link\", \"title\", \"sale\", \"x\", \"remove\", \"www\", \"mail\", \"text\", \"price\", \"please\", \"subject\", \"free\", \"g\", \"h\", \"th\", \"c\", \"email\", \"special\", \"http\", \"information\", \"rnd\", \"ich\", \"fbgo\", \"bingo\", \"habe\", \"gbic\", \"dispatch\", \"xm\", \"pagemaker\", \"vaiium\", \"wedelmusic\", \"retailler\", \"itec\", \"saave\", \"powerline\", \"itecs\", \"bingoline\", \"barclays\", \"sirius\", \"lls\", \"lotteria\", \"illustrator\", \"hdtv\", \"notation\", \"erp\", \"raymond\", \"musicnetwork\", \"zwallet\", \"moval\", \"widely\", \"delphi\", \"ordering\", \"adobe\", \"alt\", \"dreamwaver\", \"_\", \"trivia\", \"window\", \"m\", \"corel\", \"photoshop\", \"mx\", \"professional\", \"med\", \"low\", \"music\", \"edition\", \"xp\", \"macromedia\", \"pi\", \"prescription\", \"price\", \"save\", \"software\", \"office\", \"discount\", \"drug\", \"subject\", \"online\", \"server\", \"quality\", \"microsoft\", \"order\", \"u\", \"http\", \"com\", \"rate\", \"best\", \"need\", \"get\", \"www\", \"time\", \"please\", \"copper\", \"miningnews\", \"cdyv\", \"aspermont\", \"brian\", \"benin\", \"hacking\", \"kenob\", \"marking\", \"ffa\", \"fftable\", \"shah\", \"undergroundcd\", \"disappear\", \"bannedcd\", \"govenment\", \"queensland\", \"argpc\", \"pose\", \"americ\", \"spouse\", \"clog\", \"adbfaksaqw\", \"connecticut\", \"sigletos\", \"constantin\", \"proust\", \"ecobank\", \"vacheron\", \"ravindra\", \"semen\", \"story\", \"kin\", \"attorney\", \"nickel\", \"anglo\", \"fucked\", \"ore\", \"watching\", \"mine\", \"january\", \"replica\", \"died\", \"full\", \"mr\", \"rolex\", \"spur\", \"inside\", \"find\", \"someone\", \"watch\", \"wife\", \"deposit\", \"person\", \"love\", \"get\", \"subject\", \"gold\", \"people\", \"thing\", \"want\", \"money\", \"make\", \"new\", \"like\", \"net\", \"good\", \"u\", \"http\", \"one\", \"free\", \"account\", \"know\", \"next\", \"please\", \"com\", \"www\", \"_\", \"e\", \"day\", \"generlc\", \"refurb\", \"respecter\", \"quasar\", \"bender\", \"canaan\", \"nitrate\", \"vandenberg\", \"myrrh\", \"influential\", \"perforate\", \"rascal\", \"defensive\", \"bleed\", \"happenstance\", \"prosaic\", \"cottonwood\", \"wink\", \"dovekie\", \"osborn\", \"scrap\", \"fletcher\", \"poem\", \"needham\", \"chalcocite\", \"togs\", \"dupe\", \"chummy\", \"charybdis\", \"kinesic\", \"dosage\", \"cognitive\", \"cloudburst\", \"durrell\", \"boatload\", \"gallantry\", \"demagnify\", \"afloat\", \"cyclist\", \"statesman\", \"appall\", \"cavern\", \"proletariat\", \"metabole\", \"subject\", \"e\", \"g\", \"bramble\", \"get\", \"u\", \"p\", \"stock\", \"l\", \"dreyfus\", \"day\", \"compendia\", \"kenton\", \"n\", \"female\", \"case\", \"darial\", \"ffffffstrongfont\", \"dcenterfont\", \"dcenter\", \"ccffo\", \"lqgcibz\", \"bvjkiu\", \"fffbf\", \"hellosoft\", \"darialfont\", \"ndin\", \"optinrealbig\", \"dleftfont\", \"cco\", \"fontfont\", \"alisave\", \"darialbr\", \"tol\", \"dleftstrongemfont\", \"siz\", \"aoffa\", \"ffffffnbsp\", \"dcenterstrongfont\", \"strongstrongemfont\", \"impotent\", \"wasting\", \"moosq\", \"klick\", \"smoker\", \"strongfont\", \"tester\", \"normally\", \"fuck\", \"cigarette\", \"color\", \"face\", \"div\", \"comic\", \"ffo\", \"sans\", \"dl\", \"teen\", \"font\", \"strong\", \"align\", \"gt\", \"size\", \"epson\", \"p\", \"subject\", \"http\", \"com\", \"info\", \"medication\", \"relief\", \"med\", \"click\", \"young\", \"word\", \"u\", \"price\", \"visit\", \"prescription\", \"td\", \"pain\", \"www\", \"e\", \"get\", \"free\", \"href\", \"offer\", \"please\", \"b\", \"email\", \"citibank\", \"ortho\", \"fioricet\", \"rfid\", \"acy\", \"une\", \"allixon\", \"hin\", \"reas\", \"kno\", \"tras\", \"hou\", \"saf\", \"rien\", \"ppin\", \"hcl\", \"acyclovir\", \"expe\", \"esgic\", \"skelaxin\", \"flextra\", \"valtrex\", \"evra\", \"wellbutrin\", \"apapl\", \"flexeril\", \"tenuate\", \"cyclobenzaprine\", \"caffeine\", \"famvir\", \"adipex\", \"tramadol\", \"mg\", \"pill\", \"pour\", \"tim\", \"buspar\", \"de\", \"diflucan\", \"ativan\", \"ultram\", \"levitra\", \"ce\", \"artprice\", \"vous\", \"soma\", \"la\", \"ur\", \"viagra\", \"ne\", \"health\", \"vicodin\", \"l\", \"x\", \"le\", \"n\", \"personal\", \"paliourg\", \"plus\", \"r\", \"subject\", \"e\", \"p\", \"c\", \"hi\", \"v\", \"best\", \"available\", \"regard\", \"u\", \"please\", \"xanax\", \"price\", \"get\", \"http\", \"wysak\", \"petroieum\", \"citizensr\", \"wysk\", \"aerofoam\", \"brec\", \"wyoming\", \"upwards\", \"wowgao\", \"spank\", \"methane\", \"csgu\", \"basin\", \"cialdis\", \"bighorn\", \"poiand\", \"dolars\", \"funky\", \"worldexpo\", \"ratify\", \"interrupted\", \"backscatter\", \"wgr\", \"renewabie\", \"coaibed\", \"basheer\", \"xom\", \"pgpu\", \"etter\", \"wmb\", \"pinnacle\", \"powder\", \"ec\", \"eas\", \"binding\", \"metal\", \"wind\", \"river\", \"structural\", \"smoke\", \"quit\", \"air\", \"western\", \"cat\", \"record\", \"financial\", \"issued\", \"subject\", \"day\", \"account\", \"gas\", \"time\", \"energy\", \"banking\", \"e\", \"one\", \"offer\", \"site\", \"go\", \"group\", \"people\", \"please\", \"com\", \"service\", \"u\", \"company\", \"online\", \"technology\", \"may\", \"year\", \"n\", \"work\", \"get\", \"want\", \"price\", \"p\"], \"Freq\": [1014.0, 355.0, 425.0, 271.0, 414.0, 311.0, 259.0, 824.0, 211.0, 838.0, 458.0, 841.0, 185.0, 153.0, 151.0, 166.0, 190.0, 139.0, 258.0, 608.0, 1353.0, 158.0, 499.0, 212.0, 142.0, 188.0, 139.0, 130.0, 170.0, 78.0, 43.75946411201392, 27.55390453175242, 17.987625469115436, 13.591096811110347, 22.067438520388844, 21.091373481709386, 23.61035968425732, 11.7330057815795, 15.096850763692798, 9.206197965866469, 10.870224981716508, 10.850804184741376, 9.160383180698657, 9.155182384789114, 7.460376335903152, 9.120540020044963, 9.114358076732776, 9.100462742549643, 9.077087747977796, 9.07523265450162, 12.385475951093339, 9.077651320679418, 14.066282527362173, 8.220453668133139, 12.34451789661687, 9.813187205780306, 7.339395552138886, 8.141513161786866, 8.119137691988369, 23.30403954355449, 22.57339203906116, 20.16307122949248, 28.628353845466666, 22.890079058771743, 15.96010018650877, 28.69905159056918, 20.455293884934417, 31.99187007683735, 15.84743771540116, 49.38835474634202, 31.790033456313324, 18.60446600069224, 19.275750513947944, 18.162553535067037, 31.810936694525335, 445.05545340811415, 88.43397426617615, 249.55296532887573, 68.71048157622933, 23.5883068394112, 69.22422301622045, 32.758337118765, 80.30135881470567, 182.90948056463253, 200.70632238073802, 112.83865700248988, 89.95484462712858, 65.28950134859387, 51.79262940094873, 194.94683806631932, 101.0775318018015, 83.70907874841235, 126.41527857127485, 97.94019608134887, 119.77769898140559, 73.6507680463772, 52.79273816630069, 103.03544054128213, 73.5866596096375, 111.39889210424928, 49.37554776089064, 117.26692542163276, 52.908781052653, 247.42404902919392, 114.54429753237154, 76.063594304152, 89.25701093899424, 106.29860816088267, 88.5925750592213, 93.34907148687756, 84.03385181123318, 99.26913318265724, 102.34945821532251, 103.92650615659035, 92.14577842714986, 94.0612558596025, 33.550235535541276, 55.920262171276356, 32.65023826232879, 28.16586260973204, 19.469461297737322, 15.947635129227736, 13.26326587006559, 9.849718635697862, 10.631171085265235, 9.792093869523056, 9.78849055597704, 9.7382829291424, 11.375826722905192, 8.934962722405025, 8.902505561237884, 10.434769536913432, 7.17599847123525, 7.984822525256681, 7.184045324702957, 7.1662306117908985, 19.181825016875205, 7.9262791601809175, 7.098832062666923, 9.497006730908733, 9.477992280443987, 13.257191999356385, 4.692779588671818, 6.254616434322516, 21.053058366162865, 6.262826411999818, 16.809718326373346, 14.690672874767031, 11.380845298448415, 58.5175385947584, 19.469107710065128, 40.5638037585541, 34.51910950015685, 14.087685600963534, 33.184057226030475, 27.800404233883704, 106.20758110580817, 73.05179631261825, 235.86795449475073, 109.29799568452096, 82.87306207640573, 37.98563565030546, 26.370218649768553, 22.595252869838145, 47.589944392715346, 142.4460963249997, 65.42980212707086, 26.00177300487524, 70.80134565275344, 305.0205317677661, 97.99960830705992, 153.68566421092962, 38.015388048042006, 102.81577131150446, 161.54125955508383, 163.8719490999005, 118.59831380492133, 64.20931225873525, 135.71575547264777, 98.8470668264649, 52.25442557625625, 103.74720143520484, 99.80168792718071, 79.30385333720531, 113.50057107546365, 78.26940890818334, 101.66794553242153, 88.65584629101825, 131.04122437970233, 62.94181345616655, 94.56988808192307, 70.26318521567461, 97.01729801090099, 137.87046771372397, 89.2368746768084, 86.92038696261925, 88.79845512515807, 60.41891895003481, 60.2096896924124, 24.97422753781983, 55.586082067141156, 59.23723660140037, 332.7300939341763, 16.618807126869882, 18.924772227012195, 36.6165009181183, 10.057103730205473, 126.93435481654018, 10.723527920556974, 8.464814382104477, 8.425492266870634, 8.365074682483455, 8.360654551857658, 8.350053544356781, 8.325608882562603, 8.29154830574035, 12.823978864602854, 146.77214459848292, 6.726065284267892, 12.019132743320414, 6.707380795455899, 228.73156557819502, 6.689585203436421, 25.504414291549672, 40.43147060757026, 69.61306340906359, 9.538729562481375, 264.91538319705455, 59.4239536345022, 349.0724687705759, 150.59553080112647, 113.85006678808308, 46.306355111995714, 118.22078936421784, 63.324802930779555, 20.10877179564137, 90.55303163638472, 43.61517988964916, 80.3543948364745, 109.14917141320286, 451.0797903806446, 376.06590208560567, 197.49365738490445, 45.21157033966412, 54.45754844069811, 111.78905363762075, 163.31451877786486, 206.4120441408918, 205.8849015542596, 57.0495032983305, 86.4050057131124, 75.90962350452267, 80.48290252400179, 73.99903604469077, 61.48196645387308, 21.01425759135492, 192.4839429768264, 11.10216244442686, 32.13467985707961, 49.35949991832723, 32.00471098489193, 43.67060349710832, 31.86419461111077, 29.522843958276077, 29.530028662529247, 10.168696534828548, 32.59779642260178, 13.983320191120102, 31.684137124929247, 32.44912183997644, 35.54369823388492, 31.580303846366434, 31.533068442124524, 31.544075053290555, 31.486808946188663, 33.70192850372215, 32.8650150198319, 7.695818200603039, 18.491999739072234, 43.698986564295154, 32.86100802686099, 30.294628783170115, 6.100967093232754, 7.6261663508311806, 12.817775594454645, 31.493892694410174, 20.297722156644603, 35.39668221463685, 32.78963211247703, 31.37167099579492, 65.25769041953492, 66.73534539550886, 31.259787675564702, 40.0445560930984, 105.16801344996551, 34.76982217690648, 32.7255058026523, 136.8421030460295, 145.25476916429798, 63.80347166519646, 100.82025060533508, 35.13888377664667, 83.74189370887643, 49.78881303924842, 60.02514891343198, 191.1905904477938, 251.81216836655562, 108.7081376561722, 188.02470544352246, 85.16288350650835, 56.553285406918015, 89.80258235012045, 83.81326481583032, 68.75235556691392, 143.53615137047078, 88.07240749438316, 47.94363484115959, 141.16532876753635, 115.22847430213633, 208.97506267426638, 80.9008275253276, 64.98352268212551, 53.73091051151661, 58.30720896724592, 64.26559549640731, 67.51809116098319, 56.635535728140844, 67.24853855644967, 58.77255377660974, 37.138793300206295, 13.946835651425038, 8.028016983233156, 16.874116411027995, 5.766225021352959, 6.439131824028388, 6.4209654046057905, 15.53028664207904, 11.218147699393269, 4.183682281947626, 5.587566794795946, 4.861308365548205, 9.77831103233264, 5.568364764430649, 6.258299651161228, 5.5258782212450575, 4.840856908695485, 6.238902397907271, 8.878374419454317, 16.58750504002253, 4.8243029373699375, 23.462721569391558, 7.588975115945723, 4.793945313366938, 3.4118390757896213, 5.47081514068216, 4.7606667830964655, 4.061956162704227, 5.322355106102409, 4.7302901016210015, 8.589866597530444, 22.472251736346458, 81.11454502140111, 25.932683415980907, 10.475927939731982, 427.6977552728473, 8.085278645375483, 88.66421200871518, 49.585498160224525, 31.505296602321916, 35.429455153882024, 34.67367484052131, 69.68539391651471, 50.48745021702006, 56.64719717063821, 27.177932133586285, 27.860185929280906, 58.07032740659358, 26.86059825770259, 15.284239798438675, 50.015293434835506, 139.43662070961673, 60.50564555714104, 59.529438150561745, 54.462593550035685, 25.209280353888015, 41.6586233667076, 177.21148364785753, 56.92156155909508, 30.618668612653373, 34.375850238644354, 43.51929085925851, 44.51403142540125, 68.87500697229744, 72.53565552801017, 55.14731273192424, 33.2316842142558, 37.3235448049715, 37.87093491064872, 41.52373364697171, 41.632824197154804, 35.87759022443339, 34.6500584487903, 11.076936292630029, 12.962481712671568, 8.372227182394319, 4.44280485692031, 4.44501968283567, 3.793332830699295, 6.33084480353656, 3.7596690452007313, 3.1062222074735466, 3.097521799180001, 3.0760776462923585, 3.037114112118901, 3.0313148979808826, 3.0314648309778507, 3.031870938410485, 3.0307971343437816, 3.007056934054252, 3.0067699514685238, 4.825304284236299, 2.9541918289925535, 4.143492289389078, 2.3375670789354315, 2.32713786663326, 2.325417651563439, 2.3158613368463548, 2.3070813875108307, 2.310910000341252, 2.305570667861431, 2.2874039419921934, 2.298116029126752, 5.119062795817581, 28.04224289553282, 13.121941709935069, 5.240882328915737, 3.6977573602684273, 4.171362648947515, 4.663662323084171, 4.4880151636299574, 4.212226952621761, 12.190491461852204, 23.25332247637146, 15.590062152437119, 10.329403605206483, 31.912648755316102, 26.48311598702729, 19.120020402726496, 10.052243031150075, 9.533111138754037, 27.74736595474626, 12.706374494787166, 26.180113163266824, 13.936946860019061, 11.116793449871341, 12.22544918965337, 17.996608119212997, 52.37641236842799, 98.71286189726523, 14.764252864200502, 21.52226293772888, 17.650677032440196, 28.866096893178838, 32.40419895118398, 27.801370214496007, 35.58682947856442, 27.242094368988987, 25.410842992023838, 19.705647112487686, 39.15598615183197, 41.76715499670151, 26.794922846495147, 24.32955086441074, 21.641223474501288, 19.45697418128732, 18.335902570314275, 25.065800673701307, 26.80387625505132, 21.892801707610527, 23.117122819120766, 19.717880748803182, 18.4845405046833, 8.35541529830106, 11.077632015853304, 11.702758326308427, 11.687258279848256, 10.976411932477038, 10.972716684147134, 10.978425281270574, 10.975318971703404, 10.968566720307395, 10.966721150579987, 10.966316426383734, 10.955227257331444, 10.955174526767804, 10.957585066819929, 10.951646372691512, 10.261654620833749, 10.951362175497867, 10.262088107155623, 10.940009353627376, 10.93715026137805, 10.242608615171902, 10.241096549139206, 10.23709792886524, 10.238146376825412, 10.233199976030951, 10.230271032905117, 10.906321371586412, 10.22784748141521, 10.90307809951628, 10.224017325019886, 20.430367856782752, 12.515511624008266, 11.625003343752068, 10.635693053109392, 10.99085668285189, 10.969482314639693, 11.403504844712423, 10.9753141780158, 10.976543416479881, 10.933985742747122, 10.9734781956636, 11.23049928947138, 11.675267212713965, 11.144930596121057, 45.35221555443849, 21.228871575674457, 15.269486521934743, 11.05812513136899, 15.08512677519818, 15.484090328575299, 14.167075335596394, 13.035104901868861, 11.906672209592827, 11.000058508613368, 11.404675874112744, 11.015298326317911, 10.988111269480022, 11.24883788380543, 11.042870932601636, 11.009087761621116, 33.36804079402955, 14.71894385904181, 12.05015187798643, 10.731736244774586, 7.397266634015251, 7.390050040293705, 7.38408576900341, 7.387605860974177, 7.368234446402979, 6.734574880093122, 6.018102454155785, 4.777914896359452, 4.742216850151573, 4.733402594712111, 25.969731285237053, 7.5776908273955925, 4.065772301983819, 4.067984592829268, 4.0589686816872135, 3.4090264303466498, 5.066761288562427, 3.3998543684982585, 3.3906639176445306, 3.3872052262509054, 4.451101441696856, 4.519099931618076, 3.3667251728325307, 2.7852498635321936, 2.769381398638652, 2.7397408154599785, 3.2850486913992594, 22.069449434231654, 4.945215573490359, 7.328061014980982, 91.87766432962572, 87.31771961205182, 34.954452180816745, 9.514381598045587, 8.67367305205197, 10.975038369284954, 12.03811113130548, 8.937902487991876, 126.0902404528273, 34.40817031095072, 60.16035280613469, 9.41981161876862, 61.335478816336746, 21.18765735689089, 59.15775680749647, 110.1442524996342, 73.14850104204488, 69.658828849598, 29.70076945810697, 20.40715940121928, 15.936889447366044, 23.41005155822153, 30.18491020376867, 13.27160322109083, 18.562330750890876, 42.176309521381675, 38.72624537636219, 20.7351930754733, 20.033208068960896, 26.540393859399277, 16.92086330548103, 24.96304357707234, 24.818013543794734, 22.89009277030017, 19.90078104957827, 18.52799878960489, 19.232230371548965, 20.09024640002325, 19.30911262111626, 19.568272925144303, 23.61726569389562, 10.124731284718518, 10.727780226200421, 7.848177324727816, 7.15769067529848, 9.731060621474525, 6.431418445342222, 5.774433735507597, 5.762150016294512, 5.758753222397215, 5.753782765678042, 5.746188927642245, 5.747607663969254, 5.747570457212613, 5.738945199086975, 5.107169286770459, 5.105945733429109, 5.737081201573931, 5.105404100643905, 5.103453490680975, 5.102455007719963, 5.099662366157963, 5.099702622648755, 5.0906086203841205, 5.090084981030407, 5.09070865166427, 5.089957502142898, 5.089889798044748, 5.0867836438120335, 5.08614258969351, 11.333552580279099, 11.122575631399275, 60.28313856465131, 195.1152571630033, 12.076684960515315, 5.664249890368925, 5.655577666337362, 53.94018924734636, 5.633673865718609, 5.585906489659543, 6.487265787060741, 11.687381516575442, 16.496151090215985, 11.732854272659354, 9.299602532206944, 16.438702638068232, 21.548853039971217, 11.559219488617085, 36.47140718256895, 9.401148310336543, 25.110108120984766, 14.8297007167451, 33.86597782105159, 36.033736174889114, 12.229721840102258, 32.75719695484371, 16.37894980679604, 23.13663979064687, 14.957957896408967, 34.21264232188059, 61.48832030747618, 35.59463789162665, 28.15782456779281, 27.43206103349293, 17.152241617997557, 20.745104143751266, 20.97145541243272, 19.66693528905669, 16.164964600149748, 24.47705650487292, 22.18983396487546, 14.339863396466903, 16.87361668607564, 15.723494843611519, 15.70121226601122, 21.35487727143067, 8.02127492133409, 6.139048829800711, 7.357857799402725, 20.836965621430103, 6.671097716007849, 9.851552549160072, 4.0350181649272745, 4.53496846972338, 3.956894827184601, 3.3773544724371503, 3.358587283930707, 10.675641786742016, 2.731926083070343, 2.710457369641292, 2.704835518603997, 2.702512951392296, 2.6779688160375743, 2.6473574873552854, 2.626639544819327, 2.0837093925258383, 2.073094111289995, 2.060390692691107, 2.0579197276640984, 2.0570370806783647, 2.05477628387123, 2.053257178451939, 5.70590760845157, 2.0512641526274913, 2.0522175006786925, 13.037725386798625, 4.061294253119433, 8.023510563446353, 3.382287769518964, 4.56414642733103, 10.317999777274085, 8.246082280557822, 7.9950408072481665, 3.2156321110645902, 6.406729315124056, 9.088014978620329, 10.217697738560716, 5.230979824745793, 6.60448510710071, 12.53642476607426, 15.229498901960097, 7.280826086110873, 60.40596628648673, 20.779659356559392, 18.979423876627596, 17.12631650265122, 23.45931249524293, 14.987825691935784, 7.555401041649931, 24.99514087476036, 20.17248396471932, 16.38001451227337, 14.109324914369896, 14.846181837778657, 11.610415254023653, 11.812981695339078, 17.246866135759753, 20.81482472692389, 15.112727533790158, 18.54773478074099, 18.596336628120014, 13.900364119849224, 12.938284263796131, 14.357965230651919, 12.68885566784523, 12.538072770699225, 11.992486788698073, 12.429703368305121, 12.02242236403884, 12.22650582695268, 12.009032326461], \"Total\": [1014.0, 355.0, 425.0, 271.0, 414.0, 311.0, 259.0, 824.0, 211.0, 838.0, 458.0, 841.0, 185.0, 153.0, 151.0, 166.0, 190.0, 139.0, 258.0, 608.0, 1353.0, 158.0, 499.0, 212.0, 142.0, 188.0, 139.0, 130.0, 170.0, 78.0, 46.591526890538894, 29.738252976456277, 19.501932323667134, 14.843373021531903, 24.146423310431135, 23.209827194588975, 26.03804141728553, 12.955767307526141, 16.6780969663393, 10.174219759833674, 12.021490306341104, 12.019606962765964, 10.164159851381775, 10.167570781417393, 8.305983271194636, 10.167796412782915, 10.1674885220168, 10.166548139572196, 10.141522782867135, 10.15546495754237, 13.866432368689384, 10.164009038703288, 15.756454830251895, 9.22478363655707, 13.878620657410845, 11.047045172866364, 8.29679497840849, 9.213440840331954, 9.211235272493397, 26.510953962778654, 25.68783285818352, 23.127157325021507, 33.24871044544908, 26.89402839849974, 18.483918516432926, 34.370866497042016, 24.10685846566801, 39.00043674824615, 18.44685186264896, 63.566886147060984, 39.5637635185588, 22.234976848411723, 23.157903814082907, 21.748706259430143, 40.847354027008116, 838.9691233345873, 131.73050787048297, 467.8173710644988, 104.3019264047921, 29.75638144927503, 110.39582701414831, 44.48226423593959, 133.72783605314066, 372.3698709299966, 424.64843845938753, 207.25880249513915, 159.7116849616206, 107.16803073238717, 81.95138007295982, 458.54444219729623, 198.3012652377628, 154.76520574129705, 269.0555910754775, 203.62154421274326, 284.4127414749272, 141.9494472478216, 87.920437227315, 241.05811929857492, 146.72299208616784, 290.1276007691072, 82.95133454399367, 350.2978261719714, 94.29019883031623, 1353.4695811646025, 376.1882795142506, 181.71365541894073, 254.0236209401103, 373.4786057626054, 259.695675879221, 339.4954282139625, 261.29588089406633, 415.04335309236285, 632.709256646016, 841.3246712212523, 608.4071698546094, 824.5820120747508, 35.5602299089456, 59.33599179647947, 34.716150339988204, 30.069381350636554, 20.95938076461286, 17.33495650810529, 14.54934992568379, 10.891783899123979, 11.79592429631048, 10.885874380448698, 10.910663303939728, 10.868074684177333, 12.706152461403835, 9.983871097783812, 9.980523322599852, 11.747024293108048, 8.1231106706115, 9.047812799118795, 8.142639274627305, 8.140942540626815, 21.840663671686933, 9.046618918329075, 8.122986413306887, 10.878639162575007, 10.884041856874294, 15.27988538970657, 5.409525393554099, 7.21623915253144, 24.315675946497727, 7.234154915788606, 19.80632219036215, 17.332451008480447, 13.395726182083537, 73.76227048106912, 23.44452863273892, 51.89973220629804, 44.40382100999808, 16.9431792041501, 43.99920195947944, 36.580562558540485, 172.11538962729276, 115.33240369951088, 458.54444219729623, 192.82992261266244, 139.31360964774254, 55.981490704786914, 36.230649675026186, 30.081791137036845, 74.88548139593597, 290.1276007691072, 112.2205796284965, 35.78342593321408, 125.56761126185133, 838.9691233345873, 202.751917482758, 376.1882795142506, 59.370343942501655, 228.24680709516386, 424.64843845938753, 441.8469029508443, 284.4127414749272, 124.39619974152586, 372.3698709299966, 241.05811929857492, 94.55607925548979, 269.0555910754775, 259.695675879221, 183.540852304754, 373.4786057626054, 199.55445391054562, 339.4954282139625, 261.29588089406633, 608.4071698546094, 135.07318187185368, 350.78680968447685, 183.1600612711485, 467.8173710644988, 1353.4695811646025, 548.279618882168, 632.709256646016, 841.3246712212523, 63.004092372901404, 62.98756724577484, 26.3680437811113, 58.72702501679697, 62.88185308069193, 355.3437587442087, 17.785047522952496, 20.39100654860328, 39.9527818497704, 11.032514612128475, 139.42423862426648, 11.824047547437813, 9.338432685707588, 9.339447767732125, 9.32702918241837, 9.324774802340883, 9.323811276985722, 9.325365865630884, 9.293190463325693, 14.421612686462536, 166.05048302658687, 7.617065916913337, 13.616440297387692, 7.599183920654757, 259.21381505505695, 7.595499559158791, 28.96803429595128, 46.4242080821145, 80.05466428269214, 11.041791221492883, 311.2822144307227, 68.82025108249634, 425.53940175085756, 190.419588708548, 142.31191901574388, 57.60081562591133, 158.44331846787438, 86.54220123906977, 25.496821117666, 146.59239836508078, 62.71514275534819, 129.18305992091874, 185.25722894226686, 1014.4741839531001, 824.5820120747508, 414.75911438107664, 68.20025849934125, 89.0969528123978, 258.3809209441145, 499.2711368179826, 841.3246712212523, 1353.4695811646025, 109.7799334551293, 304.6204740673675, 249.97941991467565, 548.279618882168, 415.04335309236285, 350.78680968447685, 22.77251460509479, 211.26080189487104, 12.209219143001484, 35.66082405754302, 54.92552014008437, 35.62202276207896, 48.61377244855286, 35.57404246342834, 32.96124323657004, 33.00129332457673, 11.366062758578249, 36.442940412878706, 15.675278932114477, 35.55239673266677, 36.44137713465494, 39.92116989400164, 35.5339630924719, 35.50899608136498, 35.522439076561824, 35.525613287450234, 38.091946748601735, 37.193236769312854, 8.721713067326368, 20.979657305108567, 49.701209327612595, 37.45068388740258, 34.58600360951583, 6.967376846952913, 8.719900498040554, 14.688004575794256, 36.277011335941, 23.332004709427395, 40.9250386303721, 37.92348148186005, 36.32893155927634, 77.0677947094831, 79.58855050377126, 36.20559954576618, 46.89786471042564, 130.27881384615603, 40.50768497725056, 38.13851339804191, 212.34461512782724, 272.08987486145224, 92.42231943429421, 170.72811545222038, 42.00508810064015, 147.0090867238869, 69.60575332013747, 92.59835712406975, 548.279618882168, 841.3246712212523, 259.12286871076174, 632.709256646016, 178.15374739683287, 91.6473103242367, 199.37091829045934, 187.48995618497912, 134.8807091082493, 499.2711368179826, 214.64264906651977, 74.79585947891988, 608.4071698546094, 408.9666641577777, 1353.4695811646025, 263.4372460162931, 155.7603027697516, 115.86804913128584, 171.26720300114104, 304.6204740673675, 441.8469029508443, 162.65797278202072, 824.5820120747508, 467.8173710644988, 42.11766105381308, 15.818713321674911, 9.12670718917083, 19.21363392777651, 6.633847347985912, 7.455559914625511, 7.445598479939419, 18.1974143651576, 13.25626681214422, 4.964541145233743, 6.643152107979651, 5.787681393098022, 11.663844799745437, 6.645524755608415, 7.49787870301162, 6.621659316013114, 5.8026178712335055, 7.479098846989292, 10.649580327153007, 19.938972936155196, 5.802382322455153, 28.271458114918712, 9.194367686497321, 5.809759880776028, 4.137409604714842, 6.644313517666815, 5.815094101268127, 4.969188758520492, 6.54981305393105, 5.831503479620363, 10.926669574117984, 32.295565264403095, 139.3234482355715, 39.4181026281973, 14.140527610896669, 1014.4741839531001, 10.591460620145638, 188.0956463234023, 94.25446940060395, 55.94543290131281, 66.56403732410692, 65.98652731744342, 162.15271506530058, 110.5214791770046, 131.27772293454228, 51.23962424289735, 52.977764305233954, 140.06144037892267, 52.77863054471681, 24.706650934607204, 134.71081098578264, 608.4071698546094, 183.31041074702696, 184.96679288503043, 172.39670534030137, 53.480142158125794, 119.64786331205264, 1353.4695811646025, 215.25980810024367, 76.13912876562797, 101.55958467613324, 170.72811545222038, 187.0370901876226, 632.709256646016, 824.5820120747508, 841.3246712212523, 122.28129535875786, 209.83844246615533, 230.227159843316, 415.04335309236285, 499.2711368179826, 350.78680968447685, 408.9666641577777, 12.422592614422806, 14.790894713943077, 10.100747547298136, 5.454942570737517, 5.459338316285577, 4.679929579862094, 7.860146345208454, 4.674673458896621, 3.9007565086376985, 3.893113791146261, 3.893039205926116, 3.906807363154984, 3.907371376108277, 3.908672659099653, 3.9094183679302477, 3.9085678061992812, 3.9019530183765245, 3.9135796086496555, 6.2856491029549915, 3.910327686319652, 5.528459470775012, 3.1209344575485933, 3.124416173031974, 3.125635936713139, 3.1281081873710046, 3.118027621768127, 3.128722020003055, 3.1303456265798966, 3.1157600171093174, 3.1310588304283713, 7.0462623479890745, 43.67616397689073, 22.91794074658234, 8.044298012925523, 5.3822057129364556, 6.206680700618387, 7.112473735313433, 6.850744217260972, 6.3749684134816755, 23.479376872438262, 53.26544079511495, 33.34260869618622, 20.32874156168162, 100.40253969032615, 79.24283848509259, 50.72727080826042, 20.95798971752971, 20.500752414165486, 98.26449843262989, 32.8953234417428, 100.79376791792359, 39.4837283994108, 27.887998994833794, 32.73087348657786, 67.81441600430978, 415.04335309236285, 1353.4695811646025, 50.30771851306489, 102.4342045402846, 72.77655012645246, 197.8986374699894, 254.0236209401103, 188.35606282169337, 373.4786057626054, 206.639012957855, 187.1428544791229, 107.54534453803223, 632.709256646016, 824.5820120747508, 350.2978261719714, 263.4372460162931, 186.6189818326019, 134.6264229276321, 112.44075429090228, 408.9666641577777, 841.3246712212523, 499.2711368179826, 1014.4741839531001, 548.279618882168, 218.3011118456385, 9.19272441865223, 12.267122319200856, 13.076353135203263, 13.07893175879532, 12.302813678790644, 12.299012809506731, 12.305418342550642, 12.306301922258259, 12.304113695205567, 12.305641965425439, 12.305227457645856, 12.295618455325426, 12.305225788455818, 12.308806074089961, 12.30337725339809, 11.531349152135913, 12.307736028820198, 11.53376961235089, 12.305309270796712, 12.302962888453138, 11.53424830358106, 11.538123268873218, 11.534626502748774, 11.536531742554615, 11.541266874501387, 11.5398355776806, 12.304103391904691, 11.538813212299692, 12.303242389931256, 11.538427006104767, 23.795586471731585, 14.534175742524706, 13.764721652919121, 12.297567608618202, 13.008544506388093, 13.00163363217997, 13.94827472802876, 13.037555533942482, 13.061921329713893, 13.037036688958365, 13.225433550562556, 13.936323287225314, 15.40152124436417, 13.748869998057328, 1353.4695811646025, 548.279618882168, 155.7603027697516, 13.925334221667816, 415.04335309236285, 632.709256646016, 315.83278524178235, 424.64843845938753, 151.36378116153196, 13.75633478992657, 218.3011118456385, 16.033020614846137, 14.662723032321216, 176.81628633117515, 29.588407857033207, 47.4298630949227, 35.73417556127948, 16.163680570362132, 13.391922108819957, 11.980624403977197, 8.488355372325538, 8.495254111320566, 8.492391100109957, 8.49850878686127, 8.49330801586529, 7.788349349572927, 7.105048056014662, 5.705504424315375, 5.6953465976458, 5.693631324590244, 31.44531100141549, 9.20625646782442, 4.994952521264951, 5.0119536418483515, 5.0013474103347075, 4.297085565365329, 6.408039918175356, 4.30116953819817, 4.302819947159082, 4.304616395853547, 5.661184857908635, 5.793810244286869, 4.321224028082455, 3.5951804098689304, 3.5971670031295293, 3.600534967149696, 4.325728151696935, 30.70073258581545, 6.568356824625133, 9.930362704640023, 153.43805784752468, 151.50495934275983, 55.85031145897236, 13.767404751540262, 12.458392920532129, 16.80417627426533, 20.10083971964757, 13.77295546175145, 414.75911438107664, 80.65442914601839, 185.25722894226686, 15.79362754818553, 258.3809209441145, 56.69734102681392, 315.83278524178235, 1353.4695811646025, 824.5820120747508, 841.3246712212523, 155.66097648269803, 72.84949164242258, 46.56419097602067, 110.5214791770046, 209.90977522562488, 33.47424729962106, 78.57627461899312, 632.709256646016, 608.4071698546094, 131.6174844349642, 134.71081098578264, 425.53940175085756, 80.82138378944808, 499.2711368179826, 548.279618882168, 415.04335309236285, 263.4372460162931, 158.44331846787438, 231.00780090179728, 408.9666641577777, 249.97941991467565, 441.8469029508443, 25.171099476868722, 11.130121365953308, 11.894818293641528, 8.934098610700254, 8.184980846014737, 11.189409678845356, 7.457146107118946, 6.704145833902039, 6.708207650982674, 6.708166606896682, 6.705011714846784, 6.702583845673484, 6.705851694385311, 6.707768173754136, 6.702129234937817, 5.968433464915865, 5.968514304305109, 6.706351849369593, 5.969106023926037, 5.969141785718753, 5.9689817672511305, 5.967459594689133, 5.968668096314415, 5.968678601099404, 5.968160461706097, 5.969101604711738, 5.969120569000617, 5.96939011643713, 5.967831838941768, 5.969026071725745, 13.309530788931506, 13.477841245022315, 78.51368302686342, 271.3108362404723, 14.947763823691401, 6.689857871882668, 6.748068442455414, 97.09858066968792, 6.74785585192729, 6.712958450906615, 8.287212819104479, 18.897676928349707, 31.25314562447137, 19.568205602511565, 14.287858755755916, 34.49324612285247, 56.657664213771085, 21.261314196218933, 151.57620263478347, 15.59348160782192, 85.32782188489237, 34.974013154112846, 151.36378116153196, 187.48995618497912, 26.81995403881068, 176.81628633117515, 48.255273338197966, 94.26980948862906, 41.52587528721319, 259.12286871076174, 1353.4695811646025, 548.279618882168, 315.83278524178235, 304.6204740673675, 83.33319340391444, 182.01207462841126, 209.83844246615533, 162.07238362677435, 81.82435629343351, 632.709256646016, 408.9666641577777, 55.41320490135973, 608.4071698546094, 415.04335309236285, 824.5820120747508, 23.12923165446152, 9.180254524374492, 7.0751693107077145, 8.484739645291494, 24.036921409453655, 7.794515733899579, 12.025153343589004, 4.997230995737158, 5.730131223468294, 5.015488901483002, 4.295230685271206, 4.291494752014801, 13.726455418475723, 3.5970937222812016, 3.599648499691858, 3.6007565834770103, 3.6002662934183025, 3.605582642224987, 3.6131992457665385, 3.606759391379208, 2.8978653040770936, 2.897277217526537, 2.8996079975076636, 2.8997339814068983, 2.8988006808492823, 2.900893727523772, 2.899326607210486, 8.059235817893835, 2.899317090602438, 2.9009851963733557, 19.13111398684193, 5.89082828020016, 12.825081587350695, 5.2252676598699574, 7.50517858745021, 20.484979819738758, 15.88171473027158, 15.638525279648189, 5.257678987066935, 13.907365788483148, 24.001554995288117, 30.60813192745877, 10.592053499753852, 15.862891327686036, 48.99446994254637, 70.1268144218787, 20.09229314664989, 1353.4695811646025, 218.3011118456385, 186.6189818326019, 154.76520574129705, 350.78680968447685, 126.15322645241638, 25.11577640593699, 548.279618882168, 350.2978261719714, 231.00780090179728, 158.22521122506737, 200.1669980017837, 93.20617796028033, 102.4342045402846, 408.9666641577777, 841.3246712212523, 261.29588089406633, 632.709256646016, 838.9691233345873, 215.25980810024367, 163.86902416528957, 376.1882795142506, 180.60723259233956, 176.81628633117515, 182.96138036552642, 415.04335309236285, 197.8986374699894, 608.4071698546094, 315.83278524178235], \"Category\": [\"Default\", \"Default\", \"Default\", \"Default\", \"Default\", \"Default\", \"Default\", \"Default\", \"Default\", \"Default\", \"Default\", \"Default\", \"Default\", \"Default\", \"Default\", \"Default\", \"Default\", \"Default\", \"Default\", \"Default\", \"Default\", \"Default\", \"Default\", \"Default\", \"Default\", \"Default\", \"Default\", \"Default\", \"Default\", \"Default\", \"Topic1\", \"Topic1\", \"Topic1\", \"Topic1\", \"Topic1\", \"Topic1\", \"Topic1\", \"Topic1\", \"Topic1\", \"Topic1\", \"Topic1\", \"Topic1\", \"Topic1\", \"Topic1\", \"Topic1\", \"Topic1\", \"Topic1\", \"Topic1\", \"Topic1\", \"Topic1\", \"Topic1\", \"Topic1\", \"Topic1\", \"Topic1\", \"Topic1\", \"Topic1\", \"Topic1\", \"Topic1\", \"Topic1\", \"Topic1\", \"Topic1\", \"Topic1\", \"Topic1\", \"Topic1\", \"Topic1\", \"Topic1\", \"Topic1\", \"Topic1\", \"Topic1\", \"Topic1\", \"Topic1\", \"Topic1\", \"Topic1\", \"Topic1\", \"Topic1\", \"Topic1\", \"Topic1\", \"Topic1\", \"Topic1\", \"Topic1\", \"Topic1\", \"Topic1\", \"Topic1\", \"Topic1\", \"Topic1\", \"Topic1\", \"Topic1\", \"Topic1\", \"Topic1\", \"Topic1\", \"Topic1\", \"Topic1\", \"Topic1\", \"Topic1\", \"Topic1\", \"Topic1\", \"Topic1\", \"Topic1\", \"Topic1\", \"Topic1\", \"Topic1\", \"Topic1\", \"Topic1\", \"Topic1\", \"Topic1\", \"Topic1\", \"Topic1\", \"Topic1\", \"Topic1\", \"Topic1\", \"Topic1\", \"Topic1\", \"Topic1\", \"Topic1\", \"Topic1\", \"Topic1\", \"Topic2\", \"Topic2\", \"Topic2\", \"Topic2\", \"Topic2\", \"Topic2\", \"Topic2\", \"Topic2\", \"Topic2\", \"Topic2\", \"Topic2\", \"Topic2\", \"Topic2\", \"Topic2\", \"Topic2\", \"Topic2\", \"Topic2\", \"Topic2\", \"Topic2\", \"Topic2\", \"Topic2\", \"Topic2\", \"Topic2\", \"Topic2\", \"Topic2\", \"Topic2\", \"Topic2\", \"Topic2\", \"Topic2\", \"Topic2\", \"Topic2\", \"Topic2\", \"Topic2\", \"Topic2\", \"Topic2\", \"Topic2\", \"Topic2\", \"Topic2\", \"Topic2\", \"Topic2\", \"Topic2\", \"Topic2\", \"Topic2\", \"Topic2\", \"Topic2\", \"Topic2\", \"Topic2\", \"Topic2\", \"Topic2\", \"Topic2\", \"Topic2\", \"Topic2\", \"Topic2\", \"Topic2\", \"Topic2\", \"Topic2\", \"Topic2\", \"Topic2\", \"Topic2\", \"Topic2\", \"Topic2\", \"Topic2\", \"Topic2\", \"Topic2\", \"Topic2\", \"Topic2\", \"Topic2\", \"Topic2\", \"Topic2\", \"Topic2\", \"Topic2\", \"Topic2\", \"Topic2\", \"Topic2\", \"Topic2\", \"Topic2\", \"Topic2\", \"Topic2\", \"Topic2\", \"Topic2\", \"Topic2\", \"Topic3\", \"Topic3\", \"Topic3\", \"Topic3\", \"Topic3\", \"Topic3\", \"Topic3\", \"Topic3\", \"Topic3\", \"Topic3\", \"Topic3\", \"Topic3\", \"Topic3\", \"Topic3\", \"Topic3\", \"Topic3\", \"Topic3\", \"Topic3\", \"Topic3\", \"Topic3\", \"Topic3\", \"Topic3\", \"Topic3\", \"Topic3\", \"Topic3\", \"Topic3\", \"Topic3\", \"Topic3\", \"Topic3\", \"Topic3\", \"Topic3\", \"Topic3\", \"Topic3\", \"Topic3\", \"Topic3\", \"Topic3\", \"Topic3\", \"Topic3\", \"Topic3\", \"Topic3\", \"Topic3\", \"Topic3\", \"Topic3\", \"Topic3\", \"Topic3\", \"Topic3\", \"Topic3\", \"Topic3\", \"Topic3\", \"Topic3\", \"Topic3\", \"Topic3\", \"Topic3\", \"Topic3\", \"Topic3\", \"Topic3\", \"Topic3\", \"Topic3\", \"Topic4\", \"Topic4\", \"Topic4\", \"Topic4\", \"Topic4\", \"Topic4\", \"Topic4\", \"Topic4\", \"Topic4\", \"Topic4\", \"Topic4\", \"Topic4\", \"Topic4\", \"Topic4\", \"Topic4\", \"Topic4\", \"Topic4\", \"Topic4\", \"Topic4\", \"Topic4\", \"Topic4\", \"Topic4\", \"Topic4\", \"Topic4\", \"Topic4\", \"Topic4\", \"Topic4\", \"Topic4\", \"Topic4\", \"Topic4\", \"Topic4\", \"Topic4\", \"Topic4\", \"Topic4\", \"Topic4\", \"Topic4\", \"Topic4\", \"Topic4\", \"Topic4\", \"Topic4\", \"Topic4\", \"Topic4\", \"Topic4\", \"Topic4\", \"Topic4\", \"Topic4\", \"Topic4\", \"Topic4\", \"Topic4\", \"Topic4\", \"Topic4\", \"Topic4\", \"Topic4\", \"Topic4\", \"Topic4\", \"Topic4\", \"Topic4\", \"Topic4\", \"Topic4\", \"Topic4\", \"Topic4\", \"Topic4\", \"Topic4\", \"Topic4\", \"Topic4\", \"Topic4\", \"Topic4\", \"Topic4\", \"Topic4\", \"Topic4\", \"Topic4\", \"Topic4\", \"Topic4\", \"Topic4\", \"Topic5\", \"Topic5\", \"Topic5\", \"Topic5\", \"Topic5\", \"Topic5\", \"Topic5\", \"Topic5\", \"Topic5\", \"Topic5\", \"Topic5\", \"Topic5\", \"Topic5\", \"Topic5\", \"Topic5\", \"Topic5\", \"Topic5\", \"Topic5\", \"Topic5\", \"Topic5\", \"Topic5\", \"Topic5\", \"Topic5\", \"Topic5\", \"Topic5\", \"Topic5\", \"Topic5\", \"Topic5\", \"Topic5\", \"Topic5\", \"Topic5\", \"Topic5\", \"Topic5\", \"Topic5\", \"Topic5\", \"Topic5\", \"Topic5\", \"Topic5\", \"Topic5\", \"Topic5\", \"Topic5\", \"Topic5\", \"Topic5\", \"Topic5\", \"Topic5\", \"Topic5\", \"Topic5\", \"Topic5\", \"Topic5\", \"Topic5\", \"Topic5\", \"Topic5\", \"Topic5\", \"Topic5\", \"Topic5\", \"Topic5\", \"Topic5\", \"Topic5\", \"Topic5\", \"Topic5\", \"Topic5\", \"Topic5\", \"Topic5\", \"Topic5\", \"Topic5\", \"Topic5\", \"Topic5\", \"Topic5\", \"Topic5\", \"Topic5\", \"Topic5\", \"Topic5\", \"Topic5\", \"Topic6\", \"Topic6\", \"Topic6\", \"Topic6\", \"Topic6\", \"Topic6\", \"Topic6\", \"Topic6\", \"Topic6\", \"Topic6\", \"Topic6\", \"Topic6\", \"Topic6\", \"Topic6\", \"Topic6\", \"Topic6\", \"Topic6\", \"Topic6\", \"Topic6\", \"Topic6\", \"Topic6\", \"Topic6\", \"Topic6\", \"Topic6\", \"Topic6\", \"Topic6\", \"Topic6\", \"Topic6\", \"Topic6\", \"Topic6\", \"Topic6\", \"Topic6\", \"Topic6\", \"Topic6\", \"Topic6\", \"Topic6\", \"Topic6\", \"Topic6\", \"Topic6\", \"Topic6\", \"Topic6\", \"Topic6\", \"Topic6\", \"Topic6\", \"Topic6\", \"Topic6\", \"Topic6\", \"Topic6\", \"Topic6\", \"Topic6\", \"Topic6\", \"Topic6\", \"Topic6\", \"Topic6\", \"Topic6\", \"Topic6\", \"Topic6\", \"Topic6\", \"Topic6\", \"Topic6\", \"Topic6\", \"Topic6\", \"Topic6\", \"Topic6\", \"Topic6\", \"Topic6\", \"Topic6\", \"Topic6\", \"Topic6\", \"Topic6\", \"Topic6\", \"Topic6\", \"Topic6\", \"Topic6\", \"Topic6\", \"Topic6\", \"Topic6\", \"Topic6\", \"Topic6\", \"Topic6\", \"Topic7\", \"Topic7\", \"Topic7\", \"Topic7\", \"Topic7\", \"Topic7\", \"Topic7\", \"Topic7\", \"Topic7\", \"Topic7\", \"Topic7\", \"Topic7\", \"Topic7\", \"Topic7\", \"Topic7\", \"Topic7\", \"Topic7\", \"Topic7\", \"Topic7\", \"Topic7\", \"Topic7\", \"Topic7\", \"Topic7\", \"Topic7\", \"Topic7\", \"Topic7\", \"Topic7\", \"Topic7\", \"Topic7\", \"Topic7\", \"Topic7\", \"Topic7\", \"Topic7\", \"Topic7\", \"Topic7\", \"Topic7\", \"Topic7\", \"Topic7\", \"Topic7\", \"Topic7\", \"Topic7\", \"Topic7\", \"Topic7\", \"Topic7\", \"Topic7\", \"Topic7\", \"Topic7\", \"Topic7\", \"Topic7\", \"Topic7\", \"Topic7\", \"Topic7\", \"Topic7\", \"Topic7\", \"Topic7\", \"Topic7\", \"Topic7\", \"Topic7\", \"Topic7\", \"Topic7\", \"Topic8\", \"Topic8\", \"Topic8\", \"Topic8\", \"Topic8\", \"Topic8\", \"Topic8\", \"Topic8\", \"Topic8\", \"Topic8\", \"Topic8\", \"Topic8\", \"Topic8\", \"Topic8\", \"Topic8\", \"Topic8\", \"Topic8\", \"Topic8\", \"Topic8\", \"Topic8\", \"Topic8\", \"Topic8\", \"Topic8\", \"Topic8\", \"Topic8\", \"Topic8\", \"Topic8\", \"Topic8\", \"Topic8\", \"Topic8\", \"Topic8\", \"Topic8\", \"Topic8\", \"Topic8\", \"Topic8\", \"Topic8\", \"Topic8\", \"Topic8\", \"Topic8\", \"Topic8\", \"Topic8\", \"Topic8\", \"Topic8\", \"Topic8\", \"Topic8\", \"Topic8\", \"Topic8\", \"Topic8\", \"Topic8\", \"Topic8\", \"Topic8\", \"Topic8\", \"Topic8\", \"Topic8\", \"Topic8\", \"Topic8\", \"Topic8\", \"Topic8\", \"Topic8\", \"Topic8\", \"Topic8\", \"Topic8\", \"Topic8\", \"Topic8\", \"Topic8\", \"Topic8\", \"Topic8\", \"Topic8\", \"Topic8\", \"Topic8\", \"Topic8\", \"Topic8\", \"Topic8\", \"Topic8\", \"Topic9\", \"Topic9\", \"Topic9\", \"Topic9\", \"Topic9\", \"Topic9\", \"Topic9\", \"Topic9\", \"Topic9\", \"Topic9\", \"Topic9\", \"Topic9\", \"Topic9\", \"Topic9\", \"Topic9\", \"Topic9\", \"Topic9\", \"Topic9\", \"Topic9\", \"Topic9\", \"Topic9\", \"Topic9\", \"Topic9\", \"Topic9\", \"Topic9\", \"Topic9\", \"Topic9\", \"Topic9\", \"Topic9\", \"Topic9\", \"Topic9\", \"Topic9\", \"Topic9\", \"Topic9\", \"Topic9\", \"Topic9\", \"Topic9\", \"Topic9\", \"Topic9\", \"Topic9\", \"Topic9\", \"Topic9\", \"Topic9\", \"Topic9\", \"Topic9\", \"Topic9\", \"Topic9\", \"Topic9\", \"Topic9\", \"Topic9\", \"Topic9\", \"Topic9\", \"Topic9\", \"Topic9\", \"Topic9\", \"Topic9\", \"Topic9\", \"Topic9\", \"Topic9\", \"Topic9\", \"Topic9\", \"Topic9\", \"Topic9\", \"Topic9\", \"Topic9\", \"Topic9\", \"Topic9\", \"Topic9\", \"Topic9\", \"Topic9\", \"Topic9\", \"Topic9\", \"Topic9\", \"Topic9\", \"Topic9\", \"Topic10\", \"Topic10\", \"Topic10\", \"Topic10\", \"Topic10\", \"Topic10\", \"Topic10\", \"Topic10\", \"Topic10\", \"Topic10\", \"Topic10\", \"Topic10\", \"Topic10\", \"Topic10\", \"Topic10\", \"Topic10\", \"Topic10\", \"Topic10\", \"Topic10\", \"Topic10\", \"Topic10\", \"Topic10\", \"Topic10\", \"Topic10\", \"Topic10\", \"Topic10\", \"Topic10\", \"Topic10\", \"Topic10\", \"Topic10\", \"Topic10\", \"Topic10\", \"Topic10\", \"Topic10\", \"Topic10\", \"Topic10\", \"Topic10\", \"Topic10\", \"Topic10\", \"Topic10\", \"Topic10\", \"Topic10\", \"Topic10\", \"Topic10\", \"Topic10\", \"Topic10\", \"Topic10\", \"Topic10\", \"Topic10\", \"Topic10\", \"Topic10\", \"Topic10\", \"Topic10\", \"Topic10\", \"Topic10\", \"Topic10\", \"Topic10\", \"Topic10\", \"Topic10\", \"Topic10\", \"Topic10\", \"Topic10\", \"Topic10\", \"Topic10\", \"Topic10\", \"Topic10\", \"Topic10\", \"Topic10\", \"Topic10\", \"Topic10\", \"Topic10\", \"Topic10\", \"Topic10\", \"Topic10\", \"Topic10\", \"Topic10\"], \"logprob\": [30.0, 29.0, 28.0, 27.0, 26.0, 25.0, 24.0, 23.0, 22.0, 21.0, 20.0, 19.0, 18.0, 17.0, 16.0, 15.0, 14.0, 13.0, 12.0, 11.0, 10.0, 9.0, 8.0, 7.0, 6.0, 5.0, 4.0, 3.0, 2.0, 1.0, -6.6867, -7.1492, -7.5757, -7.856, -7.3713, -7.4165, -7.3037, -8.003, -7.7509, -8.2455, -8.0794, -8.0811, -8.2505, -8.2511, -8.4558, -8.2549, -8.2555, -8.2571, -8.2596, -8.2598, -7.9489, -8.2596, -7.8216, -8.3588, -7.9522, -8.1817, -8.4721, -8.3684, -8.3712, -7.3168, -7.3486, -7.4615, -7.111, -7.3347, -7.6953, -7.1085, -7.4471, -6.9999, -7.7024, -6.5657, -7.0062, -7.542, -7.5065, -7.566, -7.0056, -4.3672, -5.9831, -4.9457, -6.2355, -7.3046, -6.228, -6.9762, -6.0796, -5.2564, -5.1635, -5.7394, -5.9661, -6.2866, -6.5181, -5.1927, -5.8495, -6.038, -5.6258, -5.881, -5.6798, -6.1661, -6.499, -5.8303, -6.1669, -5.7523, -6.5659, -5.7009, -6.4968, -4.9543, -5.7244, -6.1338, -5.9739, -5.7991, -5.9813, -5.929, -6.0342, -5.8676, -5.837, -5.8217, -5.942, -5.9214, -6.8387, -6.3278, -6.8659, -7.0137, -7.3829, -7.5825, -7.7668, -8.0643, -7.988, -8.0702, -8.0706, -8.0757, -7.9203, -8.1618, -8.1654, -8.0066, -8.381, -8.2742, -8.3799, -8.3824, -7.3978, -8.2816, -8.3918, -8.1008, -8.1028, -7.7672, -8.8057, -8.5184, -7.3047, -8.5171, -7.5298, -7.6646, -7.9198, -6.2824, -7.3829, -6.6489, -6.8103, -7.7065, -6.8497, -7.0267, -5.6864, -6.0606, -4.8885, -5.6577, -5.9345, -6.7146, -7.0795, -7.234, -6.4891, -5.3928, -6.1708, -7.0936, -6.0919, -4.6314, -5.7668, -5.3169, -6.7138, -5.7188, -5.267, -5.2527, -5.576, -6.1896, -5.4412, -5.7582, -6.3956, -5.7098, -5.7486, -5.9785, -5.62, -5.9916, -5.7301, -5.867, -5.4763, -6.2096, -5.8024, -6.0995, -5.7769, -5.4255, -5.8605, -5.8868, -5.8654, -5.8471, -5.8506, -6.7306, -5.9305, -5.8669, -4.1411, -7.1379, -7.008, -6.3479, -7.6402, -5.1048, -7.576, -7.8125, -7.8172, -7.8244, -7.8249, -7.8262, -7.8291, -7.8332, -7.3971, -4.9595, -8.0424, -7.4619, -8.0452, -4.5159, -8.0479, -6.7096, -6.2488, -5.7055, -7.6931, -4.369, -5.8637, -4.0932, -4.9338, -5.2135, -6.1132, -5.1759, -5.8002, -6.9473, -5.4425, -6.173, -5.562, -5.2557, -3.8368, -4.0187, -4.6627, -6.1371, -5.951, -5.2318, -4.8528, -4.6186, -4.6211, -5.9045, -5.4894, -5.6189, -5.5604, -5.6444, -5.8297, -6.8902, -4.6753, -7.5282, -6.4654, -6.0362, -6.4695, -6.1587, -6.4739, -6.5502, -6.55, -7.616, -6.4511, -7.2975, -6.4795, -6.4557, -6.3646, -6.4828, -6.4843, -6.484, -6.4858, -6.4178, -6.443, -7.8947, -7.018, -6.158, -6.4431, -6.5244, -8.1269, -7.9038, -7.3845, -6.4856, -6.9249, -6.3687, -6.4452, -6.4895, -5.757, -5.7346, -6.493, -6.2454, -5.2798, -6.3866, -6.4472, -5.0165, -4.9569, -5.7796, -5.322, -6.3761, -5.5076, -6.0276, -5.8406, -4.6821, -4.4067, -5.2467, -4.6988, -5.4908, -5.9002, -5.4377, -5.5068, -5.7049, -4.9688, -5.4572, -6.0653, -4.9854, -5.1884, -4.5931, -5.5421, -5.7612, -5.9514, -5.8696, -5.7723, -5.723, -5.8987, -5.727, -5.8617, -6.0639, -7.0433, -7.5956, -6.8527, -7.9265, -7.8161, -7.819, -6.9357, -7.261, -8.2473, -7.958, -8.0972, -7.3984, -7.9614, -7.8446, -7.9691, -8.1014, -7.8477, -7.4949, -6.8699, -8.1049, -6.5231, -7.6518, -8.1112, -8.4513, -7.9791, -8.1181, -8.2769, -8.0066, -8.1245, -7.5279, -6.5662, -5.2827, -6.423, -7.3294, -3.6201, -7.5885, -5.1937, -5.7748, -6.2284, -6.111, -6.1325, -5.4345, -5.7568, -5.6417, -6.3761, -6.3513, -5.6169, -6.3879, -6.9517, -5.7662, -4.7409, -5.5758, -5.5921, -5.681, -6.4513, -5.949, -4.5012, -5.6369, -6.2569, -6.1412, -5.9053, -5.8827, -5.4462, -5.3944, -5.6685, -6.175, -6.0589, -6.0443, -5.9523, -5.9496, -6.0984, -6.1332, -7.0548, -6.8976, -7.3347, -7.9683, -7.9678, -8.1264, -7.6142, -8.1353, -8.3262, -8.329, -8.336, -8.3487, -8.3506, -8.3506, -8.3504, -8.3508, -8.3587, -8.3588, -7.8857, -8.3764, -8.0381, -8.6105, -8.615, -8.6157, -8.6198, -8.6236, -8.622, -8.6243, -8.6322, -8.6275, -7.8267, -6.1259, -6.8853, -7.8031, -8.1519, -8.0314, -7.9198, -7.9582, -8.0216, -6.959, -6.3132, -6.713, -7.1246, -5.9966, -6.1831, -6.5089, -7.1518, -7.2049, -6.1365, -6.9175, -6.1946, -6.8251, -7.0512, -6.9561, -6.5694, -5.5012, -4.8674, -6.7674, -6.3905, -6.5888, -6.097, -5.9813, -6.1345, -5.8876, -6.1549, -6.2244, -6.4787, -5.7921, -5.7275, -6.1714, -6.2679, -6.385, -6.4914, -6.5508, -6.2381, -6.1711, -6.3735, -6.319, -6.4781, -6.5427, -7.25, -6.968, -6.9131, -6.9144, -6.9771, -6.9775, -6.977, -6.9772, -6.9778, -6.978, -6.9781, -6.9791, -6.9791, -6.9789, -6.9794, -7.0445, -6.9794, -7.0444, -6.9805, -6.9807, -7.0463, -7.0465, -7.0469, -7.0468, -7.0472, -7.0475, -6.9835, -7.0478, -6.9838, -7.0481, -6.3559, -6.8459, -6.9197, -7.0087, -6.9758, -6.9778, -6.939, -6.9772, -6.9771, -6.981, -6.9774, -6.9543, -6.9154, -6.9619, -5.5584, -6.3175, -6.647, -6.9697, -6.6592, -6.6331, -6.722, -6.8052, -6.8958, -6.975, -6.9389, -6.9736, -6.9761, -6.9526, -6.9711, -6.9742, -5.7713, -6.5897, -6.7898, -6.9057, -7.2777, -7.2787, -7.2795, -7.2791, -7.2817, -7.3716, -7.4841, -7.7149, -7.7224, -7.7242, -6.0219, -7.2536, -7.8763, -7.8757, -7.8779, -8.0524, -7.6562, -8.0551, -8.0578, -8.0589, -7.7857, -7.7705, -8.0649, -8.2545, -8.2602, -8.271, -8.0895, -6.1847, -7.6804, -7.2871, -4.7584, -4.8093, -5.7248, -7.0261, -7.1186, -6.8832, -6.7908, -7.0886, -4.4419, -5.7406, -5.1818, -7.036, -5.1625, -6.2254, -5.1986, -4.5771, -4.9864, -5.0352, -5.8877, -6.263, -6.5102, -6.1257, -5.8715, -6.6932, -6.3577, -5.537, -5.6223, -6.247, -6.2815, -6.0002, -6.4503, -6.0615, -6.0673, -6.1482, -6.2881, -6.3596, -6.3223, -6.2786, -6.3183, -6.3049, -6.0951, -6.9421, -6.8843, -7.1968, -7.2889, -6.9818, -7.3959, -7.5037, -7.5058, -7.5064, -7.5073, -7.5086, -7.5083, -7.5083, -7.5098, -7.6265, -7.6267, -7.5102, -7.6268, -7.6272, -7.6274, -7.6279, -7.6279, -7.6297, -7.6298, -7.6297, -7.6298, -7.6299, -7.6305, -7.6306, -6.8293, -6.8481, -5.1581, -3.9835, -6.7658, -7.5229, -7.5245, -5.2692, -7.5283, -7.5369, -7.3873, -6.7986, -6.454, -6.7947, -7.0271, -6.4575, -6.1868, -6.8096, -5.6606, -7.0163, -6.0338, -6.5605, -5.7347, -5.6727, -6.7532, -5.768, -6.4611, -6.1157, -6.5519, -5.7245, -5.1383, -5.6849, -5.9193, -5.9454, -6.415, -6.2248, -6.2139, -6.2782, -6.4743, -6.0594, -6.1575, -6.5941, -6.4314, -6.502, -6.5034, -6.1717, -7.1508, -7.4183, -7.2372, -6.1962, -7.3351, -6.9453, -7.8379, -7.7211, -7.8575, -8.0158, -8.0214, -6.865, -8.2279, -8.2358, -8.2379, -8.2388, -8.2479, -8.2594, -8.2672, -8.4988, -8.5039, -8.51, -8.5112, -8.5117, -8.5128, -8.5135, -7.4914, -8.5145, -8.514, -6.6651, -7.8314, -7.1506, -8.0144, -7.7147, -6.899, -7.1232, -7.1541, -8.0649, -7.3756, -7.026, -6.9088, -7.5783, -7.3452, -6.7043, -6.5097, -7.2477, -5.1318, -6.199, -6.2896, -6.3923, -6.0777, -6.5257, -7.2107, -6.0143, -6.2286, -6.4369, -6.5861, -6.5352, -6.781, -6.7637, -6.3853, -6.1973, -6.5174, -6.3126, -6.31, -6.601, -6.6727, -6.5686, -6.6922, -6.7042, -6.7487, -6.7128, -6.7462, -6.7293, -6.7473], \"loglift\": [30.0, 29.0, 28.0, 27.0, 26.0, 25.0, 24.0, 23.0, 22.0, 21.0, 20.0, 19.0, 18.0, 17.0, 16.0, 15.0, 14.0, 13.0, 12.0, 11.0, 10.0, 9.0, 8.0, 7.0, 6.0, 5.0, 4.0, 3.0, 2.0, 1.0, 1.5723, 1.5587, 1.5542, 1.5469, 1.545, 1.5393, 1.5371, 1.5359, 1.5354, 1.535, 1.5343, 1.5327, 1.531, 1.5301, 1.5276, 1.5263, 1.5257, 1.5242, 1.5241, 1.5225, 1.5221, 1.522, 1.5215, 1.5197, 1.5179, 1.5166, 1.5124, 1.5113, 1.5088, 1.5061, 1.5058, 1.4979, 1.4854, 1.4738, 1.4882, 1.4547, 1.4708, 1.4369, 1.4831, 1.3826, 1.4162, 1.4567, 1.4515, 1.4548, 1.385, 1.001, 1.2365, 1.0066, 1.2176, 1.4027, 1.1683, 1.3291, 1.125, 0.9241, 0.8856, 1.027, 1.0609, 1.1394, 1.1761, 0.7797, 0.9611, 1.0204, 0.8797, 0.9031, 0.7702, 0.9789, 1.1249, 0.785, 0.9449, 0.6778, 1.1162, 0.5407, 1.0572, -0.0643, 0.4459, 0.7641, 0.5891, 0.3784, 0.5595, 0.3439, 0.5006, 0.2045, -0.1866, -0.4563, -0.2525, -0.5359, 1.6904, 1.6893, 1.6873, 1.6832, 1.6749, 1.6652, 1.6561, 1.6481, 1.6447, 1.6427, 1.6401, 1.6389, 1.638, 1.6376, 1.6343, 1.6302, 1.6247, 1.6236, 1.6234, 1.6211, 1.6188, 1.6164, 1.6139, 1.6128, 1.6103, 1.6066, 1.6065, 1.6056, 1.6046, 1.6044, 1.5846, 1.5833, 1.5856, 1.5171, 1.5628, 1.5022, 1.4968, 1.5641, 1.4665, 1.4742, 1.2659, 1.292, 1.0838, 1.1809, 1.2292, 1.3608, 1.431, 1.4624, 1.2953, 1.0373, 1.2091, 1.4293, 1.1757, 0.7368, 1.0216, 0.8534, 1.3028, 0.9511, 0.7821, 0.7568, 0.8739, 1.0873, 0.7393, 0.8572, 1.1556, 0.7957, 0.7923, 0.9095, 0.5576, 0.8127, 0.5429, 0.6677, 0.2133, 0.985, 0.4378, 0.7905, 0.1754, -0.5355, -0.0669, -0.2364, -0.5, 2.1101, 2.1069, 2.0977, 2.097, 2.0923, 2.0862, 2.0841, 2.0773, 2.0648, 2.0594, 2.0581, 2.0543, 2.0537, 2.049, 2.0431, 2.0428, 2.0417, 2.0386, 2.0379, 2.0346, 2.0286, 2.0276, 2.0272, 2.0271, 2.0269, 2.025, 2.0246, 2.0138, 2.0122, 2.0056, 1.9907, 2.0052, 1.9539, 1.9173, 1.9288, 1.9337, 1.8591, 1.8396, 1.9146, 1.6702, 1.7888, 1.6772, 1.6229, 1.3415, 1.3669, 1.41, 1.7409, 1.6597, 1.3141, 1.0345, 0.7469, 0.2689, 1.4974, 0.8919, 0.9601, 0.2332, 0.4276, 0.4105, 2.0847, 2.072, 2.07, 2.0609, 2.0582, 2.058, 2.0578, 2.0549, 2.0549, 2.0539, 2.0537, 2.0535, 2.0508, 2.0498, 2.049, 2.0489, 2.0471, 2.0463, 2.0463, 2.0443, 2.0426, 2.0413, 2.0399, 2.0388, 2.0363, 2.0343, 2.0326, 2.0322, 2.031, 2.0288, 2.0236, 2.0257, 2.0199, 2.0196, 2.0183, 1.9987, 1.9889, 2.0182, 2.0071, 1.9509, 2.0123, 2.012, 1.7257, 1.5374, 1.7945, 1.6383, 1.9866, 1.6023, 1.83, 1.7315, 1.1115, 0.9587, 1.2964, 0.9516, 1.427, 1.6823, 1.3675, 1.3599, 1.4912, 0.9185, 1.2742, 1.7203, 0.7041, 0.8983, 0.2968, 0.9844, 1.2908, 1.3966, 1.0875, 0.609, 0.2865, 1.11, -0.3414, 0.0906, 2.2961, 2.2959, 2.2936, 2.292, 2.2817, 2.2753, 2.2738, 2.2634, 2.2549, 2.2507, 2.2488, 2.2474, 2.2455, 2.245, 2.2412, 2.241, 2.2407, 2.2406, 2.24, 2.2378, 2.2373, 2.2354, 2.23, 2.2297, 2.229, 2.2275, 2.2218, 2.2203, 2.2143, 2.2126, 2.1812, 2.0592, 1.8809, 2.0031, 2.1219, 1.5582, 2.1519, 1.6698, 1.7796, 1.8476, 1.7912, 1.7784, 1.5773, 1.6384, 1.5814, 1.7878, 1.7792, 1.5414, 1.7464, 1.9416, 1.4311, 0.9486, 1.3134, 1.2882, 1.2696, 1.6698, 1.3668, 0.3888, 1.0917, 1.5109, 1.3386, 1.055, 0.9864, 0.2041, -0.0089, -0.3031, 1.119, 0.6952, 0.617, 0.1197, -0.0624, 0.1418, -0.0465, 2.5261, 2.5088, 2.4531, 2.4355, 2.4352, 2.4307, 2.4244, 2.4229, 2.413, 2.4122, 2.4052, 2.389, 2.3869, 2.3866, 2.3866, 2.3864, 2.3803, 2.3772, 2.3764, 2.3604, 2.3524, 2.3518, 2.3462, 2.345, 2.3401, 2.3396, 2.3378, 2.335, 2.3317, 2.3315, 2.3212, 2.1977, 2.0831, 2.2123, 2.2654, 2.2434, 2.2187, 2.2178, 2.2264, 1.9853, 1.8119, 1.8806, 1.9637, 1.4946, 1.5448, 1.665, 1.906, 1.8751, 1.3763, 1.6895, 1.2927, 1.5994, 1.721, 1.656, 1.3142, 0.5708, 0.0226, 1.4148, 1.0806, 1.2242, 0.7157, 0.5816, 0.7275, 0.2899, 0.6146, 0.6441, 0.9438, -0.1417, -0.342, 0.0702, 0.2587, 0.4863, 0.7065, 0.8272, -0.1514, -0.8057, -0.4862, -1.1408, -0.6845, 0.1718, 2.632, 2.6255, 2.6165, 2.615, 2.6134, 2.6134, 2.6134, 2.613, 2.6126, 2.6123, 2.6123, 2.6121, 2.6113, 2.6112, 2.6111, 2.6109, 2.6107, 2.6107, 2.6099, 2.6098, 2.6087, 2.6083, 2.6082, 2.6081, 2.6072, 2.6071, 2.6069, 2.6069, 2.6067, 2.6066, 2.575, 2.578, 2.5586, 2.5823, 2.559, 2.5576, 2.5261, 2.5553, 2.5536, 2.5516, 2.5409, 2.5116, 2.4505, 2.5175, -0.6685, -0.5239, 0.4051, 2.497, -0.5872, -0.9827, -0.3768, -0.7561, 0.1849, 2.5039, -0.2243, 2.3521, 2.439, -0.0273, 1.7419, 1.267, 2.753, 2.7279, 2.716, 2.7115, 2.684, 2.6822, 2.6817, 2.6815, 2.6794, 2.6762, 2.6555, 2.6441, 2.6384, 2.6368, 2.6302, 2.6269, 2.6157, 2.6129, 2.6128, 2.59, 2.5867, 2.5864, 2.5833, 2.5819, 2.5811, 2.5731, 2.5719, 2.5663, 2.56, 2.5483, 2.5463, 2.4914, 2.5377, 2.5177, 2.3087, 2.2705, 2.3529, 2.452, 2.4594, 2.3955, 2.3089, 2.3891, 1.6308, 1.9697, 1.6968, 2.3047, 1.3835, 1.8372, 1.1465, 0.3129, 0.3992, 0.3302, 1.165, 1.549, 1.7493, 1.2695, 0.8822, 1.8964, 1.3786, 0.1134, 0.0672, 0.9735, 0.9158, 0.0468, 1.2578, -0.1742, -0.2737, -0.0761, 0.2385, 0.6754, 0.3357, -0.1919, 0.2607, -0.2955, 2.7796, 2.7486, 2.74, 2.7137, 2.7092, 2.7036, 2.6953, 2.694, 2.6913, 2.6907, 2.6903, 2.6893, 2.6891, 2.6888, 2.6881, 2.6874, 2.6872, 2.6872, 2.687, 2.6866, 2.6864, 2.6861, 2.6859, 2.6842, 2.6841, 2.6841, 2.684, 2.6839, 2.6835, 2.6832, 2.6826, 2.6512, 2.5791, 2.5136, 2.63, 2.6769, 2.6667, 2.2554, 2.6628, 2.6595, 2.5984, 2.3628, 2.2043, 2.3318, 2.4138, 2.1022, 1.8766, 2.2339, 1.4187, 2.3373, 1.6201, 1.9853, 1.346, 1.194, 2.058, 1.1573, 1.7628, 1.4385, 1.8222, 0.8186, -0.2483, 0.1087, 0.4259, 0.4359, 1.2626, 0.6715, 0.5401, 0.7342, 1.2216, -0.409, -0.0707, 1.4915, -0.7418, -0.4299, -1.1179, 2.7876, 2.7325, 2.7255, 2.725, 2.7246, 2.7118, 2.6681, 2.6536, 2.6335, 2.6304, 2.627, 2.6223, 2.6161, 2.5923, 2.5837, 2.5814, 2.5806, 2.57, 2.5564, 2.5504, 2.5376, 2.5327, 2.5258, 2.5245, 2.5244, 2.5226, 2.5224, 2.5221, 2.5214, 2.5213, 2.484, 2.4956, 2.3984, 2.4325, 2.3701, 2.1817, 2.212, 2.1965, 2.3758, 2.0924, 1.8963, 1.7703, 2.162, 1.9912, 1.5044, 1.3404, 1.8524, -0.2419, 0.5156, 0.5817, 0.6662, 0.1626, 0.7372, 1.6662, -0.2206, 0.013, 0.2211, 0.4503, 0.2661, 0.7846, 0.7074, -0.2985, -0.8319, 0.0173, -0.6622, -0.9417, 0.1275, 0.3286, -0.3983, 0.2119, 0.2211, 0.1425, -0.6408, 0.0665, -1.0398, -0.4021]}, \"token.table\": {\"Topic\": [1, 2, 3, 4, 5, 6, 7, 8, 9, 10, 2, 1, 2, 3, 4, 5, 6, 7, 8, 9, 10, 1, 2, 3, 4, 5, 6, 7, 8, 9, 10, 9, 9, 6, 7, 8, 9, 3, 4, 1, 4, 5, 7, 8, 9, 10, 1, 2, 3, 4, 5, 6, 10, 3, 4, 8, 2, 6, 10, 7, 9, 3, 1, 2, 3, 4, 5, 6, 8, 10, 2, 3, 4, 6, 7, 8, 9, 10, 2, 3, 4, 5, 6, 7, 8, 9, 10, 8, 9, 9, 3, 3, 4, 5, 6, 2, 3, 6, 7, 8, 3, 4, 8, 9, 3, 4, 8, 1, 7, 6, 7, 9, 6, 1, 2, 9, 2, 2, 6, 1, 2, 3, 4, 5, 8, 1, 2, 3, 4, 5, 6, 7, 8, 9, 10, 1, 2, 3, 4, 5, 6, 7, 8, 9, 10, 10, 1, 2, 4, 5, 6, 10, 1, 2, 6, 5, 3, 10, 1, 5, 10, 7, 6, 1, 2, 3, 4, 5, 6, 7, 8, 9, 10, 3, 4, 5, 6, 8, 9, 2, 10, 1, 4, 10, 1, 5, 5, 2, 7, 7, 10, 2, 3, 4, 5, 6, 7, 8, 9, 10, 1, 2, 3, 4, 5, 6, 7, 8, 9, 3, 2, 7, 8, 10, 6, 3, 1, 2, 3, 4, 5, 6, 7, 8, 9, 10, 9, 8, 1, 2, 3, 4, 5, 6, 7, 8, 9, 10, 9, 3, 7, 3, 4, 7, 8, 1, 2, 3, 4, 5, 6, 7, 8, 9, 10, 4, 1, 2, 3, 6, 8, 9, 10, 4, 7, 8, 8, 1, 2, 3, 4, 5, 6, 8, 9, 6, 1, 2, 3, 4, 5, 6, 7, 8, 9, 3, 8, 1, 2, 3, 4, 5, 6, 8, 9, 10, 3, 4, 7, 10, 7, 7, 1, 2, 3, 4, 5, 6, 8, 9, 10, 7, 10, 1, 2, 3, 4, 5, 6, 7, 8, 9, 10, 8, 10, 1, 4, 8, 9, 10, 1, 2, 3, 4, 5, 6, 7, 10, 1, 2, 3, 4, 5, 6, 7, 8, 9, 10, 6, 7, 8, 10, 7, 8, 1, 2, 3, 4, 5, 6, 7, 8, 9, 10, 2, 3, 4, 5, 8, 1, 2, 3, 4, 5, 6, 7, 8, 9, 10, 3, 8, 9, 1, 2, 3, 4, 5, 6, 7, 8, 9, 10, 3, 4, 8, 1, 4, 7, 2, 7, 8, 9, 10, 1, 2, 3, 4, 5, 6, 7, 8, 9, 6, 6, 1, 2, 1, 2, 3, 4, 5, 6, 7, 8, 9, 10, 6, 1, 4, 5, 9, 10, 7, 1, 2, 1, 2, 3, 4, 5, 8, 10, 10, 1, 3, 4, 8, 6, 7, 9, 8, 8, 8, 1, 2, 3, 4, 5, 6, 7, 8, 9, 10, 8, 8, 8, 1, 1, 2, 3, 4, 5, 6, 7, 8, 9, 10, 1, 2, 3, 4, 5, 8, 7, 3, 4, 6, 8, 10, 1, 5, 2, 7, 9, 4, 7, 1, 2, 4, 5, 6, 7, 1, 2, 3, 5, 6, 10, 9, 1, 2, 3, 5, 6, 7, 8, 9, 10, 6, 1, 2, 3, 4, 5, 6, 8, 9, 10, 5, 2, 4, 8, 2, 3, 4, 5, 6, 8, 3, 4, 6, 8, 8, 8, 10, 6, 7, 9, 7, 1, 2, 3, 4, 5, 6, 8, 1, 4, 5, 6, 7, 10, 1, 2, 3, 4, 5, 6, 8, 9, 10, 7, 7, 1, 2, 3, 4, 5, 6, 8, 1, 2, 3, 4, 5, 6, 7, 8, 9, 10, 1, 10, 1, 5, 10, 6, 1, 1, 2, 3, 4, 5, 2, 1, 2, 3, 4, 5, 6, 7, 8, 9, 10, 2, 5, 6, 10, 1, 2, 3, 4, 5, 6, 7, 8, 10, 3, 3, 4, 8, 1, 3, 4, 5, 8, 5, 9, 2, 10, 1, 2, 3, 4, 5, 6, 8, 9, 10, 9, 1, 9, 1, 2, 6, 10, 1, 3, 1, 2, 3, 4, 5, 6, 7, 8, 9, 10, 1, 2, 3, 4, 5, 6, 7, 8, 10, 1, 2, 3, 5, 10, 1, 2, 3, 4, 5, 6, 8, 10, 9, 1, 5, 2, 3, 6, 7, 10, 6, 8, 8, 8, 3, 8, 6, 1, 2, 3, 4, 5, 6, 8, 10, 1, 2, 3, 4, 5, 6, 8, 9, 10, 9, 1, 7, 9, 9, 1, 2, 3, 4, 5, 6, 7, 8, 9, 10, 3, 8, 1, 2, 3, 4, 5, 6, 7, 8, 10, 1, 2, 3, 4, 5, 6, 7, 8, 9, 10, 3, 4, 5, 2, 8, 3, 5, 6, 1, 2, 3, 4, 5, 6, 7, 8, 9, 10, 10, 1, 2, 3, 4, 5, 6, 7, 8, 9, 10, 1, 2, 3, 4, 5, 6, 7, 8, 9, 10, 7, 10, 1, 2, 3, 4, 5, 6, 8, 9, 10, 5, 2, 7, 1, 2, 3, 4, 5, 6, 7, 8, 9, 10, 2, 3, 4, 5, 8, 1, 1, 2, 3, 4, 5, 6, 7, 8, 9, 10, 1, 2, 5, 6, 1, 2, 3, 4, 5, 6, 7, 8, 9, 10, 2, 3, 4, 8, 6, 1, 2, 3, 4, 5, 6, 7, 8, 9, 10, 2, 3, 8, 2, 1, 2, 3, 4, 5, 6, 7, 8, 9, 10, 5, 1, 6, 1, 2, 7, 9, 2, 5, 1, 2, 3, 4, 5, 6, 7, 8, 9, 10, 1, 2, 3, 4, 5, 6, 7, 8, 10, 8, 2, 3, 4, 7, 8, 1, 2, 3, 4, 5, 6, 7, 8, 9, 10, 9, 1, 2, 3, 4, 5, 6, 9, 10, 1, 2, 3, 7, 10, 3, 4, 3, 9, 1, 2, 3, 4, 5, 6, 7, 8, 9, 10, 2, 3, 4, 5, 3, 1, 2, 3, 4, 5, 6, 7, 8, 9, 10, 4, 5, 1, 4, 5, 9, 2, 3, 4, 5, 6, 8, 1, 2, 8, 2, 1, 2, 3, 4, 5, 6, 8, 9, 10, 1, 1, 2, 3, 4, 5, 6, 7, 8, 9, 10, 1, 2, 6, 1, 2, 2, 7, 1, 2, 3, 4, 5, 6, 7, 8, 9, 10, 1, 2, 3, 4, 5, 6, 7, 8, 9, 10, 1, 2, 3, 4, 6, 7, 8, 9, 10, 1, 2, 3, 4, 8, 3, 4, 8, 1, 2, 10, 10, 1, 2, 3, 4, 5, 6, 10, 1, 2, 3, 4, 5, 6, 7, 8, 9, 10, 2, 3, 4, 8, 1, 7, 10, 1, 2, 3, 9, 10, 2, 1, 5, 5, 2, 1, 2, 3, 4, 5, 6, 7, 8, 9, 2, 3, 4, 8, 3, 4, 5, 6, 1, 6, 4, 6, 7, 8, 1, 2, 6, 10, 7, 8, 2, 3, 4, 9, 1, 2, 3, 4, 5, 6, 7, 8, 9, 10, 1, 1, 2, 3, 4, 5, 6, 7, 8, 9, 10, 1, 2, 3, 4, 5, 6, 7, 8, 9, 10, 3, 4, 2, 1, 3, 4, 5, 6, 7, 8, 9, 3, 2, 3, 4, 8, 2, 1, 2, 5, 7, 8, 9, 1, 1, 2, 3, 4, 5, 6, 7, 8, 9, 10, 1, 2, 3, 4, 5, 6, 7, 8, 9, 10, 1, 2, 3, 4, 5, 6, 7, 8, 9, 10, 2, 3, 4, 8, 2, 5, 6, 1, 2, 3, 4, 5, 6, 7, 8, 9, 10, 5, 1, 2, 3, 4, 5, 6, 7, 8, 9, 10, 1, 2, 3, 4, 5, 6, 7, 8, 9, 10, 8, 1, 2, 3, 4, 5, 8, 9, 1, 3, 4, 5, 8, 10, 1, 2, 3, 4, 5, 6, 7, 8, 9, 10, 1, 2, 3, 4, 5, 6, 7, 8, 9, 10, 1, 2, 3, 4, 5, 6, 7, 8, 9, 10, 1, 2, 3, 4, 5, 6, 7, 8, 9, 10, 1, 2, 3, 4, 5, 6, 7, 8, 9, 10, 6, 1, 2, 1, 2, 3, 4, 5, 6, 10, 1, 2, 3, 4, 5, 6, 7, 8, 9, 10, 1, 2, 3, 4, 5, 6, 7, 8, 9, 10, 1, 1, 2, 3, 4, 5, 6, 7, 8, 9, 10, 1, 2, 3, 4, 5, 6, 7, 8, 9, 10, 7, 8, 9, 1, 2, 3, 6, 8, 10, 10, 1, 3, 4, 5, 7, 8, 9, 10, 1, 2, 3, 4, 5, 6, 8, 9, 10, 1, 2, 3, 4, 5, 6, 7, 8, 9, 10, 1, 3, 5, 6, 8, 10, 2, 6, 2, 1, 2, 1, 2, 3, 4, 5, 6, 7, 8, 9, 10, 3, 4, 8, 1, 5, 1, 2, 3, 4, 5, 6, 7, 8, 9, 10, 1, 2, 3, 4, 5, 9, 5, 1, 3, 4, 5, 8, 9, 10, 7, 1, 2, 3, 4, 5, 6, 7, 8, 9, 10, 1, 2, 5, 1, 2, 3, 4, 5, 6, 7, 8, 9, 10, 1, 2, 3, 4, 5, 6, 8, 9, 8, 1, 2, 7, 8, 9, 1, 2, 3, 4, 5, 6, 7, 8, 9, 10, 7, 1, 2, 3, 4, 5, 6, 7, 8, 9, 10, 1, 2, 3, 4, 5, 6, 7, 8, 9, 10, 1, 2, 3, 4, 5, 6, 7, 8, 9, 10, 1, 2, 3, 4, 5, 6, 7, 8, 9, 10, 6, 8, 7, 1, 3, 5, 8, 9, 5, 1, 2, 3, 4, 5, 6, 7, 8, 9, 10, 1, 2, 3, 4, 5, 6, 7, 8, 9, 10, 1, 2, 3, 4, 5, 6, 7, 8, 9, 10, 1, 2, 3, 4, 5, 6, 7, 8, 9, 10, 1, 4, 1, 2, 3, 4, 5, 6, 7, 8, 9, 10, 8, 1, 2, 3, 4, 5, 6, 7, 8, 9, 10, 1, 2, 5, 7, 8, 9, 10, 6, 10, 9, 7, 1, 2, 3, 4, 5, 6, 7, 8, 9, 10, 3, 4, 8, 1, 5, 1, 2, 3, 4, 5, 6, 7, 8, 9, 10, 1, 2, 4, 5, 7, 10, 1, 2, 3, 4, 5, 6, 7, 8, 9, 10, 3, 4, 8, 10, 1, 2, 3, 4, 5, 6, 7, 8, 9, 10, 1, 2, 3, 5, 1, 2, 3, 4, 5, 6, 8, 10, 7, 1, 2, 3, 4, 5, 6, 8, 10, 1, 2, 3, 4, 5, 6, 10, 1, 2, 3, 4, 5, 6, 7, 8, 9, 10, 10, 1, 10, 1, 3, 4, 5, 6, 8, 9, 10, 4, 5, 6, 8, 10, 1, 2, 3, 6, 10, 1, 2, 3, 4, 5, 6, 7, 8, 9, 10, 2, 4, 5, 6, 10, 1, 2, 3, 4, 5, 6, 7, 8, 9, 10, 1, 2, 3, 4, 5, 6, 8, 9, 7, 10, 2, 10, 6, 7, 9, 2, 10, 5, 9, 1, 2, 3, 4, 5, 6, 7, 8, 9, 10, 1, 2, 3, 4, 5, 6, 7, 8, 9, 10, 1, 2, 3, 4, 5, 6, 9, 10, 1, 2, 3, 4, 5, 6, 7, 8, 9, 10, 1, 2, 3, 4, 5, 6, 7, 8, 9, 10, 1, 2, 3, 5, 6, 8, 3, 6, 7, 10, 7, 6, 2, 3, 4, 5, 8, 10, 1, 1, 2, 3, 4, 5, 6, 10, 1, 2, 3, 4, 5, 6, 7, 8, 9, 10, 7, 6, 1, 2, 3, 5, 8, 9, 10, 1, 2, 3, 4, 5, 6, 7, 8, 9, 10, 7, 1, 2, 3, 4, 5, 6, 7, 8, 9, 10, 10, 6, 5, 9, 1, 2, 3, 4, 5, 6, 7, 10, 7, 1, 2, 3, 5, 6, 7, 8, 9, 10, 1, 2, 4, 5, 7, 8, 9, 1, 2, 3, 4, 5, 6, 7, 8, 9, 10, 10, 1, 2, 3, 6, 1, 2, 3, 4, 5, 6, 7, 8, 9, 10, 1, 2, 3, 4, 5, 6, 7, 8, 9, 10, 7, 5, 9, 1, 9, 1, 2, 3, 4, 5, 6, 7, 8, 10, 2, 4, 6, 7, 8, 10, 2, 5, 7, 8, 9, 10, 3, 4, 8, 1, 2, 3, 5, 6, 8, 10, 3, 5, 5, 9, 1, 2, 3, 4, 5, 6, 8, 9, 10, 1, 2, 3, 4, 5, 6, 7, 8, 9, 10, 3, 4, 8, 9, 1, 2, 3, 4, 5, 6, 7, 8, 9, 10, 1, 7, 1, 2, 4, 1, 2, 3, 4, 5, 6, 7, 8, 9, 10, 3, 6, 1, 2, 3, 4, 5, 9, 10, 1, 2, 3, 4, 5, 6, 7, 8, 9, 10, 6, 1, 2, 3, 4, 5, 6, 7, 8, 9, 10, 1, 2, 7, 10, 2, 4, 6, 2, 8, 2, 5, 8, 1, 2, 3, 4, 5, 6, 7, 8, 9, 10, 8, 1, 2, 3, 4, 5, 6, 7, 8, 9, 10, 9, 1, 8, 10, 8, 3, 4, 1, 2, 3, 4, 5, 7, 8, 9, 10, 1, 2, 3, 4, 5, 6, 7, 8, 9, 10, 1, 2, 5, 7, 8, 9, 10, 1, 2, 3, 6, 7, 8, 9, 10, 1, 2, 3, 4, 8, 1, 2, 3, 4, 5, 6, 7, 8, 9, 10, 3, 3, 10, 4, 10, 1, 2, 3, 4, 5, 6, 7, 8, 9, 10, 1, 2, 3, 5, 6, 10, 2, 1, 2, 3, 5, 6, 1, 6, 3, 6, 7, 2, 3, 4, 5, 6, 8, 1, 2, 3, 4, 5, 6, 7, 8, 9, 10, 7, 9, 1, 2, 3, 4, 5, 6, 7, 8, 9, 10, 1, 2, 3, 5, 6, 9, 10, 1, 2, 3, 4, 5, 6, 8, 9, 10, 8, 8, 1, 10, 1, 2, 3, 4, 5, 6, 8, 10, 1, 2, 3, 4, 5, 6, 7, 8, 9, 10, 3, 4, 6, 8, 3, 2, 3, 4, 5, 7, 1, 2, 3, 4, 5, 6, 8, 2, 5, 1, 2, 3, 4, 5, 6, 8, 9, 10, 3, 4, 8, 1, 2, 5, 6, 10, 1, 2, 3, 4, 5, 6, 7, 8, 9, 10, 1, 4, 1, 10, 1, 2, 3, 4, 5, 6, 7, 8, 9, 10, 2, 3, 6, 7, 8, 10, 9, 8, 1, 2, 3, 4, 5, 6, 8, 10, 1, 2, 3, 4, 5, 6, 7, 8, 9, 10, 1, 2, 3, 4, 5, 6, 7, 8, 9, 10, 1, 9, 1, 2, 3, 4, 5, 6, 7, 8, 9, 10, 1, 2, 1, 2, 3, 4, 5, 6, 8, 10, 7, 8, 2, 3, 4, 7, 8, 1, 2, 1, 2, 3, 4, 5, 6, 8, 9, 10, 2, 1, 2, 5, 7, 9, 1, 9, 5, 6, 8, 1, 1, 2, 3, 4, 5, 6, 7, 8, 9, 10, 3, 4, 8, 10, 2, 5, 9, 6, 9, 10, 3, 4, 6, 8, 9, 10, 4, 1, 2, 3, 4, 5, 6, 7, 8, 9, 10, 6, 5, 2, 3, 4, 8, 9, 7, 3, 4, 4, 1, 2, 3, 5, 6, 7, 8, 9, 10, 1, 3, 5, 6, 8, 9, 3, 4, 8, 1, 2, 3, 4, 5, 6, 8, 9, 10, 2, 1, 2, 3, 4, 5, 8, 9, 10, 7, 9, 1, 2, 3, 4, 5, 6, 7, 8, 9, 10, 1, 2, 5, 8, 10, 8, 1, 2, 3, 4, 5, 6, 8, 9, 10, 1, 2, 6, 1, 5, 3, 2, 9, 2, 5, 6, 10, 10, 5, 2, 3, 4, 5, 6, 7, 8, 9, 10, 1, 2, 3, 6, 8, 9, 10, 1, 2, 6, 7, 9, 10, 1, 2, 3, 4, 5, 6, 7, 8, 9, 10, 7, 1, 2, 3, 4, 5, 6, 7, 8, 9, 10, 4, 10, 1, 2, 3, 4, 5, 6, 8, 10, 1, 2, 3, 4, 5, 6, 7, 8, 9, 10, 10, 1, 10, 1, 2, 3, 4, 5, 6, 7, 8, 9, 10, 9, 10, 10, 10, 1, 2, 3, 4, 5, 6, 7, 8, 9, 10, 1, 2, 3, 5, 6, 7, 8, 9, 10, 3, 5, 9, 10, 1, 2, 3, 4, 5, 8, 9, 10, 1, 2, 1, 2, 3, 4, 5, 6, 7, 8, 9, 10, 1, 2, 3, 5, 6, 7, 8, 10, 1, 3, 4, 8, 5], \"Freq\": [0.009857323289423703, 0.053229545762888, 0.444565280353009, 0.007885858631538963, 0.4218934367873345, 0.022671843565674518, 0.002957196986827111, 0.017743181920962667, 0.008871590960481334, 0.010843055618366074, 0.9311797829657461, 0.2518500505064336, 0.23041600365482223, 0.01607553513870853, 0.037509581990319896, 0.1768308865257938, 0.11788725768386253, 0.0053585117129028425, 0.010717023425805685, 0.048226605416125584, 0.10181172254515401, 0.37593810388017246, 0.4304218870512119, 0.04358702653683159, 0.016345134951311846, 0.04903540485393554, 0.021793513268415794, 0.021793513268415794, 0.005448378317103948, 0.005448378317103948, 0.027241891585519745, 0.855224970185275, 0.8377294155755786, 0.6401195901054288, 0.07513412875768856, 0.07513412875768856, 0.8264754163345742, 0.9558591270594384, 0.9174416613810763, 0.0502427989591833, 0.24403645208746172, 0.5813809593848352, 0.007177542708454757, 0.007177542708454757, 0.09330805520991184, 0.007177542708454757, 0.5043517648313844, 0.3953027345975716, 0.013631128779226606, 0.006815564389613303, 0.02044669316883991, 0.013631128779226606, 0.034077821948066515, 0.030338661464398706, 0.9101598439319611, 0.030338661464398706, 0.04160266545642999, 0.04160266545642999, 0.8736559745850297, 0.8437164444946884, 0.07670149495406259, 0.9064116705548352, 0.2613684500236731, 0.0980131687588774, 0.16335528126479568, 0.06534211250591827, 0.03267105625295914, 0.03267105625295914, 0.03267105625295914, 0.32671056252959135, 0.037693864017008916, 0.037693864017008916, 0.8418296297131991, 0.012564621339002971, 0.012564621339002971, 0.037693864017008916, 0.012564621339002971, 0.012564621339002971, 0.021591600084046116, 0.5883711022902567, 0.010795800042023058, 0.010795800042023058, 0.010795800042023058, 0.016193700063034586, 0.32387400126069177, 0.005397900021011529, 0.005397900021011529, 0.8689742706994695, 0.10862178383743369, 0.8045973504893668, 0.9189890275804007, 0.30442865586878687, 0.025369054655732238, 0.6595954210490382, 0.7671991302661286, 0.07344063339313797, 0.8812876007176556, 0.6444668564312436, 0.1611167141078109, 0.7802697960445469, 0.02812749890026867, 0.9000799648085974, 0.05625499780053734, 0.8377790832002309, 0.028148704764324496, 0.8726098476940594, 0.05629740952864899, 0.0756118879715262, 0.8317307676867882, 0.7665616392137535, 0.3066198363752834, 0.6132396727505668, 0.7332799471542729, 0.8437378208808254, 0.11637763046632074, 0.8937937042034981, 0.9201261760336308, 0.2486233101740405, 0.6215582754351012, 0.020120234769507472, 0.020120234769507472, 0.020120234769507472, 0.8852903298583288, 0.020120234769507472, 0.020120234769507472, 0.1851024790817231, 0.12340165272114872, 0.14808198326537847, 0.1665922311735508, 0.15425206590143592, 0.01851024790817231, 0.01851024790817231, 0.055530743724516926, 0.12340165272114872, 0.012340165272114872, 0.164013501647433, 0.18801547749827685, 0.30402502744402216, 0.08800724478642746, 0.07200592755253156, 0.028002305159317828, 0.012000987925421928, 0.07600625686100554, 0.04800395170168771, 0.016001317233895904, 0.6903032916220008, 0.31852489330606243, 0.07963122332651561, 0.039815611663257804, 0.15926244665303121, 0.07963122332651561, 0.31852489330606243, 0.8204542238596578, 0.08636360251154293, 0.7673775783655208, 0.8022356867786682, 0.8565816950805241, 0.689442698649708, 0.07285201965935112, 0.07285201965935112, 0.8013722162528623, 0.8941044127948861, 0.8547137156106247, 0.2192162668545317, 0.18585726972449426, 0.08101470731580519, 0.009531142037153552, 0.1763261276873407, 0.07148356527865164, 0.033358997130037434, 0.09054584935295874, 0.1000769913901123, 0.028593426111460655, 0.7279685413358591, 0.011555056211680303, 0.011555056211680303, 0.04622022484672121, 0.16177078696352426, 0.011555056211680303, 0.859851296710053, 0.8334147070906535, 0.13324133308062125, 0.13324133308062125, 0.6662066654031062, 0.052046375181236976, 0.8847883780810285, 0.8616800401052626, 0.9065153314108871, 0.8936691287349958, 0.8455980601517903, 0.07687255092289003, 0.012044529853489036, 0.8852729442314441, 0.024089059706978073, 0.006022264926744518, 0.012044529853489036, 0.006022264926744518, 0.048178119413956146, 0.006022264926744518, 0.006022264926744518, 0.027286544490787355, 0.020464908368090513, 0.6207688871654122, 0.047751452858877864, 0.04092981673618103, 0.08185963347236205, 0.05457308898157471, 0.0886812695950589, 0.027286544490787355, 0.8579295660836428, 0.0718115618685834, 0.7899271805544174, 0.0718115618685834, 0.8980673384949235, 0.7326895254078188, 0.8580182247732394, 0.3427088252381685, 0.385066095773223, 0.04620793149278676, 0.05005859245051899, 0.05005859245051899, 0.06546123628144791, 0.00385066095773223, 0.01540264383092892, 0.01925330478866115, 0.02310396574639338, 0.8891433231843133, 0.8242672667194244, 0.06565546869832838, 0.1542903514410717, 0.28231851540281205, 0.2100974998346508, 0.07550378900307764, 0.019696640609498512, 0.02954496091424777, 0.04267605465391345, 0.08863488274274331, 0.02626218747933135, 0.8378252160815934, 0.9211515437827263, 0.8943807255406192, 0.02380663974812042, 0.8332323911842148, 0.02380663974812042, 0.07141991924436127, 0.18975386840118114, 0.10541881577843397, 0.06325128946706038, 0.21083763155686794, 0.042167526311373583, 0.042167526311373583, 0.2319213947125547, 0.042167526311373583, 0.021083763155686792, 0.06325128946706038, 0.8931260528524136, 0.0630402099681958, 0.0630402099681958, 0.1260804199363916, 0.18912062990458742, 0.0630402099681958, 0.0630402099681958, 0.4412814697773706, 0.07175493703684721, 0.7893043074053194, 0.8246591586895617, 0.8781741765409858, 0.05373091597430552, 0.015351690278373006, 0.038379225695932516, 0.8059637396145828, 0.04605507083511902, 0.007675845139186503, 0.007675845139186503, 0.02302753541755951, 0.792020586846558, 0.06399355840949303, 0.031996779204746514, 0.06399355840949303, 0.15998389602373256, 0.031996779204746514, 0.031996779204746514, 0.06399355840949303, 0.031996779204746514, 0.5119484672759442, 0.7844115118391205, 0.1568823023678241, 0.09289143644179022, 0.12385524858905363, 0.6192762429452681, 0.015481906073631703, 0.007740953036815852, 0.023222859110447556, 0.10063238947860607, 0.015481906073631703, 0.007740953036815852, 0.8616194363347793, 0.043080971816738964, 0.021540485908369482, 0.043080971816738964, 0.8664560059774223, 0.8940732573880033, 0.21151469220672903, 0.5499381997374955, 0.17978748837571967, 0.010575734610336451, 0.010575734610336451, 0.010575734610336451, 0.010575734610336451, 0.010575734610336451, 0.010575734610336451, 0.8666402528589848, 0.8340066263543066, 0.03215532313938303, 0.5144851702301285, 0.06431064627876606, 0.008038830784845758, 0.1527377849120694, 0.016077661569691516, 0.03215532313938303, 0.0562718154939203, 0.1125436309878406, 0.016077661569691516, 0.7049087941902874, 0.1007012563128982, 0.8672290121035087, 0.8995322933258819, 0.02811038416643381, 0.9534744408783209, 0.8480362428810672, 0.5907077959548993, 0.07233156685162032, 0.01205526114193672, 0.02411052228387344, 0.19288417827098753, 0.07233156685162032, 0.01205526114193672, 0.01205526114193672, 0.11433483730904488, 0.023819757772717682, 0.24296152928172035, 0.2191417715090027, 0.12862669197267548, 0.02858370932726122, 0.009527903109087073, 0.1429185466363061, 0.06193137020906597, 0.023819757772717682, 0.6408337077257765, 0.8717938729589296, 0.07264948941324413, 0.689940503054541, 0.8944435673750697, 0.06880335133654382, 0.006517287914278253, 0.026069151657113012, 0.2476569407425736, 0.05865559122850428, 0.006517287914278253, 0.03258643957139126, 0.013034575828556506, 0.5995904881135993, 0.006517287914278253, 0.013034575828556506, 0.10416519166962875, 0.798599802800487, 0.017360865278271458, 0.017360865278271458, 0.05208259583481437, 0.12361458490101736, 0.10578555823260138, 0.24485196624624592, 0.2995276480293882, 0.06537309778419187, 0.032092248003148735, 0.011886017778943976, 0.08320212445260783, 0.009508814223155181, 0.02496063733578235, 0.14527066183452222, 0.7263533091726112, 0.07263533091726111, 0.5304128455065094, 0.3635413884932255, 0.009535511829330505, 0.010727450807996818, 0.03099041344532414, 0.01549520672266207, 0.0035758169359989393, 0.008343572850664192, 0.005959694893331566, 0.022646840594659948, 0.027440156822433743, 0.9055251751403135, 0.054880313644867486, 0.04766522090694489, 0.857973976325008, 0.04766522090694489, 0.06237127887642254, 0.6860840676406479, 0.12474255775284508, 0.06237127887642254, 0.06237127887642254, 0.004733485772233443, 0.009466971544466886, 0.014200457316700329, 0.908829268268821, 0.004733485772233443, 0.009466971544466886, 0.004733485772233443, 0.037867886177867544, 0.004733485772233443, 0.6398697866595311, 0.641431136157116, 0.8545095472567221, 0.08994837339544444, 0.09889584432060317, 0.06593056288040211, 0.03767460736022978, 0.645177651043935, 0.05651191104034467, 0.032965281440201055, 0.004709325920028723, 0.04709325920028722, 0.009418651840057446, 0.004709325920028723, 0.8854834366240784, 0.0714982402058799, 0.2859929608235196, 0.5719859216470392, 0.03574912010293995, 0.017874560051469975, 0.8937468251059366, 0.8552084373229499, 0.07436595107156087, 0.021322932422927453, 0.021322932422927453, 0.042645864845854906, 0.8529172969170981, 0.021322932422927453, 0.021322932422927453, 0.021322932422927453, 0.6990571288923374, 0.8427659641786398, 0.028142090354448993, 0.9005468913423678, 0.056284180708897985, 0.07655841547025333, 0.8421425701727866, 0.8376065062714118, 0.9234856963023892, 0.800808412686777, 0.8987783785512707, 0.16490983346642654, 0.30233469468844865, 0.08703574544061402, 0.08703574544061402, 0.08245491673321327, 0.08245491673321327, 0.05038911578140811, 0.027484972244404424, 0.013742486122202212, 0.09619740285541549, 0.9181491405696969, 0.8960625593914384, 0.6972171824156241, 0.8854642323218173, 0.06179287028314998, 0.09268930542472498, 0.01029881171385833, 0.05149405856929165, 0.06179287028314998, 0.02059762342771666, 0.1029881171385833, 0.02059762342771666, 0.5561358325483499, 0.02059762342771666, 0.08655917800989013, 0.14065866426607146, 0.010819897251236266, 0.692473424079121, 0.010819897251236266, 0.032459691753708796, 0.8939291475918858, 0.024686673666036652, 0.8640335783112828, 0.024686673666036652, 0.049373347332073304, 0.024686673666036652, 0.09151919468386793, 0.8236727521548113, 0.8262912072942491, 0.0590208005210178, 0.0590208005210178, 0.07169345453101245, 0.788627999841137, 0.2868617429842129, 0.1792885893651331, 0.035857717873026614, 0.035857717873026614, 0.3944348966032928, 0.035857717873026614, 0.14757430955071063, 0.14757430955071063, 0.04919143651690354, 0.04919143651690354, 0.4919143651690354, 0.04919143651690354, 0.8891713355563619, 0.1347474087020239, 0.6400501913346136, 0.06737370435101195, 0.033686852175505974, 0.016843426087752987, 0.016843426087752987, 0.016843426087752987, 0.05053027826325897, 0.033686852175505974, 0.7675239810670249, 0.05609558761324607, 0.14958823363532284, 0.018698529204415355, 0.05609558761324607, 0.4674632301103839, 0.07479411681766142, 0.11219117522649213, 0.05609558761324607, 0.018698529204415355, 0.8058452273736925, 0.8512794177047014, 0.8571916665145758, 0.04285958332572879, 0.017905003103422263, 0.3222900558616007, 0.017905003103422263, 0.017905003103422263, 0.017905003103422263, 0.6266751086197792, 0.24874582702695494, 0.04974916540539099, 0.09949833081078198, 0.5969899848646919, 0.8779096959729852, 0.7997844724272626, 0.8332716958977013, 0.04202459986384319, 0.8404919972768637, 0.04202459986384319, 0.8939230829496901, 0.05746651403372959, 0.071833142542162, 0.04309988552529719, 0.7183314254216199, 0.028733257016864796, 0.04309988552529719, 0.028733257016864796, 0.07071871909711498, 0.07071871909711498, 0.7071871909711499, 0.07269378183004646, 0.799631600130511, 0.07269378183004646, 0.16715718481188552, 0.26745149569901683, 0.008357859240594276, 0.016715718481188552, 0.3510300881049596, 0.008357859240594276, 0.10029431088713131, 0.05850501468415993, 0.025073577721782828, 0.8940106929885921, 0.8944858324902512, 0.012975588619988775, 0.02595117723997755, 0.03892676585996633, 0.8434132602992704, 0.012975588619988775, 0.012975588619988775, 0.0519023544799551, 0.09484211743273906, 0.16232593175988033, 0.14591094989652165, 0.3483623928779454, 0.016414981863358685, 0.03647773747413041, 0.03830162434783693, 0.04559717184266301, 0.06565992745343474, 0.04559717184266301, 0.19137775614443592, 0.5741332684333077, 0.23391664057395806, 0.07797221352465268, 0.6237777081972214, 0.6389070852170174, 0.884588716623822, 0.07550337490562656, 0.01887584372640664, 0.01887584372640664, 0.33976518707531955, 0.5285236243393859, 0.8843082782885269, 0.15842591524917293, 0.37116928715520514, 0.12900395956004082, 0.15389946052776798, 0.05431745665685929, 0.038474865131941996, 0.009052909442809882, 0.04526454721404941, 0.020369046246322235, 0.024895500967727177, 0.8636403958584875, 0.041125733136118454, 0.041125733136118454, 0.041125733136118454, 0.43597775139540645, 0.2536597826300547, 0.055488077450324455, 0.07134181386470287, 0.007926868207189209, 0.007926868207189209, 0.007926868207189209, 0.023780604621567624, 0.11890302310783812, 0.8608453718419855, 0.027620037025928447, 0.8562211478037819, 0.055240074051856894, 0.017637511422750305, 0.017637511422750305, 0.5644003655280098, 0.017637511422750305, 0.37038773987775636, 0.7250913703543659, 0.837646371158167, 0.9242955039933665, 0.6898176148040529, 0.2628066240042087, 0.5654324334636005, 0.039819185455183134, 0.01592767418207325, 0.02389151127310988, 0.04778302254621976, 0.01592767418207325, 0.007963837091036626, 0.0318553483641465, 0.8377078301752854, 0.8862223480290564, 0.8946742036154887, 0.08280282100676495, 0.7176244487252963, 0.08280282100676495, 0.05520188067117664, 0.867356669806444, 0.1084195837258055, 0.026401776003586334, 0.05280355200717267, 0.2772186480376565, 0.019801332002689753, 0.006600444000896584, 0.006600444000896584, 0.006600444000896584, 0.5742386280780029, 0.006600444000896584, 0.019801332002689753, 0.5213123505215737, 0.3099695057155302, 0.09158189941595211, 0.007044761493534778, 0.014089522987069556, 0.014089522987069556, 0.007044761493534778, 0.007044761493534778, 0.021134284480604334, 0.7708415964664256, 0.12585168921900824, 0.01573146115237603, 0.03146292230475206, 0.01573146115237603, 0.017822043038994734, 0.5792163987673288, 0.267330645584921, 0.053466129116984194, 0.008911021519497367, 0.03564408607798947, 0.008911021519497367, 0.026733064558492097, 0.8376575910237927, 0.8851743457109682, 0.8765483360189632, 0.033797019590640076, 0.4055642350876809, 0.06759403918128015, 0.37176721549704084, 0.06759403918128015, 0.7705913982844825, 0.8236739145133354, 0.697484712787385, 0.9280064608245311, 0.1605343492340724, 0.7224045715533258, 0.7706061617446077, 0.3564970148166363, 0.28519761185330905, 0.028519761185330908, 0.028519761185330908, 0.014259880592665454, 0.014259880592665454, 0.04277964177799636, 0.21389820888998182, 0.18317907573039507, 0.06105969191013169, 0.2340621523221715, 0.010176615318355283, 0.11194276850190811, 0.2849452289139479, 0.04070646127342113, 0.05088307659177641, 0.020353230636710566, 0.9247724285019251, 0.8852562223129075, 0.8666920752161953, 0.8376469913082443, 0.8376638084962066, 0.002411038034672843, 0.16153954832308048, 0.4749744928305501, 0.02169934231205559, 0.004822076069345686, 0.012055190173364216, 0.00723311410401853, 0.30379079236877826, 0.002411038034672843, 0.009644152138691372, 0.09540373125471575, 0.8268323375408698, 0.3267127795645499, 0.5652649678180308, 0.020743668543780947, 0.005185917135945237, 0.03111550281567142, 0.020743668543780947, 0.005185917135945237, 0.010371834271890474, 0.01555775140783571, 0.2011864335870033, 0.04555164534045358, 0.14804284735647413, 0.3074736060480616, 0.07591940890075596, 0.09110329068090715, 0.015183881780151192, 0.07591940890075596, 0.015183881780151192, 0.02277582267022679, 0.9260932102081555, 0.02502954622184204, 0.05005909244368408, 0.15224507844198487, 0.7612253922099244, 0.14059805873658274, 0.14059805873658274, 0.7029902936829137, 0.08963916677565036, 0.20915805580985083, 0.07967925935613365, 0.08963916677565036, 0.1593585187122673, 0.3187170374245346, 0.009959907419516707, 0.009959907419516707, 0.009959907419516707, 0.009959907419516707, 0.8320430559175077, 0.545212066458071, 0.2508940482815902, 0.048248855438767335, 0.03859908435101387, 0.028949313263260404, 0.019299542175506935, 0.004824885543876734, 0.024124427719383668, 0.009649771087753467, 0.028949313263260404, 0.05778108953283176, 0.07062133165123882, 0.09630181588805294, 0.41730786884822935, 0.032100605296017645, 0.0449408474144247, 0.09630181588805294, 0.07704145271044234, 0.06420121059203529, 0.032100605296017645, 0.8460475284255214, 0.07691341167504741, 0.5427576540712452, 0.1679964167363378, 0.0064614006437053, 0.1033824102992848, 0.0064614006437053, 0.0258456025748212, 0.0064614006437053, 0.0387684038622318, 0.1098438109429901, 0.8047685309630265, 0.9186216605585905, 0.8702534347453986, 0.23852929883681032, 0.14456321141624867, 0.17829462741337337, 0.05300651085262451, 0.10119424799137408, 0.12528811656074884, 0.03614080285406217, 0.05541589770956199, 0.03855018971099965, 0.028912642283249735, 0.024982929076281205, 0.8744025176698421, 0.06245732269070301, 0.012491464538140602, 0.012491464538140602, 0.9431818482019888, 0.29475388345222747, 0.21981645545589845, 0.11989988479412643, 0.06994159946324041, 0.06494577093015182, 0.07493742799632902, 0.014987485599265804, 0.04995828533088601, 0.019983314132354404, 0.07493742799632902, 0.09938832743332422, 0.5565746336266156, 0.019877665486664843, 0.2981649822999727, 0.28825050617637094, 0.13947605137566335, 0.13947605137566335, 0.037193613700176896, 0.08368563082539802, 0.1859680685008845, 0.018596806850088448, 0.018596806850088448, 0.027895210275132674, 0.06508882397530957, 0.026701782082446123, 0.026701782082446123, 0.881158808720722, 0.026701782082446123, 0.7675445709913936, 0.3862404916478964, 0.2682225636443725, 0.0965601229119741, 0.0107289025457749, 0.0214578050915498, 0.0429156101830996, 0.0107289025457749, 0.0321867076373247, 0.0107289025457749, 0.1287468305492988, 0.12663335221108038, 0.25326670442216076, 0.5698500849498617, 0.9017563216971238, 0.051783041528572035, 0.06904405537142938, 0.12082709690000142, 0.46604737375714833, 0.06041354845000071, 0.017261013842857345, 0.06041354845000071, 0.051783041528572035, 0.06041354845000071, 0.03452202768571469, 0.9044525273590516, 0.12722409432104279, 0.7633445659262567, 0.8854773707627683, 0.8273093597002507, 0.8940634570042053, 0.837740762193532, 0.108762237284526, 0.870097898276208, 0.1757926039672625, 0.05859753465575417, 0.11719506931150835, 0.02343901386230167, 0.09375605544920668, 0.08203654851805584, 0.02343901386230167, 0.11719506931150835, 0.29298767327877084, 0.011719506931150835, 0.00321251890934024, 0.0963755672802072, 0.8513175109751635, 0.01285007563736096, 0.01285007563736096, 0.00321251890934024, 0.00321251890934024, 0.009637556728020719, 0.00642503781868048, 0.8241782809388488, 0.027565666607415988, 0.027565666607415988, 0.8545356648298956, 0.027565666607415988, 0.055131333214831976, 0.14400024179844187, 0.13200022164857173, 0.08400014104909109, 0.060000100749350777, 0.16800028209818219, 0.07200012089922093, 0.03600006044961047, 0.07200012089922093, 0.20400034254779265, 0.012000020149870156, 0.89496859833489, 0.19649351708062684, 0.6787957862785291, 0.017863047007329713, 0.017863047007329713, 0.017863047007329713, 0.035726094014659426, 0.017863047007329713, 0.017863047007329713, 0.8065496821551441, 0.03360623675646433, 0.03360623675646433, 0.03360623675646433, 0.06721247351292867, 0.9525689373885885, 0.015876148956476474, 0.9481173577961329, 0.8951771642324174, 0.012622810600912247, 0.03155702650228062, 0.7447458254538226, 0.037868431802736746, 0.012622810600912247, 0.018934215901368373, 0.012622810600912247, 0.11991670070866635, 0.0063114053004561235, 0.0063114053004561235, 0.8596721239773201, 0.9535643936327952, 0.017027935600585627, 0.017027935600585627, 0.8578751885204217, 0.11399715082734381, 0.08004055270856054, 0.45598860330937524, 0.08125328835565995, 0.08852970223825636, 0.0509348971781749, 0.008489149529695816, 0.08852970223825636, 0.019403770353590435, 0.013340092118093425, 0.0632162666877459, 0.8850277336284426, 0.035371362733933584, 0.035371362733933584, 0.8135413428804725, 0.035371362733933584, 0.05812242671426921, 0.8573057940354709, 0.014530606678567303, 0.014530606678567303, 0.014530606678567303, 0.029061213357134606, 0.9047891577967386, 0.043085197990320886, 0.7065658692300125, 0.8293988820871043, 0.42728284904780184, 0.41068934034691634, 0.03318701740177102, 0.020741885876106887, 0.01659350870088551, 0.012445131525664132, 0.008296754350442755, 0.02903864022654964, 0.04563214892743515, 0.8646392387410843, 0.022447456808216464, 0.03367118521232469, 0.6060813338218445, 0.011223728404108232, 0.08978982723286585, 0.022447456808216464, 0.011223728404108232, 0.06734237042464938, 0.056118642020541155, 0.06734237042464938, 0.050488929261516546, 0.8583117974457813, 0.10097785852303309, 0.8296394168689865, 0.08296394168689865, 0.8617388441259594, 0.8938989148966111, 0.23127183712612429, 0.09636326546921845, 0.1734538778445932, 0.11563591856306214, 0.03854530618768738, 0.04496952388563528, 0.012848435395895794, 0.1927265309384369, 0.07066639467742686, 0.025696870791791587, 0.5343965732421083, 0.20734587041793803, 0.036338966980463364, 0.12611759128513758, 0.0256510355156212, 0.0128255177578106, 0.0064127588789053, 0.0064127588789053, 0.021375862929684332, 0.023513449222652767, 0.04877869747400227, 0.09755739494800454, 0.04877869747400227, 0.09755739494800454, 0.48778697474002275, 0.04877869747400227, 0.04877869747400227, 0.09755739494800454, 0.04877869747400227, 0.01820647301017009, 0.01820647301017009, 0.01820647301017009, 0.8921171774983345, 0.03641294602034018, 0.02815122007373118, 0.9008390423593977, 0.05630244014746236, 0.8722142787336097, 0.06015270887817997, 0.030076354439089986, 0.6901632029570663, 0.6065241616906599, 0.32658993321804763, 0.009331140949087074, 0.009331140949087074, 0.009331140949087074, 0.009331140949087074, 0.009331140949087074, 0.3825902799518111, 0.4894398175960106, 0.01378703711538058, 0.02068055567307087, 0.017233796394225724, 0.024127314951916015, 0.003446759278845145, 0.003446759278845145, 0.00689351855769029, 0.03446759278845145, 0.8841915916716528, 0.02804197677502853, 0.897343256800913, 0.02804197677502853, 0.8276354365766138, 0.045979746476478546, 0.045979746476478546, 0.19908130798235663, 0.24885163497794577, 0.049770326995589156, 0.09954065399117831, 0.3483922889691241, 0.9325254828433047, 0.08573502281356016, 0.8573502281356016, 0.9061172907960156, 0.9561243019817173, 0.22528678672082889, 0.13141729225381685, 0.01877389889340241, 0.07509559557360963, 0.05632169668020722, 0.4317996745482554, 0.01877389889340241, 0.01877389889340241, 0.01877389889340241, 0.020570302398528795, 0.020570302398528795, 0.905093305535267, 0.04114060479705759, 0.9382675145449257, 0.015902839229575014, 0.015902839229575014, 0.015902839229575014, 0.9150279806986753, 0.8556747407430965, 0.06820015612350366, 0.06820015612350366, 0.7502017173585404, 0.06820015612350366, 0.30543756428220464, 0.043633937754600664, 0.5672411908098086, 0.043633937754600664, 0.8666692604381158, 0.8344504747981121, 0.9437779382213445, 0.016853177468238292, 0.016853177468238292, 0.8944321677746325, 0.2674066443802912, 0.14113128453404258, 0.19312702094132145, 0.044567774063381874, 0.0668516610950728, 0.14113128453404258, 0.007427962343896978, 0.0668516610950728, 0.014855924687793957, 0.0668516610950728, 0.8874406923587848, 0.0330330014329129, 0.21801780945722515, 0.059459402579243224, 0.20480460888406, 0.10570560458532129, 0.01321320057316516, 0.07927920343899096, 0.04624620200607806, 0.22462440974380773, 0.01321320057316516, 0.17649862801031996, 0.15884876520928795, 0.017649862801031996, 0.03529972560206399, 0.03529972560206399, 0.017649862801031996, 0.07059945120412799, 0.03529972560206399, 0.38829698162270393, 0.07059945120412799, 0.9056501612288201, 0.09056501612288201, 0.9181232470839139, 0.037285671651521766, 0.037285671651521766, 0.11185701495456529, 0.037285671651521766, 0.037285671651521766, 0.22371402990913059, 0.037285671651521766, 0.44742805981826117, 0.8577222010927289, 0.027441333962349688, 0.027441333962349688, 0.87812268679519, 0.054882667924699376, 0.9505662257139313, 0.05291655708749212, 0.05291655708749212, 0.05291655708749212, 0.15874967126247636, 0.05291655708749212, 0.6349986850499054, 0.8653992375930945, 0.15002007392632385, 0.19841364616062188, 0.14034135947946427, 0.20809236060748149, 0.05323292945772782, 0.13066264503260466, 0.014518071670289406, 0.033875500564008613, 0.01935742889371921, 0.043554215010868216, 0.07643587746607339, 0.38217938733036694, 0.11465381619911008, 0.2839046877311297, 0.06005676086620052, 0.01637911659987287, 0.010919411066581912, 0.021838822133163825, 0.010919411066581912, 0.03275823319974574, 0.1796201341121432, 0.0449050335280358, 0.0898100670560716, 0.47711598123538035, 0.03929190433703132, 0.028065645955022374, 0.005613129191004475, 0.033678775146026844, 0.06174442110104922, 0.03929190433703132, 0.026220214447355505, 0.026220214447355505, 0.8652670767627317, 0.05244042889471101, 0.05015303462229528, 0.8526015885790197, 0.10030606924459055, 0.3285916721224054, 0.45126589638143677, 0.061337112129515675, 0.013143666884896217, 0.04819344524461946, 0.04819344524461946, 0.004381222294965405, 0.00876244458993081, 0.013143666884896217, 0.026287333769792434, 0.8617150201650894, 0.07373063567608158, 0.16220739848737947, 0.22119190702824473, 0.02949225427043263, 0.08847676281129789, 0.26543028843389366, 0.02949225427043263, 0.10322288994651421, 0.014746127135216315, 0.02949225427043263, 0.2209057207250615, 0.09140926374830131, 0.08379182510260953, 0.06855694781122598, 0.43419400280443127, 0.030469754582767104, 0.007617438645691776, 0.02285231593707533, 0.015234877291383552, 0.02285231593707533, 0.8239894779217931, 0.11670534108305654, 0.07426703523467235, 0.01060957646209605, 0.07426703523467235, 0.5304788231048024, 0.09548618815886445, 0.0848766116967684, 0.05684118684091743, 0.01894706228030581, 0.3789412456061162, 0.5115706815682569, 0.01894706228030581, 0.01894706228030581, 0.3109425529032561, 0.46641382935488424, 0.05922715293395355, 0.029613576466976776, 0.029613576466976776, 0.05182375881720935, 0.007403394116744194, 0.007403394116744194, 0.007403394116744194, 0.029613576466976776, 0.21896859829303664, 0.1211315650131692, 0.027953438079962124, 0.40998375850611113, 0.08386031423988637, 0.06522468885324495, 0.009317812693320708, 0.02329453173330177, 0.009317812693320708, 0.032612344426622475, 0.3504001889361994, 0.26014559481626925, 0.05309093771760597, 0.06901821903288775, 0.05309093771760597, 0.1486546256092967, 0.005309093771760597, 0.026545468858802986, 0.026545468858802986, 0.01592728131528179, 0.41824044442219843, 0.18710756724150984, 0.02201265496958939, 0.016509491227192044, 0.12106960233274165, 0.03301898245438409, 0.005503163742397348, 0.09905694736315226, 0.05503163742397348, 0.04402530993917878, 0.48128502501488674, 0.3437750178677762, 0.02455535841912687, 0.03437750178677762, 0.04419964515442837, 0.009822143367650749, 0.014733215051476125, 0.014733215051476125, 0.019644286735301497, 0.014733215051476125, 0.7690815854198808, 0.8205036319609688, 0.12820369249390137, 0.5620944770238347, 0.30756112893757, 0.0318166685107831, 0.0318166685107831, 0.021211112340522066, 0.021211112340522066, 0.010605556170261033, 0.3056979875834851, 0.4093694790248409, 0.029240677073202923, 0.12227919503339403, 0.03721540718407645, 0.026582433702911745, 0.005316486740582349, 0.021265946962329398, 0.007974730110873523, 0.03721540718407645, 0.07238411989752398, 0.05428808992314298, 0.018096029974380996, 0.018096029974380996, 0.45240074935952485, 0.009048014987190498, 0.06333610491033348, 0.20810434470538144, 0.08143213488471447, 0.009048014987190498, 0.926228429020107, 0.06863465876388272, 0.02745386350555309, 0.013726931752776545, 0.02745386350555309, 0.35690022557219014, 0.013726931752776545, 0.02745386350555309, 0.2745386350555309, 0.150996249280542, 0.041180795258329635, 0.11760819845389084, 0.11025768605052266, 0.0992319174454704, 0.5329121492441928, 0.02940204961347271, 0.022051537210104534, 0.018376281008420443, 0.04042781821852497, 0.011025768605052267, 0.018376281008420443, 0.8000657509711173, 0.0727332500882834, 0.0727332500882834, 0.09763251014154554, 0.09763251014154554, 0.04881625507077277, 0.1464487652123183, 0.04881625507077277, 0.4881625507077277, 0.6984490985053057, 0.012736633430606617, 0.012736633430606617, 0.03820990029181985, 0.03820990029181985, 0.08915643401424632, 0.012736633430606617, 0.7641980058363971, 0.025473266861213234, 0.04685812866152596, 0.01171453216538149, 0.035143596496144465, 0.5915838743517652, 0.25771970763839275, 0.005857266082690745, 0.02342906433076298, 0.029286330413453722, 0.01171453216538149, 0.2756139936854272, 0.39087075468115134, 0.1302902515603838, 0.010022327043106445, 0.0651451257801919, 0.07015628930174511, 0.015033490564659668, 0.015033490564659668, 0.005011163521553222, 0.025055817607766113, 0.21295284057854832, 0.042590568115709666, 0.127771704347129, 0.511086817388516, 0.042590568115709666, 0.042590568115709666, 0.06760916221365028, 0.8789191087774537, 0.8314580314172673, 0.11539048914786702, 0.8654286686090027, 0.3503611186653505, 0.16533895487578337, 0.12990917883097267, 0.047239701393080966, 0.09054276100340518, 0.1259725370482159, 0.011809925348270241, 0.031493134262053975, 0.011809925348270241, 0.031493134262053975, 0.9523190913516995, 0.015871984855861658, 0.6942477364061245, 0.8851475417707257, 0.7633805665642797, 0.2271498641910236, 0.17667211659301835, 0.012619436899501311, 0.012619436899501311, 0.15143324279401574, 0.32810535938703406, 0.012619436899501311, 0.025238873799002623, 0.037858310698503934, 0.012619436899501311, 0.019516146239862725, 0.19516146239862725, 0.0780645849594509, 0.13661302367903908, 0.5269359484762935, 0.019516146239862725, 0.8598313136342238, 0.06061843474133859, 0.015154608685334647, 0.3485559997626969, 0.5304113039867127, 0.015154608685334647, 0.015154608685334647, 0.015154608685334647, 0.894009944355949, 0.147045278121622, 0.20925674194230823, 0.039589113340436695, 0.1413896905015596, 0.073522639060811, 0.022622350480249537, 0.06221146382068623, 0.039589113340436695, 0.18663439146205868, 0.073522639060811, 0.04578615444256607, 0.8699369344087553, 0.04578615444256607, 0.005628352688866793, 0.00844252903330019, 0.9371207226963211, 0.0028141763444333966, 0.00844252903330019, 0.0028141763444333966, 0.011256705377733586, 0.01688505806660038, 0.0028141763444333966, 0.005628352688866793, 0.04216090993289342, 0.007026818322148903, 0.801057288724975, 0.04216090993289342, 0.03513409161074452, 0.014053636644297806, 0.007026818322148903, 0.04918772825504232, 0.8444700095899841, 0.19238808083084896, 0.06412936027694965, 0.06412936027694965, 0.06412936027694965, 0.5771642424925468, 0.32576521402184777, 0.17374144747831882, 0.09555779611307536, 0.04777889805653768, 0.16505437510440288, 0.060809506617411586, 0.00868707237391594, 0.05646597043045362, 0.026061217121747825, 0.039091825682621734, 0.8668116400281, 0.13893129968742934, 0.1496183227403085, 0.1122137420552314, 0.2244274841104628, 0.13893129968742934, 0.13358778816098976, 0.01603053457931877, 0.04274809221151672, 0.01603053457931877, 0.02671755763219795, 0.28381813138548795, 0.3052383677164682, 0.09906859303078352, 0.07229329761705826, 0.053550590827450555, 0.096391063489411, 0.02409776587235275, 0.029452824955097805, 0.01606517724823517, 0.02142023633098022, 0.3205888299701412, 0.48334931287805905, 0.02959281507416688, 0.0493213584569448, 0.03945708676555584, 0.03945708676555584, 0.00493213584569448, 0.01972854338277792, 0.00493213584569448, 0.00986427169138896, 0.24902002994002964, 0.400210762403619, 0.05336143498714921, 0.026680717493574604, 0.06225500748500741, 0.16008430496144763, 0.008893572497858201, 0.017787144995716403, 0.008893572497858201, 0.026680717493574604, 0.743189728030231, 0.18579743200755774, 0.8939151594678693, 0.03257251263320102, 0.13029005053280407, 0.03257251263320102, 0.7165952779304224, 0.03257251263320102, 0.8606207661945805, 0.5093260493265195, 0.18658479034733882, 0.04538548954394728, 0.04538548954394728, 0.12102797211719274, 0.03529982520084789, 0.005042832171549698, 0.010085664343099396, 0.02521416085774849, 0.015128496514649092, 0.16016775128615207, 0.16016775128615207, 0.11255031171459334, 0.22942948157205564, 0.10822145357172436, 0.012986574428606923, 0.012986574428606923, 0.08224830471451051, 0.05194629771442769, 0.06926173028590359, 0.2088206960158434, 0.0696068986719478, 0.04060402422530288, 0.25522529513047526, 0.3132310440237651, 0.0348034493359739, 0.005800574889328984, 0.0348034493359739, 0.029002874446644917, 0.011601149778657968, 0.3340015017465775, 0.15415453926765116, 0.10562440653524245, 0.15700925295779283, 0.04853013273240869, 0.07707726963382558, 0.008564141070425064, 0.042820705352125316, 0.01427356845070844, 0.05709427380283376, 0.8656173194972362, 0.05410108246857726, 0.28802404195737, 0.07897433408508532, 0.06039213782977113, 0.051101039702114034, 0.2647962966382273, 0.03251884344679984, 0.018582196255314196, 0.08361988314891387, 0.06503768689359968, 0.06503768689359968, 0.8763467045422489, 0.2512870573042645, 0.22990092476773133, 0.11227719581679901, 0.02673266567066643, 0.24059399103599788, 0.016039599402399858, 0.032079198804799716, 0.04277226507306629, 0.04277226507306629, 0.010693066268266573, 0.09289201088257985, 0.06192800725505323, 0.6812080798055855, 0.06192800725505323, 0.030964003627526614, 0.030964003627526614, 0.030964003627526614, 0.5838781704798868, 0.1459695426199717, 0.8984627993895634, 0.8940935691453622, 0.05382595092838711, 0.22163626852865279, 0.12348306389453513, 0.18047524723047442, 0.03166232407552183, 0.028496091667969646, 0.04432725370573056, 0.18680771204557878, 0.08865450741146112, 0.03799478889062619, 0.028161877562198873, 0.9011800819903639, 0.056323755124397745, 0.07543601936888358, 0.8297962130577193, 0.04949185243376437, 0.24745926216882186, 0.136102594192852, 0.012372963108441092, 0.19796740973505747, 0.012372963108441092, 0.012372963108441092, 0.21034037284349857, 0.12372963108441093, 0.012372963108441092, 0.808820929914548, 0.025275654059829625, 0.025275654059829625, 0.025275654059829625, 0.025275654059829625, 0.07582696217948888, 0.11668635016523327, 0.05303925007510603, 0.15911775022531807, 0.06364710009012724, 0.02121570003004241, 0.15911775022531807, 0.04243140006008482, 0.12729420018025447, 0.2439805503454877, 0.010607850015021205, 0.02636888705691038, 0.8701732728780426, 0.05273777411382076, 0.02636888705691038, 0.6028177483122664, 0.20473055603058107, 0.045495679117906904, 0.022747839558953452, 0.034121759338430174, 0.022747839558953452, 0.011373919779476726, 0.022747839558953452, 0.011373919779476726, 0.045495679117906904, 0.16621350694254294, 0.7645821319356975, 0.033242701388508586, 0.033242701388508586, 0.14643546135120233, 0.126910733171042, 0.1561978254412825, 0.029287092270240466, 0.11714836908096186, 0.21477200998176343, 0.08786127681072141, 0.11714836908096186, 0.8939290263314188, 0.5982299748588593, 0.20938049120060076, 0.0897344962288289, 0.05982299748588593, 0.014955749371471483, 0.007477874685735741, 0.007477874685735741, 0.007477874685735741, 0.09165658231608842, 0.15276097052681403, 0.18331316463217684, 0.030552194105362807, 0.09165658231608842, 0.3666263292643537, 0.09165658231608842, 0.16578498983793655, 0.14506186610819446, 0.04144624745948414, 0.10361561864871034, 0.08289249491896827, 0.08289249491896827, 0.02072312372974207, 0.02072312372974207, 0.3315699796758731, 0.02072312372974207, 0.8714355335965034, 0.12408124325878524, 0.7444874595527115, 0.03004625441004729, 0.015023127205023645, 0.22534690807535468, 0.5258094521758276, 0.015023127205023645, 0.03004625441004729, 0.13520814484521282, 0.015023127205023645, 0.2023746566555639, 0.6071239699666917, 0.08094986266222556, 0.04047493133111278, 0.04047493133111278, 0.0820107671990842, 0.7654338271914526, 0.027336922399694735, 0.027336922399694735, 0.05467384479938947, 0.011057427862339396, 0.12531751577317982, 0.022114855724678792, 0.007371618574892931, 0.05160133002425052, 0.0036858092874464655, 0.03317228358701819, 0.022114855724678792, 0.7187328110520608, 0.007371618574892931, 0.052270871455148075, 0.15681261436544422, 0.052270871455148075, 0.052270871455148075, 0.679521328916925, 0.17605346917034462, 0.15404678552405154, 0.08069117336974128, 0.28119651325818934, 0.08558154751336197, 0.06112967679525855, 0.014671122430862053, 0.04890374143620684, 0.05379411557982752, 0.04156818022077581, 0.1685695955012288, 0.07224411235766948, 0.0963254831435593, 0.0963254831435593, 0.14448822471533895, 0.04816274157177965, 0.024081370785889827, 0.3612205617883474, 0.8669548162324058, 0.8331582350682256, 0.8211574236798178, 0.07465067487998343, 0.7954627943913405, 0.13379927750999837, 0.8027956650599901, 0.1697554151020036, 0.6790216604080144, 0.8002263356954578, 0.895237884808658, 0.1410428744431303, 0.12619625608069554, 0.08165640099339123, 0.007423309181217384, 0.37116545906086923, 0.007423309181217384, 0.007423309181217384, 0.1484661836243477, 0.08907971017460861, 0.007423309181217384, 0.15121452303394975, 0.21531633171138495, 0.027941814038882018, 0.2317526929107273, 0.22846542067085884, 0.027941814038882018, 0.004930908359802709, 0.06410180867743522, 0.027941814038882018, 0.019723633439210835, 0.07559529366834133, 0.032397983000717716, 0.07559529366834133, 0.6479596600143543, 0.09719394900215315, 0.010799327666905905, 0.04319731066762362, 0.010799327666905905, 0.2739359421988681, 0.30044587208908113, 0.08542088520179758, 0.13844074498222367, 0.09425752849853526, 0.01767328659347536, 0.01767328659347536, 0.03829212095252995, 0.014727738827896134, 0.020618834359054587, 0.1356745706733333, 0.12334051879393935, 0.03700215563818181, 0.191177804130606, 0.43169181577878774, 0.006167025939696967, 0.006167025939696967, 0.03700215563818181, 0.02466810375878787, 0.018501077819090904, 0.09091073978304774, 0.7500136032101439, 0.04545536989152387, 0.04545536989152387, 0.04545536989152387, 0.022727684945761936, 0.06492865114645262, 0.06492865114645262, 0.7791438137574314, 0.06492865114645262, 0.8672012154057215, 0.6392386371218901, 0.5957781167961069, 0.36608052959760784, 0.007178049599953096, 0.007178049599953096, 0.007178049599953096, 0.014356099199906191, 0.9415482483845824, 0.634522566352212, 0.24404714090469695, 0.012202357045234848, 0.06101178522617424, 0.03660707113570454, 0.012202357045234848, 0.012202357045234848, 0.09846436485428071, 0.18708229322313336, 0.0689250553979965, 0.09846436485428071, 0.3347788405045544, 0.07877149188342457, 0.009846436485428071, 0.04923218242714036, 0.05907861891256843, 0.019692872970856142, 0.9175061252177755, 0.7688457513125574, 0.04166396719697185, 0.04166396719697185, 0.04166396719697185, 0.04166396719697185, 0.2499838031818311, 0.20831983598485926, 0.37497570477274667, 0.06174676932069446, 0.1273527117239323, 0.09647932706358509, 0.420649865997231, 0.03473255774289063, 0.011577519247630211, 0.03859173082543403, 0.03859173082543403, 0.13121188480647572, 0.03859173082543403, 0.8946276301568, 0.17173517779958625, 0.22898023706611498, 0.16355731219008213, 0.032711462438016425, 0.2698695651136355, 0.032711462438016425, 0.016355731219008213, 0.057245059266528744, 0.008177865609504106, 0.016355731219008213, 0.8317715917425847, 0.6387615526618428, 0.7525231894469326, 0.8944266952024168, 0.10205233378100176, 0.40820933512400703, 0.0408209335124007, 0.0408209335124007, 0.12246280053720211, 0.02041046675620035, 0.02041046675620035, 0.2653360678306046, 0.896705821770643, 0.31775379823044847, 0.061106499659701635, 0.04888519972776131, 0.20776209884298555, 0.061106499659701635, 0.024442599863880653, 0.07332779959164196, 0.19554079891104523, 0.024442599863880653, 0.06442719044651546, 0.08590292059535394, 0.021475730148838485, 0.3221359522325773, 0.021475730148838485, 0.34361168238141576, 0.12885438089303092, 0.02224187594975003, 0.11862333839866683, 0.08155354514908345, 0.5115631468442506, 0.07413958649916677, 0.037069793249583385, 0.007413958649916677, 0.11862333839866683, 0.014827917299833354, 0.007413958649916677, 0.689718440665249, 0.029991654495659832, 0.029991654495659832, 0.4498748174348975, 0.4798664719305573, 0.07482530668774405, 0.1496506133754881, 0.04081380364786039, 0.5713932510700456, 0.020406901823930196, 0.06802300607976733, 0.006802300607976732, 0.034011503039883664, 0.013604601215953464, 0.013604601215953464, 0.4683047079465951, 0.38653721925750706, 0.014866816125288734, 0.029733632250577468, 0.0446004483758662, 0.01115011209396655, 0.0037167040313221835, 0.007433408062644367, 0.007433408062644367, 0.026016928219255282, 0.9176870550929388, 0.8639038088659554, 0.8954456793680903, 0.8682966699020738, 0.8944852959403903, 0.5635154373434066, 0.3506318276803419, 0.012522565274297924, 0.006261282637148962, 0.025045130548595848, 0.006261282637148962, 0.006261282637148962, 0.006261282637148962, 0.018783847911446886, 0.12788929673584878, 0.06394464836792439, 0.06394464836792439, 0.06394464836792439, 0.06394464836792439, 0.5115571869433951, 0.023743008870371875, 0.8784913282037594, 0.023743008870371875, 0.023743008870371875, 0.023743008870371875, 0.023743008870371875, 0.02688660861119442, 0.887258084169416, 0.05377321722238884, 0.019713262394498072, 0.07885304957799229, 0.45340503507345564, 0.019713262394498072, 0.37455198549546337, 0.019713262394498072, 0.019713262394498072, 0.9014248463490498, 0.06934037279608075, 0.9028632381417838, 0.8947409327623055, 0.6250236251335567, 0.08152482066959435, 0.06340819385412894, 0.027174940223198114, 0.03623325363093082, 0.04529156703866353, 0.01811662681546541, 0.01811662681546541, 0.08152482066959435, 0.11536286333642592, 0.25078883334005636, 0.030094660000806763, 0.4514199000121014, 0.010031553333602254, 0.040126213334409015, 0.005015776666801127, 0.030094660000806763, 0.05015776666801127, 0.010031553333602254, 0.059509016311108616, 0.11901803262221723, 0.6545991794221948, 0.11901803262221723, 0.1636568260239227, 0.12001500575087663, 0.04364182027304605, 0.13638068835326891, 0.33276887958197615, 0.005455227534130756, 0.021820910136523024, 0.09819409561435362, 0.07091795794369983, 0.010910455068261512, 0.885167184323783, 0.8669832430168233, 0.7418687103013417, 0.2023278300821841, 0.022480870009131567, 0.4914468497221757, 0.3652282599028191, 0.01611301146630084, 0.03222602293260168, 0.05908104204310309, 0.005371003822100281, 0.0026855019110501406, 0.0026855019110501406, 0.005371003822100281, 0.018798513377350983, 0.14191921200399088, 0.7095960600199543, 0.19700777042213224, 0.03940155408442644, 0.07880310816885289, 0.2101416217836077, 0.4071493922057399, 0.06566925680737741, 0.013133851361475482, 0.3214746428936436, 0.3406100383039795, 0.04592494898480622, 0.06888742347720934, 0.07271450255927653, 0.0267895535744703, 0.007654158164134371, 0.02296247449240311, 0.038270790820671856, 0.05740618623100778, 0.7678904335783062, 0.24983239495965087, 0.6158659038540231, 0.011620111393472134, 0.0348603341804164, 0.0174301670902082, 0.023240222786944268, 0.005810055696736067, 0.005810055696736067, 0.005810055696736067, 0.029050278483680334, 0.895365526822663, 0.03892893594881144, 0.03892893594881144, 0.03892893594881144, 0.8935107112278095, 0.9172509962486523, 0.63936407572939, 0.8507917218251889, 0.06544551706347607, 0.916534560862959, 0.8451037246090245, 0.09390041384544717, 0.2717645289715219, 0.1327222118233014, 0.13904231714822052, 0.06320105324919115, 0.13904231714822052, 0.06952115857411026, 0.018960315974757346, 0.056880947924272035, 0.02528042129967646, 0.08848147454886761, 0.6981476059448555, 0.05418356722642101, 0.1509399372736014, 0.43346853781136807, 0.04257280282075936, 0.019351274009436075, 0.015481019207548859, 0.019351274009436075, 0.2360855429151201, 0.0038702548018872147, 0.023221528811323288, 0.8376413527255397, 0.14380868601703303, 0.28761737203406607, 0.43142605805109907, 0.833989636119203, 0.04391258573509816, 0.9221643004370613, 0.052023540718292044, 0.6329530787392199, 0.060694130838007385, 0.11271767155629943, 0.060694130838007385, 0.026011770359146022, 0.01734118023943068, 0.01734118023943068, 0.026011770359146022, 0.17841040267434258, 0.08650201341786307, 0.0648765100633973, 0.21084865770604122, 0.3243825503169865, 0.03243825503169865, 0.005406375838616442, 0.021625503354465767, 0.07568926174063018, 0.010812751677232883, 0.14495591346177766, 0.05798236538471106, 0.17394709615413317, 0.02899118269235553, 0.05798236538471106, 0.4638589230776885, 0.02899118269235553, 0.1519972894887304, 0.03039945789774608, 0.24319566318196864, 0.39519295267069904, 0.03039945789774608, 0.03039945789774608, 0.03039945789774608, 0.09119837369323824, 0.024434918902137826, 0.024434918902137826, 0.024434918902137826, 0.855222161574824, 0.024434918902137826, 0.6680305224855075, 0.13664260687203564, 0.02277376781200594, 0.007591255937335313, 0.06832130343601782, 0.007591255937335313, 0.007591255937335313, 0.015182511874670627, 0.04554753562401188, 0.015182511874670627, 0.9317833307891042, 0.8566748049963405, 0.7975294290487338, 0.8850759769930847, 0.06808276746100651, 0.05533082606446211, 0.1045137825662062, 0.08607017387805217, 0.3504285650749267, 0.15369673906795028, 0.0491829565017441, 0.018443608688154034, 0.11066165212892422, 0.02459147825087205, 0.0491829565017441, 0.09633961077342995, 0.7899848083421256, 0.01926792215468599, 0.01926792215468599, 0.01926792215468599, 0.05780376646405797, 0.9229904899108858, 0.08383769641283587, 0.7265933689112442, 0.05589179760855724, 0.02794589880427862, 0.08383769641283587, 0.18088221597468168, 0.7235288638987267, 0.4294304998380741, 0.4771449998200823, 0.04771449998200823, 0.014344708063206913, 0.9108889620136389, 0.03586177015801728, 0.014344708063206913, 0.0071723540316034565, 0.014344708063206913, 0.42525867081842866, 0.5146720323751239, 0.013084882179028576, 0.00872325478601905, 0.019627323268542864, 0.004361627393009525, 0.0021808136965047625, 0.004361627393009525, 0.0021808136965047625, 0.006542441089514288, 0.8437500225274644, 0.07670454750249676, 0.47333271901157176, 0.38149204218843097, 0.01177444574655651, 0.02825866979173563, 0.044742893836914745, 0.007064667447933907, 0.03061355894104693, 0.0047097782986226045, 0.007064667447933907, 0.014129334895867814, 0.09158313450138203, 0.09158313450138203, 0.045791567250691015, 0.022895783625345507, 0.6410819415096742, 0.022895783625345507, 0.06868735087603652, 0.19837720221208535, 0.26037007790336203, 0.037195725414766005, 0.012398575138255334, 0.012398575138255334, 0.037195725414766005, 0.4215515547006814, 0.012398575138255334, 0.012398575138255334, 0.8332095167443688, 0.6969262122612765, 0.19019799467784987, 0.5705939840335496, 0.009109132867244206, 0.36436531468976824, 0.5192205734329197, 0.018218265734488412, 0.009109132867244206, 0.018218265734488412, 0.04554566433622103, 0.009109132867244206, 0.18249394255869947, 0.10196017843360537, 0.15220142577770077, 0.15441795139582262, 0.13077501146918952, 0.07314534539802124, 0.033247884271827836, 0.08127260599780138, 0.0450693542351444, 0.04433051236243712, 0.027526270580469546, 0.853314387994556, 0.027526270580469546, 0.05505254116093909, 0.9215983682810268, 0.7998669186185393, 0.08134239850358027, 0.013557066417263378, 0.06778533208631689, 0.027114132834526756, 0.015945112393365674, 0.015945112393365674, 0.7015849453080898, 0.015945112393365674, 0.015945112393365674, 0.03189022478673135, 0.1913413487203881, 0.8104236300774931, 0.08530775053447295, 0.10682978664051374, 0.6409787198430824, 0.05341489332025687, 0.013353723330064217, 0.013353723330064217, 0.013353723330064217, 0.04006116999019265, 0.013353723330064217, 0.10682978664051374, 0.028072521503875382, 0.8983206881240122, 0.028072521503875382, 0.7834044765504694, 0.09792555956880868, 0.02448138989220217, 0.02448138989220217, 0.04896277978440434, 0.0023499586545583256, 0.049349131745724834, 0.8201355704408556, 0.03759933847293321, 0.011749793272791628, 0.007049875963674976, 0.0023499586545583256, 0.06344888367307479, 0.0023499586545583256, 0.004699917309116651, 0.9111080227975672, 0.041414001036253055, 0.8675659137838635, 0.03772025712103754, 0.36614607492554463, 0.3478387711792674, 0.02440973832836964, 0.08543408414929375, 0.06102434582092411, 0.00610243458209241, 0.01220486916418482, 0.01220486916418482, 0.00610243458209241, 0.07933164956720133, 0.07260605777584023, 0.07260605777584023, 0.07260605777584023, 0.07260605777584023, 0.6534545199825621, 0.07260605777584023, 0.8376443300486269, 0.6935248575024608, 0.013369724032408978, 0.026739448064817956, 0.21391558451854364, 0.6417467535556309, 0.013369724032408978, 0.026739448064817956, 0.04010917209722693, 0.013369724032408978, 0.11093776080335367, 0.0642271246756258, 0.2510696691865372, 0.33865211192602696, 0.1284542493512516, 0.03503297709579589, 0.005838829515965983, 0.040871806611761874, 0.005838829515965983, 0.017516488547897946, 0.05496275919990469, 0.17862896739969025, 0.2473324163995711, 0.027481379599952345, 0.08244413879985704, 0.2473324163995711, 0.013740689799976172, 0.04122206939992852, 0.05496275919990469, 0.06870344899988086, 0.9229854611973799, 0.8968800406385125, 0.20240213725214629, 0.2708197611120267, 0.1738947939771961, 0.06271615520489039, 0.10262643578982066, 0.04561174923992029, 0.008552202982485053, 0.042761014912425274, 0.022805874619960146, 0.06556688953238542, 0.921728313407914, 0.038405346391996414, 0.07637976472233475, 0.10911394960333537, 0.07637976472233475, 0.6219495127390116, 0.054556974801667685, 0.010911394960333536, 0.021822789920667073, 0.010911394960333536, 0.8665634733428245, 0.7980919788645223, 0.025049366104630492, 0.025049366104630492, 0.9017771797666977, 0.025049366104630492, 0.050098732209260984, 0.8647841893807587, 0.043239209469037934, 0.005251560549952547, 0.03676092384966782, 0.7929856430428345, 0.010503121099905094, 0.01575468164985764, 0.005251560549952547, 0.08927652934919329, 0.03150936329971528, 0.010503121099905094, 0.8268986942856762, 0.8885247443555921, 0.06346605316825658, 0.07419585835894332, 0.07419585835894332, 0.8161544419483765, 0.9151713557752365, 0.8948530226597979, 0.7553254727476857, 0.09441568409346071, 0.09441568409346071, 0.8436992860757366, 0.1612114868378894, 0.13750391524408215, 0.07428372432726277, 0.29713489730905107, 0.10905482933151342, 0.06163968614389889, 0.023707571593807267, 0.06638120046266034, 0.03793211455009163, 0.030029590685489202, 0.028913430163549303, 0.8674029049064791, 0.028913430163549303, 0.028913430163549303, 0.9014539462551546, 0.120667831492719, 0.724006988956314, 0.767779591759201, 0.8937021958277166, 0.800443286174316, 0.04703378120331987, 0.09406756240663974, 0.1881351248132795, 0.04703378120331987, 0.5644053744398384, 0.04703378120331987, 0.9009585192272819, 0.10438867882138951, 0.14284766575558563, 0.07142383287779282, 0.29668361349237016, 0.14834180674618508, 0.02197656396239779, 0.06043555089659392, 0.02747070495299724, 0.1153769608025884, 0.016482422971798343, 0.6418979603748569, 0.8057139387071531, 0.23460321635224515, 0.6598215459906894, 0.014662701022015322, 0.0733135051100766, 0.8378774787934644, 0.8938509772870462, 0.8975410528160653, 0.06904161944738964, 0.8798121400880664, 0.03958405010618157, 0.3232697425338162, 0.09896012526545393, 0.19132290884654427, 0.006597341684363595, 0.02638936673745438, 0.05277873347490876, 0.23750430063708944, 0.019792025053090787, 0.17155594851414463, 0.02859265808569077, 0.2573339227712169, 0.05718531617138154, 0.02859265808569077, 0.42888987128536155, 0.02625226813950399, 0.8925771167431357, 0.05250453627900798, 0.1063688465107976, 0.0531844232553988, 0.09877107176002634, 0.2431287920246802, 0.18994436876928142, 0.0531844232553988, 0.15955326976619638, 0.03798887375385628, 0.0531844232553988, 0.8657223367509214, 0.661540993329437, 0.2876265188388857, 0.009587550627962856, 0.009587550627962856, 0.009587550627962856, 0.01917510125592571, 0.009587550627962856, 0.009587550627962856, 0.2799579746957245, 0.62990544306538, 0.17685821614263322, 0.08590256212642185, 0.2880262377180027, 0.050530918897895204, 0.07074328645705329, 0.1465396648038961, 0.015159275669368562, 0.06063710267747425, 0.04547782700810568, 0.06063710267747425, 0.06756175328525245, 0.788220454994612, 0.022520584428417485, 0.04504116885683497, 0.04504116885683497, 0.8629899477516328, 0.32740119435630105, 0.2083462145903734, 0.09921248313827304, 0.019842496627654607, 0.009921248313827303, 0.2579524561595099, 0.019842496627654607, 0.019842496627654607, 0.03968499325530921, 0.15686352231725836, 0.15686352231725836, 0.6274540892690335, 0.905219435923182, 0.9031857019791695, 0.9303074903807894, 0.8617520261430899, 0.8377063558220446, 0.09441039926990917, 0.18882079853981834, 0.09441039926990917, 0.47205199634954587, 0.6897484079637954, 0.8574118179769149, 0.0347203716672601, 0.8834405679780626, 0.007715638148280023, 0.007715638148280023, 0.007715638148280023, 0.0038578190741400116, 0.04629382888968014, 0.0038578190741400116, 0.0038578190741400116, 0.07598066650779534, 0.1266344441796589, 0.05065377767186356, 0.3545764437030449, 0.15196133301559067, 0.1266344441796589, 0.10130755534372712, 0.06296549314627438, 0.18889647943882312, 0.06296549314627438, 0.06296549314627438, 0.06296549314627438, 0.503723945170195, 0.10632888315561008, 0.010632888315561008, 0.09037955068226856, 0.2711386520468057, 0.4731635300424648, 0.005316444157780504, 0.005316444157780504, 0.015949332473341512, 0.015949332473341512, 0.010632888315561008, 0.8670192258124821, 0.4219220256367409, 0.41840600875643474, 0.052740253204592615, 0.010548050640918523, 0.03516016880306174, 0.01758008440153087, 0.003516016880306174, 0.003516016880306174, 0.010548050640918523, 0.02461211816214322, 0.8611562330841941, 0.6894209603345389, 0.2799827315137469, 0.2545297559215881, 0.06363243898039703, 0.012726487796079405, 0.10181190236863524, 0.038179463388238216, 0.24180326812550873, 0.012726487796079405, 0.15303776099666855, 0.14210649235404937, 0.1257095893901206, 0.22955664149500282, 0.12024395506881101, 0.049190708891786325, 0.049190708891786325, 0.04372507457047673, 0.03279380592785755, 0.0655876118557151, 0.8302891138691001, 0.8685045776530766, 0.8725803659647492, 0.11016058398755613, 0.052075912430481076, 0.3264759125449391, 0.2884204380765106, 0.08412262777231559, 0.04406423359502245, 0.016023357670917254, 0.05007299272161642, 0.016023357670917254, 0.016023357670917254, 0.08315902271076919, 0.8315902271076918, 0.9079419633876683, 0.8250105828391053, 0.042668952315008994, 0.05866980943313737, 0.08533790463001799, 0.44802399930759446, 0.08000428559064186, 0.010667238078752249, 0.04800257135438512, 0.021334476157504497, 0.19201028541754048, 0.010667238078752249, 0.10827744056097308, 0.05413872028048654, 0.018046240093495515, 0.4331097622438923, 0.018046240093495515, 0.03609248018699103, 0.03609248018699103, 0.25264736130893717, 0.03609248018699103, 0.054952861979924446, 0.8792457916787911, 0.054952861979924446, 0.6898153505804058, 0.12137530468063262, 0.007139723804743096, 0.057117790437944765, 0.3427067426276686, 0.41410398067509957, 0.007139723804743096, 0.028558895218972383, 0.021419171414229287, 0.9443777213692229, 0.021463130031118705, 0.35989699342061104, 0.2214750728742222, 0.033221260931133326, 0.06644252186226665, 0.11627441325896665, 0.07751627550597777, 0.005536876821855555, 0.038758137752988885, 0.01107375364371111, 0.07197939868412222, 0.11949484522226378, 0.17924226783339567, 0.05974742261113189, 0.029873711305565945, 0.11949484522226378, 0.05974742261113189, 0.38835824697235727, 0.029873711305565945, 0.899383186839234, 0.030301842723699554, 0.9090552817109866, 0.030301842723699554, 0.8049603656414424], \"Term\": [\"_\", \"_\", \"_\", \"_\", \"_\", \"_\", \"_\", \"_\", \"_\", \"_\", \"abdv\", \"account\", \"account\", \"account\", \"account\", \"account\", \"account\", \"account\", \"account\", \"account\", \"account\", \"act\", \"act\", \"act\", \"act\", \"act\", \"act\", \"act\", \"act\", \"act\", \"act\", \"acy\", \"acyclovir\", \"adbfaksaqw\", \"adipex\", \"adipex\", \"adipex\", \"adipren\", \"adobbe\", \"adobe\", \"adobe\", \"adobe\", \"adobe\", \"adobe\", \"adobe\", \"adobe\", \"advice\", \"advice\", \"advice\", \"advice\", \"advice\", \"advice\", \"advice\", \"aeor\", \"aeor\", \"aeor\", \"aerofoam\", \"aerofoam\", \"aerofoam\", \"afloat\", \"afloat\", \"aged\", \"air\", \"air\", \"air\", \"air\", \"air\", \"air\", \"air\", \"air\", \"ali\", \"ali\", \"ali\", \"ali\", \"ali\", \"ali\", \"ali\", \"ali\", \"align\", \"align\", \"align\", \"align\", \"align\", \"align\", \"align\", \"align\", \"align\", \"alisave\", \"alisave\", \"allixon\", \"alpha\", \"alt\", \"alt\", \"alt\", \"americ\", \"anbsp\", \"anbsp\", \"anglo\", \"anglo\", \"aoffa\", \"aopen\", \"aopen\", \"aopen\", \"apapl\", \"apc\", \"apc\", \"apc\", \"appall\", \"appall\", \"argpc\", \"artprice\", \"artprice\", \"aspermont\", \"assurance\", \"assurance\", \"ativan\", \"atlantis\", \"attorney\", \"attorney\", \"availability\", \"availability\", \"availability\", \"availability\", \"availability\", \"availability\", \"available\", \"available\", \"available\", \"available\", \"available\", \"available\", \"available\", \"available\", \"available\", \"available\", \"b\", \"b\", \"b\", \"b\", \"b\", \"b\", \"b\", \"b\", \"b\", \"b\", \"backscatter\", \"banking\", \"banking\", \"banking\", \"banking\", \"banking\", \"banking\", \"bankruptcy\", \"bankruptcy\", \"bannedcd\", \"barclays\", \"basetxt\", \"basheer\", \"basin\", \"basin\", \"basin\", \"bender\", \"benin\", \"best\", \"best\", \"best\", \"best\", \"best\", \"best\", \"best\", \"best\", \"best\", \"best\", \"bgcolor\", \"bgcolor\", \"bgcolor\", \"bgcolor\", \"bgcolor\", \"bgcolor\", \"biel\", \"bighorn\", \"binding\", \"binding\", \"binding\", \"bingo\", \"bingo\", \"bingoline\", \"biosphere\", \"bleed\", \"boatload\", \"boatload\", \"border\", \"border\", \"border\", \"border\", \"border\", \"border\", \"border\", \"border\", \"border\", \"br\", \"br\", \"br\", \"br\", \"br\", \"br\", \"br\", \"br\", \"br\", \"bractive\", \"bramble\", \"bramble\", \"bramble\", \"brec\", \"brian\", \"brrating\", \"business\", \"business\", \"business\", \"business\", \"business\", \"business\", \"business\", \"business\", \"business\", \"business\", \"buspar\", \"bvjkiu\", \"c\", \"c\", \"c\", \"c\", \"c\", \"c\", \"c\", \"c\", \"c\", \"c\", \"caffeine\", \"calorized\", \"canaan\", \"canon\", \"canon\", \"canon\", \"canon\", \"case\", \"case\", \"case\", \"case\", \"case\", \"case\", \"case\", \"case\", \"case\", \"case\", \"casing\", \"cat\", \"cat\", \"cat\", \"cat\", \"cat\", \"cat\", \"cat\", \"cavern\", \"cavern\", \"ccffo\", \"cco\", \"cd\", \"cd\", \"cd\", \"cd\", \"cd\", \"cd\", \"cd\", \"cd\", \"cdyv\", \"ce\", \"ce\", \"ce\", \"ce\", \"ce\", \"ce\", \"ce\", \"ce\", \"ce\", \"cellspacing\", \"cellspacing\", \"center\", \"center\", \"center\", \"center\", \"center\", \"center\", \"center\", \"center\", \"center\", \"cf\", \"cf\", \"cf\", \"cf\", \"chalcocite\", \"charybdis\", \"china\", \"china\", \"china\", \"china\", \"china\", \"china\", \"china\", \"china\", \"china\", \"chummy\", \"cialdis\", \"cialis\", \"cialis\", \"cialis\", \"cialis\", \"cialis\", \"cialis\", \"cialis\", \"cialis\", \"cialis\", \"cialis\", \"cigarette\", \"cigarette\", \"cinm\", \"cisco\", \"cisco\", \"citibank\", \"citizensr\", \"claim\", \"claim\", \"claim\", \"claim\", \"claim\", \"claim\", \"claim\", \"claim\", \"click\", \"click\", \"click\", \"click\", \"click\", \"click\", \"click\", \"click\", \"click\", \"click\", \"clog\", \"cloudburst\", \"cloudburst\", \"coaibed\", \"cognitive\", \"cognitive\", \"color\", \"color\", \"color\", \"color\", \"color\", \"color\", \"color\", \"color\", \"color\", \"color\", \"colspan\", \"colspan\", \"colspan\", \"colspan\", \"colspan\", \"com\", \"com\", \"com\", \"com\", \"com\", \"com\", \"com\", \"com\", \"com\", \"com\", \"comic\", \"comic\", \"comic\", \"company\", \"company\", \"company\", \"company\", \"company\", \"company\", \"company\", \"company\", \"company\", \"company\", \"compaq\", \"compaq\", \"compaq\", \"compartment\", \"compartment\", \"compartment\", \"compendia\", \"compendia\", \"compendia\", \"compendia\", \"compendia\", \"computron\", \"computron\", \"computron\", \"computron\", \"computron\", \"computron\", \"computron\", \"computron\", \"computron\", \"connecticut\", \"constantin\", \"constitutes\", \"constitutes\", \"contact\", \"contact\", \"contact\", \"contact\", \"contact\", \"contact\", \"contact\", \"contact\", \"contact\", \"contact\", \"copper\", \"corel\", \"corel\", \"corel\", \"corel\", \"corel\", \"cottonwood\", \"couid\", \"couid\", \"creative\", \"creative\", \"creative\", \"creative\", \"creative\", \"creative\", \"creative\", \"csgu\", \"curve\", \"customerservice\", \"customerservice\", \"customerservice\", \"cyclist\", \"cyclist\", \"cyclobenzaprine\", \"darial\", \"darialbr\", \"darialfont\", \"day\", \"day\", \"day\", \"day\", \"day\", \"day\", \"day\", \"day\", \"day\", \"day\", \"dcenter\", \"dcenterfont\", \"dcenterstrongfont\", \"ddsr\", \"de\", \"de\", \"de\", \"de\", \"de\", \"de\", \"de\", \"de\", \"de\", \"de\", \"dealer\", \"dealer\", \"dealer\", \"dealer\", \"dealer\", \"dealer\", \"defensive\", \"dell\", \"dell\", \"dell\", \"dell\", \"dell\", \"delphi\", \"delphi\", \"delta\", \"delta\", \"delta\", \"demagnify\", \"demagnify\", \"deposit\", \"deposit\", \"deposit\", \"deposit\", \"deposit\", \"deposit\", \"died\", \"died\", \"died\", \"died\", \"died\", \"died\", \"diflucan\", \"direct\", \"direct\", \"direct\", \"direct\", \"direct\", \"direct\", \"direct\", \"direct\", \"direct\", \"disappear\", \"discount\", \"discount\", \"discount\", \"discount\", \"discount\", \"discount\", \"discount\", \"discount\", \"discount\", \"dispatch\", \"dissolve\", \"distributorjebel\", \"distributorjebel\", \"div\", \"div\", \"div\", \"div\", \"div\", \"div\", \"dl\", \"dl\", \"dl\", \"dl\", \"dleftfont\", \"dleftstrongemfont\", \"dolars\", \"dosage\", \"dosage\", \"dosage\", \"dovekie\", \"download\", \"download\", \"download\", \"download\", \"download\", \"download\", \"download\", \"dreamwaver\", \"dreamwaver\", \"dreamwaver\", \"dreyfus\", \"dreyfus\", \"dreyfus\", \"drug\", \"drug\", \"drug\", \"drug\", \"drug\", \"drug\", \"drug\", \"drug\", \"drug\", \"dupe\", \"durrell\", \"duty\", \"duty\", \"duty\", \"duty\", \"duty\", \"duty\", \"duty\", \"e\", \"e\", \"e\", \"e\", \"e\", \"e\", \"e\", \"e\", \"e\", \"e\", \"eas\", \"eas\", \"ec\", \"ec\", \"ec\", \"ecobank\", \"ecourse\", \"edition\", \"edition\", \"edition\", \"edition\", \"edition\", \"ejrhxw\", \"email\", \"email\", \"email\", \"email\", \"email\", \"email\", \"email\", \"email\", \"email\", \"email\", \"emerging\", \"emerging\", \"emerging\", \"emerging\", \"energy\", \"energy\", \"energy\", \"energy\", \"energy\", \"energy\", \"energy\", \"energy\", \"energy\", \"enlarge\", \"enquiry\", \"enquiry\", \"enquiry\", \"epson\", \"epson\", \"epson\", \"epson\", \"epson\", \"erp\", \"esgic\", \"eshopkey\", \"etter\", \"event\", \"event\", \"event\", \"event\", \"event\", \"event\", \"event\", \"event\", \"event\", \"evra\", \"executing\", \"expe\", \"exploration\", \"exploration\", \"exploration\", \"exploration\", \"extender\", \"extender\", \"face\", \"face\", \"face\", \"face\", \"face\", \"face\", \"face\", \"face\", \"face\", \"face\", \"fact\", \"fact\", \"fact\", \"fact\", \"fact\", \"fact\", \"fact\", \"fact\", \"fact\", \"factor\", \"factor\", \"factor\", \"factor\", \"factor\", \"family\", \"family\", \"family\", \"family\", \"family\", \"family\", \"family\", \"family\", \"famvir\", \"fatah\", \"fbgo\", \"female\", \"female\", \"female\", \"female\", \"female\", \"ffa\", \"fffbf\", \"ffffffnbsp\", \"ffffffstrongfont\", \"ffo\", \"ffo\", \"fftable\", \"financial\", \"financial\", \"financial\", \"financial\", \"financial\", \"financial\", \"financial\", \"financial\", \"find\", \"find\", \"find\", \"find\", \"find\", \"find\", \"find\", \"find\", \"find\", \"fioricet\", \"fired\", \"fletcher\", \"flexeril\", \"flextra\", \"font\", \"font\", \"font\", \"font\", \"font\", \"font\", \"font\", \"font\", \"font\", \"font\", \"fontfont\", \"fontfont\", \"forward\", \"forward\", \"forward\", \"forward\", \"forward\", \"forward\", \"forward\", \"forward\", \"forward\", \"free\", \"free\", \"free\", \"free\", \"free\", \"free\", \"free\", \"free\", \"free\", \"free\", \"ftar\", \"ftar\", \"ftar\", \"fuck\", \"fuck\", \"fucked\", \"fucked\", \"fucked\", \"full\", \"full\", \"full\", \"full\", \"full\", \"full\", \"full\", \"full\", \"full\", \"full\", \"funky\", \"future\", \"future\", \"future\", \"future\", \"future\", \"future\", \"future\", \"future\", \"future\", \"future\", \"g\", \"g\", \"g\", \"g\", \"g\", \"g\", \"g\", \"g\", \"g\", \"g\", \"gallantry\", \"gallantry\", \"gas\", \"gas\", \"gas\", \"gas\", \"gas\", \"gas\", \"gas\", \"gas\", \"gas\", \"gbic\", \"geec\", \"generlc\", \"get\", \"get\", \"get\", \"get\", \"get\", \"get\", \"get\", \"get\", \"get\", \"get\", \"gif\", \"gif\", \"gif\", \"gif\", \"gif\", \"gissin\", \"go\", \"go\", \"go\", \"go\", \"go\", \"go\", \"go\", \"go\", \"go\", \"go\", \"gold\", \"gold\", \"gold\", \"gold\", \"good\", \"good\", \"good\", \"good\", \"good\", \"good\", \"good\", \"good\", \"good\", \"good\", \"gotten\", \"gotten\", \"gotten\", \"gotten\", \"govenment\", \"group\", \"group\", \"group\", \"group\", \"group\", \"group\", \"group\", \"group\", \"group\", \"group\", \"gt\", \"gt\", \"gt\", \"guyana\", \"h\", \"h\", \"h\", \"h\", \"h\", \"h\", \"h\", \"h\", \"h\", \"h\", \"habe\", \"hacking\", \"hacking\", \"hamas\", \"handheldmed\", \"happenstance\", \"hcl\", \"hdtv\", \"hdtv\", \"health\", \"health\", \"health\", \"health\", \"health\", \"health\", \"health\", \"health\", \"health\", \"health\", \"height\", \"height\", \"height\", \"height\", \"height\", \"height\", \"height\", \"height\", \"height\", \"hellosoft\", \"hewlett\", \"hewlett\", \"hewlett\", \"hewlett\", \"hewlett\", \"hi\", \"hi\", \"hi\", \"hi\", \"hi\", \"hi\", \"hi\", \"hi\", \"hi\", \"hi\", \"hin\", \"holding\", \"holding\", \"holding\", \"holding\", \"holding\", \"holding\", \"holding\", \"holding\", \"hospital\", \"hospital\", \"hospital\", \"hospital\", \"hospital\", \"hotlist\", \"hotlist\", \"hottlist\", \"hou\", \"href\", \"href\", \"href\", \"href\", \"href\", \"href\", \"href\", \"href\", \"href\", \"href\", \"hstj\", \"htmlimg\", \"htmlimg\", \"htmlimg\", \"htmlview\", \"http\", \"http\", \"http\", \"http\", \"http\", \"http\", \"http\", \"http\", \"http\", \"http\", \"ich\", \"ich\", \"illustrator\", \"illustrator\", \"illustrator\", \"illustrator\", \"img\", \"img\", \"img\", \"img\", \"img\", \"img\", \"imited\", \"imited\", \"impotent\", \"imts\", \"inc\", \"inc\", \"inc\", \"inc\", \"inc\", \"inc\", \"inc\", \"inc\", \"inc\", \"inciuding\", \"index\", \"index\", \"index\", \"index\", \"index\", \"index\", \"index\", \"index\", \"index\", \"index\", \"indianapolis\", \"indianapolis\", \"indianapolis\", \"indicative\", \"indicative\", \"inflatables\", \"influential\", \"info\", \"info\", \"info\", \"info\", \"info\", \"info\", \"info\", \"info\", \"info\", \"info\", \"information\", \"information\", \"information\", \"information\", \"information\", \"information\", \"information\", \"information\", \"information\", \"information\", \"inside\", \"inside\", \"inside\", \"inside\", \"inside\", \"inside\", \"inside\", \"inside\", \"inside\", \"intel\", \"intel\", \"intel\", \"intel\", \"intel\", \"intellinet\", \"intellinet\", \"intellinet\", \"internationa\", \"internationa\", \"internationa\", \"interrupted\", \"investing\", \"investing\", \"investing\", \"investing\", \"investing\", \"investing\", \"investing\", \"investment\", \"investment\", \"investment\", \"investment\", \"investment\", \"investment\", \"investment\", \"investment\", \"investment\", \"investment\", \"iogn\", \"iomega\", \"iomega\", \"iomega\", \"israeli\", \"israeli\", \"israeli\", \"issued\", \"issued\", \"issued\", \"issued\", \"issued\", \"istorage\", \"itec\", \"itec\", \"itecs\", \"itoy\", \"january\", \"january\", \"january\", \"january\", \"january\", \"january\", \"january\", \"january\", \"january\", \"jebel\", \"jebel\", \"jebel\", \"jebel\", \"jpg\", \"jpg\", \"jpg\", \"jpg\", \"karpenkov\", \"kenob\", \"kenton\", \"kenton\", \"kenton\", \"kenton\", \"kin\", \"kin\", \"kin\", \"kin\", \"kinesic\", \"klick\", \"knle\", \"knle\", \"knle\", \"kno\", \"know\", \"know\", \"know\", \"know\", \"know\", \"know\", \"know\", \"know\", \"know\", \"know\", \"kwbt\", \"l\", \"l\", \"l\", \"l\", \"l\", \"l\", \"l\", \"l\", \"l\", \"l\", \"la\", \"la\", \"la\", \"la\", \"la\", \"la\", \"la\", \"la\", \"la\", \"la\", \"lasting\", \"lasting\", \"lauraan\", \"le\", \"le\", \"le\", \"le\", \"le\", \"le\", \"le\", \"le\", \"lefta\", \"legislation\", \"legislation\", \"legislation\", \"legislation\", \"leth\", \"levitra\", \"levitra\", \"levitra\", \"levitra\", \"levitra\", \"levitra\", \"lighting\", \"like\", \"like\", \"like\", \"like\", \"like\", \"like\", \"like\", \"like\", \"like\", \"like\", \"line\", \"line\", \"line\", \"line\", \"line\", \"line\", \"line\", \"line\", \"line\", \"line\", \"link\", \"link\", \"link\", \"link\", \"link\", \"link\", \"link\", \"link\", \"link\", \"link\", \"listing\", \"listing\", \"listing\", \"listing\", \"lls\", \"lls\", \"lls\", \"looking\", \"looking\", \"looking\", \"looking\", \"looking\", \"looking\", \"looking\", \"looking\", \"looking\", \"looking\", \"lotteria\", \"love\", \"love\", \"love\", \"love\", \"love\", \"love\", \"love\", \"love\", \"love\", \"love\", \"low\", \"low\", \"low\", \"low\", \"low\", \"low\", \"low\", \"low\", \"low\", \"low\", \"lqgcibz\", \"m\", \"m\", \"m\", \"m\", \"m\", \"m\", \"m\", \"macromedia\", \"macromedia\", \"macromedia\", \"macromedia\", \"macromedia\", \"macromedia\", \"made\", \"made\", \"made\", \"made\", \"made\", \"made\", \"made\", \"made\", \"made\", \"made\", \"mail\", \"mail\", \"mail\", \"mail\", \"mail\", \"mail\", \"mail\", \"mail\", \"mail\", \"mail\", \"make\", \"make\", \"make\", \"make\", \"make\", \"make\", \"make\", \"make\", \"make\", \"make\", \"many\", \"many\", \"many\", \"many\", \"many\", \"many\", \"many\", \"many\", \"many\", \"many\", \"market\", \"market\", \"market\", \"market\", \"market\", \"market\", \"market\", \"market\", \"market\", \"market\", \"marking\", \"materia\", \"materia\", \"material\", \"material\", \"material\", \"material\", \"material\", \"material\", \"material\", \"may\", \"may\", \"may\", \"may\", \"may\", \"may\", \"may\", \"may\", \"may\", \"may\", \"med\", \"med\", \"med\", \"med\", \"med\", \"med\", \"med\", \"med\", \"med\", \"med\", \"medica\", \"medication\", \"medication\", \"medication\", \"medication\", \"medication\", \"medication\", \"medication\", \"medication\", \"medication\", \"medication\", \"message\", \"message\", \"message\", \"message\", \"message\", \"message\", \"message\", \"message\", \"message\", \"message\", \"metabole\", \"metabole\", \"metabole\", \"metal\", \"metal\", \"metal\", \"metal\", \"metal\", \"metal\", \"methane\", \"mg\", \"mg\", \"mg\", \"mg\", \"mg\", \"mg\", \"mg\", \"mg\", \"microsoft\", \"microsoft\", \"microsoft\", \"microsoft\", \"microsoft\", \"microsoft\", \"microsoft\", \"microsoft\", \"microsoft\", \"million\", \"million\", \"million\", \"million\", \"million\", \"million\", \"million\", \"million\", \"million\", \"million\", \"mine\", \"mine\", \"mine\", \"mine\", \"mine\", \"mine\", \"miningnews\", \"miningnews\", \"mmsr\", \"mnei\", \"mnei\", \"money\", \"money\", \"money\", \"money\", \"money\", \"money\", \"money\", \"money\", \"money\", \"money\", \"moopid\", \"moopid\", \"moosq\", \"mortar\", \"moval\", \"mr\", \"mr\", \"mr\", \"mr\", \"mr\", \"mr\", \"mr\", \"mr\", \"mr\", \"mr\", \"music\", \"music\", \"music\", \"music\", \"music\", \"music\", \"musicnetwork\", \"mx\", \"mx\", \"mx\", \"mx\", \"mx\", \"mx\", \"mx\", \"myrrh\", \"n\", \"n\", \"n\", \"n\", \"n\", \"n\", \"n\", \"n\", \"n\", \"n\", \"nascar\", \"nascar\", \"nascar\", \"nbsp\", \"nbsp\", \"nbsp\", \"nbsp\", \"nbsp\", \"nbsp\", \"nbsp\", \"nbsp\", \"nbsp\", \"nbsp\", \"nd\", \"nd\", \"nd\", \"nd\", \"nd\", \"nd\", \"nd\", \"nd\", \"ndin\", \"ne\", \"ne\", \"ne\", \"ne\", \"ne\", \"need\", \"need\", \"need\", \"need\", \"need\", \"need\", \"need\", \"need\", \"need\", \"need\", \"needham\", \"net\", \"net\", \"net\", \"net\", \"net\", \"net\", \"net\", \"net\", \"net\", \"net\", \"new\", \"new\", \"new\", \"new\", \"new\", \"new\", \"new\", \"new\", \"new\", \"new\", \"news\", \"news\", \"news\", \"news\", \"news\", \"news\", \"news\", \"news\", \"news\", \"news\", \"next\", \"next\", \"next\", \"next\", \"next\", \"next\", \"next\", \"next\", \"next\", \"next\", \"nickel\", \"nickel\", \"nitrate\", \"normally\", \"normally\", \"normally\", \"normally\", \"normally\", \"notation\", \"number\", \"number\", \"number\", \"number\", \"number\", \"number\", \"number\", \"number\", \"number\", \"number\", \"offer\", \"offer\", \"offer\", \"offer\", \"offer\", \"offer\", \"offer\", \"offer\", \"offer\", \"offer\", \"office\", \"office\", \"office\", \"office\", \"office\", \"office\", \"office\", \"office\", \"office\", \"office\", \"one\", \"one\", \"one\", \"one\", \"one\", \"one\", \"one\", \"one\", \"one\", \"one\", \"oniine\", \"oniine\", \"online\", \"online\", \"online\", \"online\", \"online\", \"online\", \"online\", \"online\", \"online\", \"online\", \"optinrealbig\", \"order\", \"order\", \"order\", \"order\", \"order\", \"order\", \"order\", \"order\", \"order\", \"order\", \"ordering\", \"ordering\", \"ordering\", \"ordering\", \"ordering\", \"ordering\", \"ordering\", \"ore\", \"ore\", \"ortho\", \"osborn\", \"p\", \"p\", \"p\", \"p\", \"p\", \"p\", \"p\", \"p\", \"p\", \"p\", \"packard\", \"packard\", \"packard\", \"pagemaker\", \"pagemaker\", \"pain\", \"pain\", \"pain\", \"pain\", \"pain\", \"pain\", \"pain\", \"pain\", \"pain\", \"pain\", \"palestinian\", \"palestinian\", \"palestinian\", \"palestinian\", \"palestinian\", \"palestinian\", \"paliourg\", \"paliourg\", \"paliourg\", \"paliourg\", \"paliourg\", \"paliourg\", \"paliourg\", \"paliourg\", \"paliourg\", \"paliourg\", \"paragraph\", \"paragraph\", \"paragraph\", \"paragraph\", \"past\", \"past\", \"past\", \"past\", \"past\", \"past\", \"past\", \"past\", \"past\", \"past\", \"patient\", \"patient\", \"patient\", \"patient\", \"people\", \"people\", \"people\", \"people\", \"people\", \"people\", \"people\", \"people\", \"perforate\", \"performance\", \"performance\", \"performance\", \"performance\", \"performance\", \"performance\", \"performance\", \"performance\", \"person\", \"person\", \"person\", \"person\", \"person\", \"person\", \"person\", \"personal\", \"personal\", \"personal\", \"personal\", \"personal\", \"personal\", \"personal\", \"personal\", \"personal\", \"personal\", \"petroieum\", \"pgpu\", \"pgpu\", \"photoshop\", \"photoshop\", \"photoshop\", \"photoshop\", \"photoshop\", \"photoshop\", \"photoshop\", \"photoshop\", \"pi\", \"pi\", \"pi\", \"pi\", \"pi\", \"pick\", \"pick\", \"pick\", \"pick\", \"pick\", \"pill\", \"pill\", \"pill\", \"pill\", \"pill\", \"pill\", \"pill\", \"pill\", \"pill\", \"pill\", \"pinnacle\", \"pinnacle\", \"pinnacle\", \"pinnacle\", \"pinnacle\", \"please\", \"please\", \"please\", \"please\", \"please\", \"please\", \"please\", \"please\", \"please\", \"please\", \"plus\", \"plus\", \"plus\", \"plus\", \"plus\", \"plus\", \"plus\", \"plus\", \"poem\", \"poiand\", \"portugal\", \"portugal\", \"pose\", \"pour\", \"pour\", \"powder\", \"powder\", \"powerline\", \"ppin\", \"prescription\", \"prescription\", \"prescription\", \"prescription\", \"prescription\", \"prescription\", \"prescription\", \"prescription\", \"prescription\", \"prescription\", \"price\", \"price\", \"price\", \"price\", \"price\", \"price\", \"price\", \"price\", \"price\", \"price\", \"pro\", \"pro\", \"pro\", \"pro\", \"pro\", \"pro\", \"pro\", \"pro\", \"product\", \"product\", \"product\", \"product\", \"product\", \"product\", \"product\", \"product\", \"product\", \"product\", \"professional\", \"professional\", \"professional\", \"professional\", \"professional\", \"professional\", \"professional\", \"professional\", \"professional\", \"professional\", \"profit\", \"profit\", \"profit\", \"profit\", \"profit\", \"profit\", \"proletariat\", \"proletariat\", \"proletariat\", \"proletariat\", \"prosaic\", \"proust\", \"pt\", \"pt\", \"pt\", \"pt\", \"pt\", \"pt\", \"pubiisher\", \"publisher\", \"publisher\", \"publisher\", \"publisher\", \"publisher\", \"publisher\", \"publisher\", \"quality\", \"quality\", \"quality\", \"quality\", \"quality\", \"quality\", \"quality\", \"quality\", \"quality\", \"quality\", \"quasar\", \"queensland\", \"quit\", \"quit\", \"quit\", \"quit\", \"quit\", \"quit\", \"quit\", \"r\", \"r\", \"r\", \"r\", \"r\", \"r\", \"r\", \"r\", \"r\", \"r\", \"rascal\", \"rate\", \"rate\", \"rate\", \"rate\", \"rate\", \"rate\", \"rate\", \"rate\", \"rate\", \"rate\", \"ratify\", \"ravindra\", \"raymond\", \"reas\", \"record\", \"record\", \"record\", \"record\", \"record\", \"record\", \"record\", \"record\", \"refurb\", \"regard\", \"regard\", \"regard\", \"regard\", \"regard\", \"regard\", \"regard\", \"regard\", \"regard\", \"relief\", \"relief\", \"relief\", \"relief\", \"relief\", \"relief\", \"relief\", \"remove\", \"remove\", \"remove\", \"remove\", \"remove\", \"remove\", \"remove\", \"remove\", \"remove\", \"remove\", \"renewabie\", \"replica\", \"replica\", \"replica\", \"replica\", \"reply\", \"reply\", \"reply\", \"reply\", \"reply\", \"reply\", \"reply\", \"reply\", \"reply\", \"reply\", \"report\", \"report\", \"report\", \"report\", \"report\", \"report\", \"report\", \"report\", \"report\", \"report\", \"respecter\", \"retailler\", \"rfid\", \"rgsa\", \"rien\", \"risk\", \"risk\", \"risk\", \"risk\", \"risk\", \"risk\", \"risk\", \"risk\", \"risk\", \"river\", \"river\", \"river\", \"river\", \"river\", \"river\", \"rnd\", \"rnd\", \"rnd\", \"rnd\", \"rnd\", \"rnd\", \"robotics\", \"robotics\", \"robotics\", \"rolex\", \"rolex\", \"rolex\", \"rolex\", \"rolex\", \"rolex\", \"rolex\", \"roxanne\", \"roxanne\", \"saave\", \"saf\", \"said\", \"said\", \"said\", \"said\", \"said\", \"said\", \"said\", \"said\", \"said\", \"sale\", \"sale\", \"sale\", \"sale\", \"sale\", \"sale\", \"sale\", \"sale\", \"sale\", \"sale\", \"sans\", \"sans\", \"sans\", \"sans\", \"save\", \"save\", \"save\", \"save\", \"save\", \"save\", \"save\", \"save\", \"save\", \"save\", \"schoolyard\", \"scrap\", \"sec\", \"sec\", \"sec\", \"security\", \"security\", \"security\", \"security\", \"security\", \"security\", \"security\", \"security\", \"security\", \"security\", \"semen\", \"semen\", \"server\", \"server\", \"server\", \"server\", \"server\", \"server\", \"server\", \"service\", \"service\", \"service\", \"service\", \"service\", \"service\", \"service\", \"service\", \"service\", \"service\", \"shah\", \"share\", \"share\", \"share\", \"share\", \"share\", \"share\", \"share\", \"share\", \"share\", \"share\", \"shell\", \"shell\", \"shell\", \"shell\", \"sidebacks\", \"sie\", \"sigletos\", \"silicon\", \"silicon\", \"simulator\", \"sirius\", \"sirius\", \"site\", \"site\", \"site\", \"site\", \"site\", \"site\", \"site\", \"site\", \"site\", \"site\", \"siz\", \"size\", \"size\", \"size\", \"size\", \"size\", \"size\", \"size\", \"size\", \"size\", \"size\", \"skelaxin\", \"smoke\", \"smoke\", \"smoke\", \"smoker\", \"sofftwaares\", \"sofftwaares\", \"soft\", \"soft\", \"soft\", \"soft\", \"soft\", \"soft\", \"soft\", \"soft\", \"soft\", \"software\", \"software\", \"software\", \"software\", \"software\", \"software\", \"software\", \"software\", \"software\", \"software\", \"soma\", \"soma\", \"soma\", \"soma\", \"soma\", \"soma\", \"soma\", \"someone\", \"someone\", \"someone\", \"someone\", \"someone\", \"someone\", \"someone\", \"someone\", \"sony\", \"sony\", \"sony\", \"sony\", \"sony\", \"source\", \"source\", \"source\", \"source\", \"source\", \"source\", \"source\", \"source\", \"source\", \"source\", \"spacer\", \"spanbr\", \"spank\", \"speaker\", \"speaker\", \"special\", \"special\", \"special\", \"special\", \"special\", \"special\", \"special\", \"special\", \"special\", \"special\", \"speculative\", \"speculative\", \"speculative\", \"speculative\", \"speculative\", \"speculative\", \"speedway\", \"sport\", \"sport\", \"sport\", \"sport\", \"sport\", \"spouse\", \"spouse\", \"spur\", \"spur\", \"spur\", \"src\", \"src\", \"src\", \"src\", \"src\", \"src\", \"statement\", \"statement\", \"statement\", \"statement\", \"statement\", \"statement\", \"statement\", \"statement\", \"statement\", \"statement\", \"statesman\", \"statesman\", \"stock\", \"stock\", \"stock\", \"stock\", \"stock\", \"stock\", \"stock\", \"stock\", \"stock\", \"stock\", \"story\", \"story\", \"story\", \"story\", \"story\", \"story\", \"story\", \"strong\", \"strong\", \"strong\", \"strong\", \"strong\", \"strong\", \"strong\", \"strong\", \"strong\", \"strongfont\", \"strongstrongemfont\", \"structural\", \"structural\", \"style\", \"style\", \"style\", \"style\", \"style\", \"style\", \"style\", \"style\", \"subject\", \"subject\", \"subject\", \"subject\", \"subject\", \"subject\", \"subject\", \"subject\", \"subject\", \"subject\", \"suggestion\", \"suggestion\", \"suggestion\", \"suggestion\", \"suppresses\", \"tab\", \"tab\", \"tab\", \"tab\", \"tab\", \"table\", \"table\", \"table\", \"table\", \"table\", \"table\", \"table\", \"tadalafil\", \"tadalafil\", \"target\", \"target\", \"target\", \"target\", \"target\", \"target\", \"target\", \"target\", \"target\", \"targus\", \"targus\", \"targus\", \"tax\", \"tax\", \"tax\", \"tax\", \"tax\", \"td\", \"td\", \"td\", \"td\", \"td\", \"td\", \"td\", \"td\", \"td\", \"td\", \"techlite\", \"techlite\", \"technoiogies\", \"technoiogies\", \"technology\", \"technology\", \"technology\", \"technology\", \"technology\", \"technology\", \"technology\", \"technology\", \"technology\", \"technology\", \"teen\", \"teen\", \"teen\", \"teen\", \"teen\", \"teen\", \"tenuate\", \"tester\", \"text\", \"text\", \"text\", \"text\", \"text\", \"text\", \"text\", \"text\", \"th\", \"th\", \"th\", \"th\", \"th\", \"th\", \"th\", \"th\", \"th\", \"th\", \"thing\", \"thing\", \"thing\", \"thing\", \"thing\", \"thing\", \"thing\", \"thing\", \"thing\", \"thing\", \"tiger\", \"tim\", \"time\", \"time\", \"time\", \"time\", \"time\", \"time\", \"time\", \"time\", \"time\", \"time\", \"tirr\", \"tirr\", \"title\", \"title\", \"title\", \"title\", \"title\", \"title\", \"title\", \"title\", \"togs\", \"tol\", \"toshiba\", \"toshiba\", \"toshiba\", \"toshiba\", \"toshiba\", \"towards\", \"towards\", \"tr\", \"tr\", \"tr\", \"tr\", \"tr\", \"tr\", \"tr\", \"tr\", \"tr\", \"tracker\", \"tradestar\", \"tradestar\", \"tramadol\", \"tramadol\", \"tramadol\", \"transmission\", \"tras\", \"trivia\", \"trivia\", \"trivia\", \"troop\", \"u\", \"u\", \"u\", \"u\", \"u\", \"u\", \"u\", \"u\", \"u\", \"u\", \"uae\", \"uae\", \"uae\", \"uae\", \"udve\", \"ultram\", \"ultram\", \"undergroundcd\", \"une\", \"upwards\", \"ur\", \"ur\", \"ur\", \"ur\", \"ur\", \"ur\", \"usr\", \"v\", \"v\", \"v\", \"v\", \"v\", \"v\", \"v\", \"v\", \"v\", \"v\", \"vacheron\", \"vaiium\", \"valign\", \"valign\", \"valign\", \"valign\", \"valtrex\", \"vandenberg\", \"verdana\", \"verdana\", \"versionsfeatures\", \"viagra\", \"viagra\", \"viagra\", \"viagra\", \"viagra\", \"viagra\", \"viagra\", \"viagra\", \"viagra\", \"vicodin\", \"vicodin\", \"vicodin\", \"vicodin\", \"vicodin\", \"vicodin\", \"viewsonic\", \"viewsonic\", \"viewsonic\", \"visit\", \"visit\", \"visit\", \"visit\", \"visit\", \"visit\", \"visit\", \"visit\", \"visit\", \"vocalscape\", \"voip\", \"voip\", \"voip\", \"voip\", \"voip\", \"voip\", \"voip\", \"voip\", \"vous\", \"vous\", \"want\", \"want\", \"want\", \"want\", \"want\", \"want\", \"want\", \"want\", \"want\", \"want\", \"waste\", \"waste\", \"waste\", \"waste\", \"waste\", \"wasting\", \"watch\", \"watch\", \"watch\", \"watch\", \"watch\", \"watch\", \"watch\", \"watch\", \"watch\", \"watching\", \"watching\", \"watching\", \"weapon\", \"wedelmusic\", \"weightloss\", \"wein\", \"wellbutrin\", \"western\", \"western\", \"western\", \"western\", \"wgr\", \"widely\", \"width\", \"width\", \"width\", \"width\", \"width\", \"width\", \"width\", \"width\", \"width\", \"wife\", \"wife\", \"wife\", \"wife\", \"wife\", \"wife\", \"wife\", \"wind\", \"wind\", \"wind\", \"wind\", \"wind\", \"wind\", \"window\", \"window\", \"window\", \"window\", \"window\", \"window\", \"window\", \"window\", \"window\", \"window\", \"wink\", \"within\", \"within\", \"within\", \"within\", \"within\", \"within\", \"within\", \"within\", \"within\", \"within\", \"wlndows\", \"wmb\", \"word\", \"word\", \"word\", \"word\", \"word\", \"word\", \"word\", \"word\", \"work\", \"work\", \"work\", \"work\", \"work\", \"work\", \"work\", \"work\", \"work\", \"work\", \"worldexpo\", \"wouid\", \"wowgao\", \"www\", \"www\", \"www\", \"www\", \"www\", \"www\", \"www\", \"www\", \"www\", \"www\", \"wyoming\", \"wyoming\", \"wysak\", \"wysk\", \"x\", \"x\", \"x\", \"x\", \"x\", \"x\", \"x\", \"x\", \"x\", \"x\", \"xanax\", \"xanax\", \"xanax\", \"xanax\", \"xanax\", \"xanax\", \"xanax\", \"xanax\", \"xanax\", \"xm\", \"xm\", \"xm\", \"xom\", \"xp\", \"xp\", \"xp\", \"xp\", \"xp\", \"xp\", \"xp\", \"xp\", \"yap\", \"yap\", \"year\", \"year\", \"year\", \"year\", \"year\", \"year\", \"year\", \"year\", \"year\", \"year\", \"young\", \"young\", \"young\", \"young\", \"young\", \"young\", \"young\", \"young\", \"ypil\", \"zonedubai\", \"zonedubai\", \"zonedubai\", \"zwallet\"]}, \"R\": 30, \"lambda.step\": 0.01, \"plot.opts\": {\"xlab\": \"PC1\", \"ylab\": \"PC2\"}, \"topic.order\": [8, 5, 4, 3, 2, 7, 1, 9, 10, 6]};\n",
              "\n",
              "function LDAvis_load_lib(url, callback){\n",
              "  var s = document.createElement('script');\n",
              "  s.src = url;\n",
              "  s.async = true;\n",
              "  s.onreadystatechange = s.onload = callback;\n",
              "  s.onerror = function(){console.warn(\"failed to load library \" + url);};\n",
              "  document.getElementsByTagName(\"head\")[0].appendChild(s);\n",
              "}\n",
              "\n",
              "if(typeof(LDAvis) !== \"undefined\"){\n",
              "   // already loaded: just create the visualization\n",
              "   !function(LDAvis){\n",
              "       new LDAvis(\"#\" + \"ldavis_el6131320193825897449909209484\", ldavis_el6131320193825897449909209484_data);\n",
              "   }(LDAvis);\n",
              "}else if(typeof define === \"function\" && define.amd){\n",
              "   // require.js is available: use it to load d3/LDAvis\n",
              "   require.config({paths: {d3: \"https://d3js.org/d3.v5\"}});\n",
              "   require([\"d3\"], function(d3){\n",
              "      window.d3 = d3;\n",
              "      LDAvis_load_lib(\"https://cdn.jsdelivr.net/gh/bmabey/pyLDAvis@3.4.0/pyLDAvis/js/ldavis.v3.0.0.js\", function(){\n",
              "        new LDAvis(\"#\" + \"ldavis_el6131320193825897449909209484\", ldavis_el6131320193825897449909209484_data);\n",
              "      });\n",
              "    });\n",
              "}else{\n",
              "    // require.js not available: dynamically load d3 & LDAvis\n",
              "    LDAvis_load_lib(\"https://d3js.org/d3.v5.js\", function(){\n",
              "         LDAvis_load_lib(\"https://cdn.jsdelivr.net/gh/bmabey/pyLDAvis@3.4.0/pyLDAvis/js/ldavis.v3.0.0.js\", function(){\n",
              "                 new LDAvis(\"#\" + \"ldavis_el6131320193825897449909209484\", ldavis_el6131320193825897449909209484_data);\n",
              "            })\n",
              "         });\n",
              "}\n",
              "</script>"
            ]
          },
          "metadata": {},
          "execution_count": 36
        }
      ]
    },
    {
      "cell_type": "markdown",
      "source": [
        "# Inference"
      ],
      "metadata": {
        "id": "DLfahqmJ3zqR"
      }
    },
    {
      "cell_type": "code",
      "source": [
        "unseen_email = 'I am sending a pec which has legal value'\n",
        "\n",
        "document = dictionary.doc2bow(simple_preprocess(unseen_email))\n",
        "for i, score in (lda_model[document]):\n",
        "  print('Topic: ' + str(i))\n",
        "  print('Score: ' + str(score))\n",
        "\n",
        "top_topic = max(lda_model[document], key= lambda x: x[1])\n",
        "print(f'\\nTop Score Topic: {top_topic[0]}')\n",
        "print(f'Score: {top_topic[1]:.2f}')"
      ],
      "metadata": {
        "colab": {
          "base_uri": "https://localhost:8080/"
        },
        "id": "RGYdRX9c31QZ",
        "outputId": "7b1fbd98-75c0-445a-d220-ed6e1503114f"
      },
      "execution_count": null,
      "outputs": [
        {
          "output_type": "stream",
          "name": "stdout",
          "text": [
            "Topic: 0\n",
            "Score: 0.025016518\n",
            "Topic: 1\n",
            "Score: 0.025016677\n",
            "Topic: 2\n",
            "Score: 0.025017167\n",
            "Topic: 3\n",
            "Score: 0.025017414\n",
            "Topic: 4\n",
            "Score: 0.7748454\n",
            "Topic: 5\n",
            "Score: 0.025015784\n",
            "Topic: 6\n",
            "Score: 0.025016788\n",
            "Topic: 7\n",
            "Score: 0.025020206\n",
            "Topic: 8\n",
            "Score: 0.02501861\n",
            "Topic: 9\n",
            "Score: 0.025015436\n",
            "\n",
            "Top Score Topic: 4\n",
            "Score: 0.77\n"
          ]
        }
      ]
    },
    {
      "cell_type": "code",
      "source": [
        "unseen_email = 'I have to go shopping and I am going to the new market to see if the prices are affordable'\n",
        "\n",
        "document = dictionary.doc2bow(simple_preprocess(unseen_email))\n",
        "for i, score in (lda_model[document]):\n",
        "  print('Topic: ' + str(i))\n",
        "  print('Score: ' + str(score))\n",
        "\n",
        "top_topic = max(lda_model[document], key= lambda x: x[1])\n",
        "print(f'\\nTop Score Topic: {top_topic[0]}')\n",
        "print(f'Score: {top_topic[1]:.2f}')"
      ],
      "metadata": {
        "colab": {
          "base_uri": "https://localhost:8080/"
        },
        "id": "HIaunv344kHP",
        "outputId": "2a1a7c2c-6f83-4e9b-b519-5559f330e6f2"
      },
      "execution_count": null,
      "outputs": [
        {
          "output_type": "stream",
          "name": "stdout",
          "text": [
            "Topic: 0\n",
            "Score: 0.012504692\n",
            "Topic: 1\n",
            "Score: 0.34069726\n",
            "Topic: 2\n",
            "Score: 0.012505862\n",
            "Topic: 3\n",
            "Score: 0.012506807\n",
            "Topic: 4\n",
            "Score: 0.01250788\n",
            "Topic: 5\n",
            "Score: 0.012505715\n",
            "Topic: 6\n",
            "Score: 0.0125062205\n",
            "Topic: 7\n",
            "Score: 0.5592532\n",
            "Topic: 8\n",
            "Score: 0.012507576\n",
            "Topic: 9\n",
            "Score: 0.012504758\n",
            "\n",
            "Top Score Topic: 7\n",
            "Score: 0.56\n"
          ]
        }
      ]
    },
    {
      "cell_type": "code",
      "source": [
        "unseen_email = '12I tried sending him an e-mail, a pec and I tried calling him on the phone... now im trying with message SMS!!'\n",
        "\n",
        "document = dictionary.doc2bow(simple_preprocess(unseen_email))\n",
        "for i, score in (lda_model[document]):\n",
        "  print('Topic: ' + str(i))\n",
        "  print('Score: ' + str(score))\n",
        "\n",
        "top_topic = max(lda_model[document], key= lambda x: x[1])\n",
        "print(f'\\nTop Score Topic: {top_topic[0]}')\n",
        "print(f'Score: {top_topic[1]:.2f}')"
      ],
      "metadata": {
        "colab": {
          "base_uri": "https://localhost:8080/"
        },
        "id": "djcVuUGW5D6k",
        "outputId": "d413ee2e-bce1-4d4b-c092-b8380fa4f5e4"
      },
      "execution_count": null,
      "outputs": [
        {
          "output_type": "stream",
          "name": "stdout",
          "text": [
            "Topic: 0\n",
            "Score: 0.010010403\n",
            "Topic: 1\n",
            "Score: 0.010012115\n",
            "Topic: 2\n",
            "Score: 0.27991244\n",
            "Topic: 3\n",
            "Score: 0.010010978\n",
            "Topic: 4\n",
            "Score: 0.41918623\n",
            "Topic: 5\n",
            "Score: 0.23082274\n",
            "Topic: 6\n",
            "Score: 0.010011439\n",
            "Topic: 7\n",
            "Score: 0.0100110145\n",
            "Topic: 8\n",
            "Score: 0.010012642\n",
            "Topic: 9\n",
            "Score: 0.010010042\n",
            "\n",
            "Top Score Topic: 4\n",
            "Score: 0.42\n"
          ]
        }
      ]
    },
    {
      "cell_type": "markdown",
      "source": [
        "# Semantic Distance between topics -> SPAM EMAILS"
      ],
      "metadata": {
        "id": "0Kq3cFYTBxkV"
      }
    },
    {
      "cell_type": "code",
      "source": [
        "topic_vectors = [] #create an empty list to store vectors\n",
        "for topic_id in range(10): #10 are num_topics\n",
        "  terms = lda_model.get_topic_terms(topic_id, topn=100) # obtain 100 most frequent words\n",
        "  vector = np.zeros(len(dictionary))\n",
        "\n",
        "  for word_id , weight in terms:\n",
        "    vector[word_id] = weight #Assigns the weight of the word in the vector\n",
        "  topic_vectors.append(vector)"
      ],
      "metadata": {
        "id": "yt6cW4HftiVB"
      },
      "execution_count": null,
      "outputs": []
    },
    {
      "cell_type": "code",
      "source": [
        "similarity_matrix = np.zeros((10,10))\n",
        "\n",
        "for i in range(10): #10 are num_topics\n",
        "  for j in range(10): #10 are num_topics\n",
        "    if i!= j:\n",
        "     similarity_matrix[i, j] = 1 - cosine(topic_vectors[i], topic_vectors[j])\n",
        "\n",
        "plt.figure(figsize=(12,6))\n",
        "sns.heatmap(similarity_matrix, annot=True, cmap='coolwarm',\n",
        "            xticklabels=[f'Topic {i}' for i in range(10)],\n",
        "            yticklabels=[f'Topic {i}' for i in range(10)])\n",
        "plt.title('Topic Similarity (1 - Cosine Distance)', fontsize = 14)\n",
        "plt.show()"
      ],
      "metadata": {
        "colab": {
          "base_uri": "https://localhost:8080/",
          "height": 546
        },
        "id": "URa1ckCjCm2C",
        "outputId": "a24a63e6-300b-4f4b-e79a-2ff83a973c78"
      },
      "execution_count": null,
      "outputs": [
        {
          "output_type": "display_data",
          "data": {
            "text/plain": [
              "<Figure size 1200x600 with 2 Axes>"
            ],
            "image/png": "[encoded data removed]"
          },
          "metadata": {}
        }
      ]
    },
    {
      "cell_type": "markdown",
      "source": [
        "1. Values close to 1 indicate very similar topics (red, orange and lightgrey)\n",
        "\n",
        "2. Values close to 0 indicate not very similar topics(blue, lightblue)"
      ],
      "metadata": {
        "id": "2RUajP2LDg6O"
      }
    },
    {
      "cell_type": "markdown",
      "source": [
        "# Extracting information about the mentioned organizations from the NON SPAM emails."
      ],
      "metadata": {
        "id": "EBXRLgHYHTI-"
      }
    },
    {
      "cell_type": "code",
      "source": [
        "import spacy\n",
        "nlp = spacy.load('en_core_web_sm')\n",
        "\n",
        "# set ham emails dataset\n",
        "ham_emails = dataset[dataset['label'] == 0]['text']\n",
        "\n",
        "ham_emails"
      ],
      "metadata": {
        "id": "0wmCQxUktm56",
        "colab": {
          "base_uri": "https://localhost:8080/",
          "height": 458
        },
        "outputId": "a026ca8f-961a-4ea9-e3dc-fe4b1dc5016a"
      },
      "execution_count": null,
      "outputs": [
        {
          "output_type": "execute_result",
          "data": {
            "text/plain": [
              "605     subject enron methanol meter follow note gave ...\n",
              "2349    subject hpl nom january see attached file hpln...\n",
              "3624    subject neon retreat ho ho ho around wonderful...\n",
              "2030    subject indian spring deal book teco pvr reven...\n",
              "2949    subject ehronline web address change message i...\n",
              "                              ...                        \n",
              "1428    subject meter august allocation exception cono...\n",
              "2849    subject fw crosstex energy driscoll ranch mete...\n",
              "1518    subject put ft transport volume decreased cont...\n",
              "404     subject following noms hpl take extra mmcf wee...\n",
              "1409    subject industrial worksheet august activity a...\n",
              "Name: text, Length: 3531, dtype: object"
            ],
            "text/html": [
              "<div>\n",
              "<style scoped>\n",
              "    .dataframe tbody tr th:only-of-type {\n",
              "        vertical-align: middle;\n",
              "    }\n",
              "\n",
              "    .dataframe tbody tr th {\n",
              "        vertical-align: top;\n",
              "    }\n",
              "\n",
              "    .dataframe thead th {\n",
              "        text-align: right;\n",
              "    }\n",
              "</style>\n",
              "<table border=\"1\" class=\"dataframe\">\n",
              "  <thead>\n",
              "    <tr style=\"text-align: right;\">\n",
              "      <th></th>\n",
              "      <th>text</th>\n",
              "    </tr>\n",
              "  </thead>\n",
              "  <tbody>\n",
              "    <tr>\n",
              "      <th>605</th>\n",
              "      <td>subject enron methanol meter follow note gave ...</td>\n",
              "    </tr>\n",
              "    <tr>\n",
              "      <th>2349</th>\n",
              "      <td>subject hpl nom january see attached file hpln...</td>\n",
              "    </tr>\n",
              "    <tr>\n",
              "      <th>3624</th>\n",
              "      <td>subject neon retreat ho ho ho around wonderful...</td>\n",
              "    </tr>\n",
              "    <tr>\n",
              "      <th>2030</th>\n",
              "      <td>subject indian spring deal book teco pvr reven...</td>\n",
              "    </tr>\n",
              "    <tr>\n",
              "      <th>2949</th>\n",
              "      <td>subject ehronline web address change message i...</td>\n",
              "    </tr>\n",
              "    <tr>\n",
              "      <th>...</th>\n",
              "      <td>...</td>\n",
              "    </tr>\n",
              "    <tr>\n",
              "      <th>1428</th>\n",
              "      <td>subject meter august allocation exception cono...</td>\n",
              "    </tr>\n",
              "    <tr>\n",
              "      <th>2849</th>\n",
              "      <td>subject fw crosstex energy driscoll ranch mete...</td>\n",
              "    </tr>\n",
              "    <tr>\n",
              "      <th>1518</th>\n",
              "      <td>subject put ft transport volume decreased cont...</td>\n",
              "    </tr>\n",
              "    <tr>\n",
              "      <th>404</th>\n",
              "      <td>subject following noms hpl take extra mmcf wee...</td>\n",
              "    </tr>\n",
              "    <tr>\n",
              "      <th>1409</th>\n",
              "      <td>subject industrial worksheet august activity a...</td>\n",
              "    </tr>\n",
              "  </tbody>\n",
              "</table>\n",
              "<p>3531 rows × 1 columns</p>\n",
              "</div><br><label><b>dtype:</b> object</label>"
            ]
          },
          "metadata": {},
          "execution_count": 45
        }
      ]
    },
    {
      "cell_type": "code",
      "source": [
        "def entities(email):\n",
        "  to_return = {'ORG':[]}\n",
        "  doc = nlp(email)\n",
        "  for ent in doc.ents:\n",
        "    if ent.label_ == 'ORG':\n",
        "      to_return['ORG'].append((ent.text))\n",
        "  return to_return"
      ],
      "metadata": {
        "id": "w2_Hsq6iI1UB"
      },
      "execution_count": null,
      "outputs": []
    },
    {
      "cell_type": "code",
      "source": [
        "organizations = ham_emails.apply(entities)\n",
        "print(organizations)"
      ],
      "metadata": {
        "colab": {
          "base_uri": "https://localhost:8080/"
        },
        "id": "t-OAV9qFgxmD",
        "outputId": "aac40cb5-ea01-422c-ca82-51e122750ce6"
      },
      "execution_count": null,
      "outputs": [
        {
          "output_type": "stream",
          "name": "stdout",
          "text": [
            "605                                           {'ORG': []}\n",
            "2349                                          {'ORG': []}\n",
            "3624                            {'ORG': ['shop antique']}\n",
            "2030                                          {'ORG': []}\n",
            "2949                                          {'ORG': []}\n",
            "                              ...                        \n",
            "1428    {'ORG': ['aware daily', 'pat clynes corp enron...\n",
            "2849    {'ORG': ['subject fw crosstex energy driscoll ...\n",
            "1518                      {'ORG': ['chokshi corp enron']}\n",
            "404                                     {'ORG': ['noms']}\n",
            "1409                                          {'ORG': []}\n",
            "Name: text, Length: 3531, dtype: object\n"
          ]
        }
      ]
    },
    {
      "cell_type": "code",
      "source": [
        "email = 'Google and Microsoft are working together on AI research.'\n",
        "\n",
        "entities(email)"
      ],
      "metadata": {
        "colab": {
          "base_uri": "https://localhost:8080/"
        },
        "id": "rWawfS1Ch2lc",
        "outputId": "36b97cf4-070f-42b0-a91e-800d5970e228"
      },
      "execution_count": null,
      "outputs": [
        {
          "output_type": "execute_result",
          "data": {
            "text/plain": [
              "{'ORG': ['Google', 'Microsoft', 'AI']}"
            ]
          },
          "metadata": {},
          "execution_count": 51
        }
      ]
    },
    {
      "cell_type": "markdown",
      "source": [
        "# Final Conclusion\n",
        "\n",
        "This models (Logistic Regression and Complement Naive Bayes) can be detect and categorize all of the total spam emails.\n",
        "Some spam emails (33 for LR and 7 for CNB) are classified as ham.\n",
        "\n",
        "The models are considered to be quite efficient.\n",
        "\n",
        "So which model to choose?\n",
        "\n",
        "* If we want to reduce False Positive (FP) and have a more reliable system for the user : **Complement NB** is better.\n",
        "\n",
        "* If we want to catch every single spam emails, with more False Positive cases: **Logistic Regression** is better."
      ],
      "metadata": {
        "id": "1nUOrG1p4Eqc"
      }
    }
  ]
}